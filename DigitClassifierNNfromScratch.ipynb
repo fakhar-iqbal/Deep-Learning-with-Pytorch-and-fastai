{
  "nbformat": 4,
  "nbformat_minor": 0,
  "metadata": {
    "colab": {
      "provenance": [],
      "gpuType": "T4"
    },
    "kernelspec": {
      "name": "python3",
      "display_name": "Python 3"
    },
    "language_info": {
      "name": "python"
    },
    "accelerator": "GPU"
  },
  "cells": [
    {
      "cell_type": "code",
      "execution_count": 1,
      "metadata": {
        "colab": {
          "base_uri": "https://localhost:8080/"
        },
        "id": "Lot4UAK1dVre",
        "outputId": "af61abd8-099a-49f8-a012-14403c6a9aca"
      },
      "outputs": [
        {
          "output_type": "stream",
          "name": "stdout",
          "text": [
            "\u001b[2K     \u001b[90m━━━━━━━━━━━━━━━━━━━━━━━━━━━━━━━━━━━━━━\u001b[0m \u001b[32m719.8/719.8 kB\u001b[0m \u001b[31m13.3 MB/s\u001b[0m eta \u001b[36m0:00:00\u001b[0m\n",
            "\u001b[2K     \u001b[90m━━━━━━━━━━━━━━━━━━━━━━━━━━━━━━━━━━━━━━━━\u001b[0m \u001b[32m7.2/7.2 MB\u001b[0m \u001b[31m87.6 MB/s\u001b[0m eta \u001b[36m0:00:00\u001b[0m\n",
            "\u001b[2K     \u001b[90m━━━━━━━━━━━━━━━━━━━━━━━━━━━━━━━━━━━━━━\u001b[0m \u001b[32m486.2/486.2 kB\u001b[0m \u001b[31m47.1 MB/s\u001b[0m eta \u001b[36m0:00:00\u001b[0m\n",
            "\u001b[2K     \u001b[90m━━━━━━━━━━━━━━━━━━━━━━━━━━━━━━━━━━━━━━━━\u001b[0m \u001b[32m1.3/1.3 MB\u001b[0m \u001b[31m74.4 MB/s\u001b[0m eta \u001b[36m0:00:00\u001b[0m\n",
            "\u001b[2K     \u001b[90m━━━━━━━━━━━━━━━━━━━━━━━━━━━━━━━━━━━━━━\u001b[0m \u001b[32m110.5/110.5 kB\u001b[0m \u001b[31m15.1 MB/s\u001b[0m eta \u001b[36m0:00:00\u001b[0m\n",
            "\u001b[2K     \u001b[90m━━━━━━━━━━━━━━━━━━━━━━━━━━━━━━━━━━━━━━\u001b[0m \u001b[32m212.5/212.5 kB\u001b[0m \u001b[31m27.5 MB/s\u001b[0m eta \u001b[36m0:00:00\u001b[0m\n",
            "\u001b[2K     \u001b[90m━━━━━━━━━━━━━━━━━━━━━━━━━━━━━━━━━━━━━━\u001b[0m \u001b[32m134.3/134.3 kB\u001b[0m \u001b[31m18.8 MB/s\u001b[0m eta \u001b[36m0:00:00\u001b[0m\n",
            "\u001b[2K     \u001b[90m━━━━━━━━━━━━━━━━━━━━━━━━━━━━━━━━━━━━━━\u001b[0m \u001b[32m268.8/268.8 kB\u001b[0m \u001b[31m32.3 MB/s\u001b[0m eta \u001b[36m0:00:00\u001b[0m\n",
            "\u001b[2K     \u001b[90m━━━━━━━━━━━━━━━━━━━━━━━━━━━━━━━━━━━━━━━━\u001b[0m \u001b[32m7.8/7.8 MB\u001b[0m \u001b[31m78.6 MB/s\u001b[0m eta \u001b[36m0:00:00\u001b[0m\n",
            "\u001b[2K     \u001b[90m━━━━━━━━━━━━━━━━━━━━━━━━━━━━━━━━━━━━━━━━\u001b[0m \u001b[32m1.3/1.3 MB\u001b[0m \u001b[31m85.4 MB/s\u001b[0m eta \u001b[36m0:00:00\u001b[0m\n",
            "\u001b[2K     \u001b[90m━━━━━━━━━━━━━━━━━━━━━━━━━━━━━━━━━━━━━━━━\u001b[0m \u001b[32m1.6/1.6 MB\u001b[0m \u001b[31m94.1 MB/s\u001b[0m eta \u001b[36m0:00:00\u001b[0m\n",
            "\u001b[?25hMounted at /content/gdrive\n"
          ]
        }
      ],
      "source": [
        "!pip install -Uqq fastbook\n",
        "import fastbook\n",
        "fastbook.setup_book()"
      ]
    },
    {
      "cell_type": "code",
      "source": [
        "from fastbook import *"
      ],
      "metadata": {
        "id": "V12wqOi8d6Nk"
      },
      "execution_count": 2,
      "outputs": []
    },
    {
      "cell_type": "code",
      "source": [
        "path = untar_data(URLs.MNIST_SAMPLE)"
      ],
      "metadata": {
        "colab": {
          "base_uri": "https://localhost:8080/",
          "height": 37
        },
        "id": "UiHlo6tGd871",
        "outputId": "b13d0b0d-0f25-4e2c-be9b-3c9619b1539d"
      },
      "execution_count": 3,
      "outputs": [
        {
          "output_type": "display_data",
          "data": {
            "text/plain": [
              "<IPython.core.display.HTML object>"
            ],
            "text/html": [
              "\n",
              "<style>\n",
              "    /* Turns off some styling */\n",
              "    progress {\n",
              "        /* gets rid of default border in Firefox and Opera. */\n",
              "        border: none;\n",
              "        /* Needs to be in here for Safari polyfill so background images work as expected. */\n",
              "        background-size: auto;\n",
              "    }\n",
              "    progress:not([value]), progress:not([value])::-webkit-progress-bar {\n",
              "        background: repeating-linear-gradient(45deg, #7e7e7e, #7e7e7e 10px, #5c5c5c 10px, #5c5c5c 20px);\n",
              "    }\n",
              "    .progress-bar-interrupted, .progress-bar-interrupted::-webkit-progress-bar {\n",
              "        background: #F44336;\n",
              "    }\n",
              "</style>\n"
            ]
          },
          "metadata": {}
        },
        {
          "output_type": "display_data",
          "data": {
            "text/plain": [
              "<IPython.core.display.HTML object>"
            ],
            "text/html": [
              "\n",
              "    <div>\n",
              "      <progress value='3219456' class='' max='3214948' style='width:300px; height:20px; vertical-align: middle;'></progress>\n",
              "      100.14% [3219456/3214948 00:00&lt;00:00]\n",
              "    </div>\n",
              "    "
            ]
          },
          "metadata": {}
        }
      ]
    },
    {
      "cell_type": "code",
      "source": [
        "path.ls()"
      ],
      "metadata": {
        "colab": {
          "base_uri": "https://localhost:8080/"
        },
        "id": "NnBovzl1eH7m",
        "outputId": "4b0503ce-bdef-445d-ffca-79667436b6fa"
      },
      "execution_count": 4,
      "outputs": [
        {
          "output_type": "execute_result",
          "data": {
            "text/plain": [
              "(#3) [Path('/root/.fastai/data/mnist_sample/train'),Path('/root/.fastai/data/mnist_sample/valid'),Path('/root/.fastai/data/mnist_sample/labels.csv')]"
            ]
          },
          "metadata": {},
          "execution_count": 4
        }
      ]
    },
    {
      "cell_type": "code",
      "source": [
        "(path/'train').ls()"
      ],
      "metadata": {
        "colab": {
          "base_uri": "https://localhost:8080/"
        },
        "id": "yu08Dl8VeNB_",
        "outputId": "1555e474-baa9-450b-b3c6-dcd1abd85aa0"
      },
      "execution_count": 5,
      "outputs": [
        {
          "output_type": "execute_result",
          "data": {
            "text/plain": [
              "(#2) [Path('/root/.fastai/data/mnist_sample/train/3'),Path('/root/.fastai/data/mnist_sample/train/7')]"
            ]
          },
          "metadata": {},
          "execution_count": 5
        }
      ]
    },
    {
      "cell_type": "code",
      "source": [
        "threes = (path/'train'/'3').ls().sorted()\n",
        "sevens = (path/'train'/'7').ls().sorted()\n",
        "threes"
      ],
      "metadata": {
        "colab": {
          "base_uri": "https://localhost:8080/"
        },
        "id": "juRz48EmerGJ",
        "outputId": "8f3bd19e-c6c3-4347-dc25-4d1a67e01a0d"
      },
      "execution_count": 6,
      "outputs": [
        {
          "output_type": "execute_result",
          "data": {
            "text/plain": [
              "(#6131) [Path('/root/.fastai/data/mnist_sample/train/3/10.png'),Path('/root/.fastai/data/mnist_sample/train/3/10000.png'),Path('/root/.fastai/data/mnist_sample/train/3/10011.png'),Path('/root/.fastai/data/mnist_sample/train/3/10031.png'),Path('/root/.fastai/data/mnist_sample/train/3/10034.png'),Path('/root/.fastai/data/mnist_sample/train/3/10042.png'),Path('/root/.fastai/data/mnist_sample/train/3/10052.png'),Path('/root/.fastai/data/mnist_sample/train/3/1007.png'),Path('/root/.fastai/data/mnist_sample/train/3/10074.png'),Path('/root/.fastai/data/mnist_sample/train/3/10091.png')...]"
            ]
          },
          "metadata": {},
          "execution_count": 6
        }
      ]
    },
    {
      "cell_type": "code",
      "source": [
        "im3 = threes[0]\n",
        "im= Image.open(im3)\n",
        "im.to_thumb(224)"
      ],
      "metadata": {
        "colab": {
          "base_uri": "https://localhost:8080/",
          "height": 45
        },
        "id": "wjUQovCzfIMD",
        "outputId": "8bda2dd4-6dbb-4d58-97c4-e4d5b193bf33"
      },
      "execution_count": 7,
      "outputs": [
        {
          "output_type": "execute_result",
          "data": {
            "text/plain": [
              "<PIL.Image.Image image mode=L size=28x28>"
            ],
            "image/png": "[encoded data removed]"
          },
          "metadata": {},
          "execution_count": 7
        }
      ]
    },
    {
      "cell_type": "code",
      "source": [
        "array(im)[4:10,10:16]"
      ],
      "metadata": {
        "colab": {
          "base_uri": "https://localhost:8080/"
        },
        "id": "3GDicKNJfv13",
        "outputId": "c5293250-baad-49da-9f40-3733bd54e11e"
      },
      "execution_count": 8,
      "outputs": [
        {
          "output_type": "execute_result",
          "data": {
            "text/plain": [
              "array([[  0,  42, 118, 219, 166, 118],\n",
              "       [103, 242, 254, 254, 254, 254],\n",
              "       [ 18, 232, 254, 254, 254, 254],\n",
              "       [  0, 104, 244, 254, 224, 254],\n",
              "       [  0,   0, 207, 254, 210, 254],\n",
              "       [  0,   0,  84, 206, 254, 254]], dtype=uint8)"
            ]
          },
          "metadata": {},
          "execution_count": 8
        }
      ]
    },
    {
      "cell_type": "code",
      "source": [
        "tensor(im)[4:10,10:16]"
      ],
      "metadata": {
        "colab": {
          "base_uri": "https://localhost:8080/"
        },
        "id": "eav-_JPAgm4T",
        "outputId": "83f4966d-13a4-4ef6-fb3f-acdf73afea5a"
      },
      "execution_count": 9,
      "outputs": [
        {
          "output_type": "execute_result",
          "data": {
            "text/plain": [
              "tensor([[  0,  42, 118, 219, 166, 118],\n",
              "        [103, 242, 254, 254, 254, 254],\n",
              "        [ 18, 232, 254, 254, 254, 254],\n",
              "        [  0, 104, 244, 254, 224, 254],\n",
              "        [  0,   0, 207, 254, 210, 254],\n",
              "        [  0,   0,  84, 206, 254, 254]], dtype=torch.uint8)"
            ]
          },
          "metadata": {},
          "execution_count": 9
        }
      ]
    },
    {
      "cell_type": "code",
      "source": [
        "im3_t = array(im)\n",
        "df = pd.DataFrame(im3_t[4:15,4:22])\n",
        "df.style.set_properties(**{'font-size':'6pt'}).background_gradient('Greys')"
      ],
      "metadata": {
        "colab": {
          "base_uri": "https://localhost:8080/",
          "height": 394
        },
        "id": "hP12N9rChaal",
        "outputId": "2b14d727-0e85-430a-dc6b-5de3cd590a8b"
      },
      "execution_count": 10,
      "outputs": [
        {
          "output_type": "execute_result",
          "data": {
            "text/plain": [
              "<pandas.io.formats.style.Styler at 0x7a97c100afb0>"
            ],
            "text/html": [
              "<style type=\"text/css\">\n",
              "#T_a6fdd_row0_col0, #T_a6fdd_row0_col1, #T_a6fdd_row0_col2, #T_a6fdd_row0_col3, #T_a6fdd_row0_col4, #T_a6fdd_row0_col5, #T_a6fdd_row0_col6, #T_a6fdd_row0_col10, #T_a6fdd_row0_col11, #T_a6fdd_row0_col12, #T_a6fdd_row0_col13, #T_a6fdd_row0_col14, #T_a6fdd_row0_col15, #T_a6fdd_row0_col16, #T_a6fdd_row0_col17, #T_a6fdd_row1_col0, #T_a6fdd_row1_col1, #T_a6fdd_row1_col2, #T_a6fdd_row1_col3, #T_a6fdd_row1_col4, #T_a6fdd_row1_col5, #T_a6fdd_row1_col14, #T_a6fdd_row1_col15, #T_a6fdd_row1_col16, #T_a6fdd_row1_col17, #T_a6fdd_row2_col0, #T_a6fdd_row2_col1, #T_a6fdd_row2_col2, #T_a6fdd_row2_col3, #T_a6fdd_row2_col4, #T_a6fdd_row2_col5, #T_a6fdd_row2_col15, #T_a6fdd_row2_col16, #T_a6fdd_row2_col17, #T_a6fdd_row3_col0, #T_a6fdd_row3_col1, #T_a6fdd_row3_col2, #T_a6fdd_row3_col3, #T_a6fdd_row3_col4, #T_a6fdd_row3_col5, #T_a6fdd_row3_col6, #T_a6fdd_row3_col15, #T_a6fdd_row3_col16, #T_a6fdd_row3_col17, #T_a6fdd_row4_col0, #T_a6fdd_row4_col1, #T_a6fdd_row4_col2, #T_a6fdd_row4_col3, #T_a6fdd_row4_col4, #T_a6fdd_row4_col5, #T_a6fdd_row4_col6, #T_a6fdd_row4_col7, #T_a6fdd_row4_col15, #T_a6fdd_row4_col16, #T_a6fdd_row4_col17, #T_a6fdd_row5_col0, #T_a6fdd_row5_col1, #T_a6fdd_row5_col2, #T_a6fdd_row5_col3, #T_a6fdd_row5_col4, #T_a6fdd_row5_col5, #T_a6fdd_row5_col6, #T_a6fdd_row5_col7, #T_a6fdd_row5_col15, #T_a6fdd_row5_col16, #T_a6fdd_row5_col17, #T_a6fdd_row6_col0, #T_a6fdd_row6_col1, #T_a6fdd_row6_col2, #T_a6fdd_row6_col3, #T_a6fdd_row6_col4, #T_a6fdd_row6_col5, #T_a6fdd_row6_col6, #T_a6fdd_row6_col7, #T_a6fdd_row6_col8, #T_a6fdd_row6_col9, #T_a6fdd_row6_col15, #T_a6fdd_row6_col16, #T_a6fdd_row6_col17, #T_a6fdd_row7_col0, #T_a6fdd_row7_col1, #T_a6fdd_row7_col2, #T_a6fdd_row7_col3, #T_a6fdd_row7_col4, #T_a6fdd_row7_col5, #T_a6fdd_row7_col6, #T_a6fdd_row7_col7, #T_a6fdd_row7_col15, #T_a6fdd_row7_col16, #T_a6fdd_row7_col17, #T_a6fdd_row8_col0, #T_a6fdd_row8_col1, #T_a6fdd_row8_col2, #T_a6fdd_row8_col3, #T_a6fdd_row8_col4, #T_a6fdd_row8_col5, #T_a6fdd_row8_col15, #T_a6fdd_row8_col16, #T_a6fdd_row8_col17, #T_a6fdd_row9_col0, #T_a6fdd_row9_col1, #T_a6fdd_row9_col2, #T_a6fdd_row9_col3, #T_a6fdd_row9_col4, #T_a6fdd_row9_col5, #T_a6fdd_row9_col15, #T_a6fdd_row9_col16, #T_a6fdd_row9_col17, #T_a6fdd_row10_col0, #T_a6fdd_row10_col1, #T_a6fdd_row10_col2, #T_a6fdd_row10_col3, #T_a6fdd_row10_col4, #T_a6fdd_row10_col5, #T_a6fdd_row10_col6, #T_a6fdd_row10_col15, #T_a6fdd_row10_col16, #T_a6fdd_row10_col17 {\n",
              "  font-size: 6pt;\n",
              "  background-color: #ffffff;\n",
              "  color: #000000;\n",
              "}\n",
              "#T_a6fdd_row0_col7 {\n",
              "  font-size: 6pt;\n",
              "  background-color: #e8e8e8;\n",
              "  color: #000000;\n",
              "}\n",
              "#T_a6fdd_row0_col8 {\n",
              "  font-size: 6pt;\n",
              "  background-color: #a2a2a2;\n",
              "  color: #f1f1f1;\n",
              "}\n",
              "#T_a6fdd_row0_col9 {\n",
              "  font-size: 6pt;\n",
              "  background-color: #2e2e2e;\n",
              "  color: #f1f1f1;\n",
              "}\n",
              "#T_a6fdd_row1_col6, #T_a6fdd_row1_col8, #T_a6fdd_row1_col9, #T_a6fdd_row1_col10, #T_a6fdd_row1_col11, #T_a6fdd_row1_col12, #T_a6fdd_row2_col8, #T_a6fdd_row2_col9, #T_a6fdd_row2_col10, #T_a6fdd_row2_col11, #T_a6fdd_row2_col12, #T_a6fdd_row3_col9, #T_a6fdd_row3_col11, #T_a6fdd_row3_col12, #T_a6fdd_row3_col13, #T_a6fdd_row4_col9, #T_a6fdd_row4_col11, #T_a6fdd_row4_col12, #T_a6fdd_row4_col13, #T_a6fdd_row5_col10, #T_a6fdd_row5_col11, #T_a6fdd_row5_col12, #T_a6fdd_row5_col13, #T_a6fdd_row6_col11, #T_a6fdd_row6_col12, #T_a6fdd_row6_col13, #T_a6fdd_row6_col14, #T_a6fdd_row7_col11, #T_a6fdd_row7_col12, #T_a6fdd_row7_col13, #T_a6fdd_row8_col9, #T_a6fdd_row8_col10, #T_a6fdd_row8_col11, #T_a6fdd_row8_col12, #T_a6fdd_row8_col13, #T_a6fdd_row9_col7, #T_a6fdd_row9_col8, #T_a6fdd_row9_col9, #T_a6fdd_row9_col10, #T_a6fdd_row9_col11, #T_a6fdd_row9_col12, #T_a6fdd_row9_col13, #T_a6fdd_row10_col9, #T_a6fdd_row10_col10, #T_a6fdd_row10_col11, #T_a6fdd_row10_col12, #T_a6fdd_row10_col13, #T_a6fdd_row10_col14 {\n",
              "  font-size: 6pt;\n",
              "  background-color: #000000;\n",
              "  color: #f1f1f1;\n",
              "}\n",
              "#T_a6fdd_row1_col7 {\n",
              "  font-size: 6pt;\n",
              "  background-color: #060606;\n",
              "  color: #f1f1f1;\n",
              "}\n",
              "#T_a6fdd_row1_col13, #T_a6fdd_row5_col14 {\n",
              "  font-size: 6pt;\n",
              "  background-color: #dbdbdb;\n",
              "  color: #000000;\n",
              "}\n",
              "#T_a6fdd_row2_col6 {\n",
              "  font-size: 6pt;\n",
              "  background-color: #e7e7e7;\n",
              "  color: #000000;\n",
              "}\n",
              "#T_a6fdd_row2_col7 {\n",
              "  font-size: 6pt;\n",
              "  background-color: #111111;\n",
              "  color: #f1f1f1;\n",
              "}\n",
              "#T_a6fdd_row2_col13 {\n",
              "  font-size: 6pt;\n",
              "  background-color: #131313;\n",
              "  color: #f1f1f1;\n",
              "}\n",
              "#T_a6fdd_row2_col14 {\n",
              "  font-size: 6pt;\n",
              "  background-color: #b3b3b3;\n",
              "  color: #000000;\n",
              "}\n",
              "#T_a6fdd_row3_col7 {\n",
              "  font-size: 6pt;\n",
              "  background-color: #afafaf;\n",
              "  color: #000000;\n",
              "}\n",
              "#T_a6fdd_row3_col8 {\n",
              "  font-size: 6pt;\n",
              "  background-color: #0c0c0c;\n",
              "  color: #f1f1f1;\n",
              "}\n",
              "#T_a6fdd_row3_col10 {\n",
              "  font-size: 6pt;\n",
              "  background-color: #6a6a6a;\n",
              "  color: #f1f1f1;\n",
              "}\n",
              "#T_a6fdd_row3_col14 {\n",
              "  font-size: 6pt;\n",
              "  background-color: #363636;\n",
              "  color: #f1f1f1;\n",
              "}\n",
              "#T_a6fdd_row4_col8 {\n",
              "  font-size: 6pt;\n",
              "  background-color: #3a3a3a;\n",
              "  color: #f1f1f1;\n",
              "}\n",
              "#T_a6fdd_row4_col10 {\n",
              "  font-size: 6pt;\n",
              "  background-color: #959595;\n",
              "  color: #f1f1f1;\n",
              "}\n",
              "#T_a6fdd_row4_col14, #T_a6fdd_row8_col14 {\n",
              "  font-size: 6pt;\n",
              "  background-color: #e3e3e3;\n",
              "  color: #000000;\n",
              "}\n",
              "#T_a6fdd_row5_col8 {\n",
              "  font-size: 6pt;\n",
              "  background-color: #c7c7c7;\n",
              "  color: #000000;\n",
              "}\n",
              "#T_a6fdd_row5_col9 {\n",
              "  font-size: 6pt;\n",
              "  background-color: #434343;\n",
              "  color: #f1f1f1;\n",
              "}\n",
              "#T_a6fdd_row6_col10, #T_a6fdd_row7_col9 {\n",
              "  font-size: 6pt;\n",
              "  background-color: #999999;\n",
              "  color: #f1f1f1;\n",
              "}\n",
              "#T_a6fdd_row7_col8 {\n",
              "  font-size: 6pt;\n",
              "  background-color: #c1c1c1;\n",
              "  color: #000000;\n",
              "}\n",
              "#T_a6fdd_row7_col10 {\n",
              "  font-size: 6pt;\n",
              "  background-color: #020202;\n",
              "  color: #f1f1f1;\n",
              "}\n",
              "#T_a6fdd_row7_col14 {\n",
              "  font-size: 6pt;\n",
              "  background-color: #6b6b6b;\n",
              "  color: #f1f1f1;\n",
              "}\n",
              "#T_a6fdd_row8_col6 {\n",
              "  font-size: 6pt;\n",
              "  background-color: #b9b9b9;\n",
              "  color: #000000;\n",
              "}\n",
              "#T_a6fdd_row8_col7 {\n",
              "  font-size: 6pt;\n",
              "  background-color: #282828;\n",
              "  color: #f1f1f1;\n",
              "}\n",
              "#T_a6fdd_row8_col8 {\n",
              "  font-size: 6pt;\n",
              "  background-color: #050505;\n",
              "  color: #f1f1f1;\n",
              "}\n",
              "#T_a6fdd_row9_col6 {\n",
              "  font-size: 6pt;\n",
              "  background-color: #444444;\n",
              "  color: #f1f1f1;\n",
              "}\n",
              "#T_a6fdd_row9_col14 {\n",
              "  font-size: 6pt;\n",
              "  background-color: #2c2c2c;\n",
              "  color: #f1f1f1;\n",
              "}\n",
              "#T_a6fdd_row10_col7 {\n",
              "  font-size: 6pt;\n",
              "  background-color: #a7a7a7;\n",
              "  color: #f1f1f1;\n",
              "}\n",
              "#T_a6fdd_row10_col8 {\n",
              "  font-size: 6pt;\n",
              "  background-color: #090909;\n",
              "  color: #f1f1f1;\n",
              "}\n",
              "</style>\n",
              "<table id=\"T_a6fdd\" class=\"dataframe\">\n",
              "  <thead>\n",
              "    <tr>\n",
              "      <th class=\"blank level0\" >&nbsp;</th>\n",
              "      <th id=\"T_a6fdd_level0_col0\" class=\"col_heading level0 col0\" >0</th>\n",
              "      <th id=\"T_a6fdd_level0_col1\" class=\"col_heading level0 col1\" >1</th>\n",
              "      <th id=\"T_a6fdd_level0_col2\" class=\"col_heading level0 col2\" >2</th>\n",
              "      <th id=\"T_a6fdd_level0_col3\" class=\"col_heading level0 col3\" >3</th>\n",
              "      <th id=\"T_a6fdd_level0_col4\" class=\"col_heading level0 col4\" >4</th>\n",
              "      <th id=\"T_a6fdd_level0_col5\" class=\"col_heading level0 col5\" >5</th>\n",
              "      <th id=\"T_a6fdd_level0_col6\" class=\"col_heading level0 col6\" >6</th>\n",
              "      <th id=\"T_a6fdd_level0_col7\" class=\"col_heading level0 col7\" >7</th>\n",
              "      <th id=\"T_a6fdd_level0_col8\" class=\"col_heading level0 col8\" >8</th>\n",
              "      <th id=\"T_a6fdd_level0_col9\" class=\"col_heading level0 col9\" >9</th>\n",
              "      <th id=\"T_a6fdd_level0_col10\" class=\"col_heading level0 col10\" >10</th>\n",
              "      <th id=\"T_a6fdd_level0_col11\" class=\"col_heading level0 col11\" >11</th>\n",
              "      <th id=\"T_a6fdd_level0_col12\" class=\"col_heading level0 col12\" >12</th>\n",
              "      <th id=\"T_a6fdd_level0_col13\" class=\"col_heading level0 col13\" >13</th>\n",
              "      <th id=\"T_a6fdd_level0_col14\" class=\"col_heading level0 col14\" >14</th>\n",
              "      <th id=\"T_a6fdd_level0_col15\" class=\"col_heading level0 col15\" >15</th>\n",
              "      <th id=\"T_a6fdd_level0_col16\" class=\"col_heading level0 col16\" >16</th>\n",
              "      <th id=\"T_a6fdd_level0_col17\" class=\"col_heading level0 col17\" >17</th>\n",
              "    </tr>\n",
              "  </thead>\n",
              "  <tbody>\n",
              "    <tr>\n",
              "      <th id=\"T_a6fdd_level0_row0\" class=\"row_heading level0 row0\" >0</th>\n",
              "      <td id=\"T_a6fdd_row0_col0\" class=\"data row0 col0\" >0</td>\n",
              "      <td id=\"T_a6fdd_row0_col1\" class=\"data row0 col1\" >0</td>\n",
              "      <td id=\"T_a6fdd_row0_col2\" class=\"data row0 col2\" >0</td>\n",
              "      <td id=\"T_a6fdd_row0_col3\" class=\"data row0 col3\" >0</td>\n",
              "      <td id=\"T_a6fdd_row0_col4\" class=\"data row0 col4\" >0</td>\n",
              "      <td id=\"T_a6fdd_row0_col5\" class=\"data row0 col5\" >0</td>\n",
              "      <td id=\"T_a6fdd_row0_col6\" class=\"data row0 col6\" >0</td>\n",
              "      <td id=\"T_a6fdd_row0_col7\" class=\"data row0 col7\" >42</td>\n",
              "      <td id=\"T_a6fdd_row0_col8\" class=\"data row0 col8\" >118</td>\n",
              "      <td id=\"T_a6fdd_row0_col9\" class=\"data row0 col9\" >219</td>\n",
              "      <td id=\"T_a6fdd_row0_col10\" class=\"data row0 col10\" >166</td>\n",
              "      <td id=\"T_a6fdd_row0_col11\" class=\"data row0 col11\" >118</td>\n",
              "      <td id=\"T_a6fdd_row0_col12\" class=\"data row0 col12\" >118</td>\n",
              "      <td id=\"T_a6fdd_row0_col13\" class=\"data row0 col13\" >6</td>\n",
              "      <td id=\"T_a6fdd_row0_col14\" class=\"data row0 col14\" >0</td>\n",
              "      <td id=\"T_a6fdd_row0_col15\" class=\"data row0 col15\" >0</td>\n",
              "      <td id=\"T_a6fdd_row0_col16\" class=\"data row0 col16\" >0</td>\n",
              "      <td id=\"T_a6fdd_row0_col17\" class=\"data row0 col17\" >0</td>\n",
              "    </tr>\n",
              "    <tr>\n",
              "      <th id=\"T_a6fdd_level0_row1\" class=\"row_heading level0 row1\" >1</th>\n",
              "      <td id=\"T_a6fdd_row1_col0\" class=\"data row1 col0\" >0</td>\n",
              "      <td id=\"T_a6fdd_row1_col1\" class=\"data row1 col1\" >0</td>\n",
              "      <td id=\"T_a6fdd_row1_col2\" class=\"data row1 col2\" >0</td>\n",
              "      <td id=\"T_a6fdd_row1_col3\" class=\"data row1 col3\" >0</td>\n",
              "      <td id=\"T_a6fdd_row1_col4\" class=\"data row1 col4\" >0</td>\n",
              "      <td id=\"T_a6fdd_row1_col5\" class=\"data row1 col5\" >0</td>\n",
              "      <td id=\"T_a6fdd_row1_col6\" class=\"data row1 col6\" >103</td>\n",
              "      <td id=\"T_a6fdd_row1_col7\" class=\"data row1 col7\" >242</td>\n",
              "      <td id=\"T_a6fdd_row1_col8\" class=\"data row1 col8\" >254</td>\n",
              "      <td id=\"T_a6fdd_row1_col9\" class=\"data row1 col9\" >254</td>\n",
              "      <td id=\"T_a6fdd_row1_col10\" class=\"data row1 col10\" >254</td>\n",
              "      <td id=\"T_a6fdd_row1_col11\" class=\"data row1 col11\" >254</td>\n",
              "      <td id=\"T_a6fdd_row1_col12\" class=\"data row1 col12\" >254</td>\n",
              "      <td id=\"T_a6fdd_row1_col13\" class=\"data row1 col13\" >66</td>\n",
              "      <td id=\"T_a6fdd_row1_col14\" class=\"data row1 col14\" >0</td>\n",
              "      <td id=\"T_a6fdd_row1_col15\" class=\"data row1 col15\" >0</td>\n",
              "      <td id=\"T_a6fdd_row1_col16\" class=\"data row1 col16\" >0</td>\n",
              "      <td id=\"T_a6fdd_row1_col17\" class=\"data row1 col17\" >0</td>\n",
              "    </tr>\n",
              "    <tr>\n",
              "      <th id=\"T_a6fdd_level0_row2\" class=\"row_heading level0 row2\" >2</th>\n",
              "      <td id=\"T_a6fdd_row2_col0\" class=\"data row2 col0\" >0</td>\n",
              "      <td id=\"T_a6fdd_row2_col1\" class=\"data row2 col1\" >0</td>\n",
              "      <td id=\"T_a6fdd_row2_col2\" class=\"data row2 col2\" >0</td>\n",
              "      <td id=\"T_a6fdd_row2_col3\" class=\"data row2 col3\" >0</td>\n",
              "      <td id=\"T_a6fdd_row2_col4\" class=\"data row2 col4\" >0</td>\n",
              "      <td id=\"T_a6fdd_row2_col5\" class=\"data row2 col5\" >0</td>\n",
              "      <td id=\"T_a6fdd_row2_col6\" class=\"data row2 col6\" >18</td>\n",
              "      <td id=\"T_a6fdd_row2_col7\" class=\"data row2 col7\" >232</td>\n",
              "      <td id=\"T_a6fdd_row2_col8\" class=\"data row2 col8\" >254</td>\n",
              "      <td id=\"T_a6fdd_row2_col9\" class=\"data row2 col9\" >254</td>\n",
              "      <td id=\"T_a6fdd_row2_col10\" class=\"data row2 col10\" >254</td>\n",
              "      <td id=\"T_a6fdd_row2_col11\" class=\"data row2 col11\" >254</td>\n",
              "      <td id=\"T_a6fdd_row2_col12\" class=\"data row2 col12\" >254</td>\n",
              "      <td id=\"T_a6fdd_row2_col13\" class=\"data row2 col13\" >238</td>\n",
              "      <td id=\"T_a6fdd_row2_col14\" class=\"data row2 col14\" >70</td>\n",
              "      <td id=\"T_a6fdd_row2_col15\" class=\"data row2 col15\" >0</td>\n",
              "      <td id=\"T_a6fdd_row2_col16\" class=\"data row2 col16\" >0</td>\n",
              "      <td id=\"T_a6fdd_row2_col17\" class=\"data row2 col17\" >0</td>\n",
              "    </tr>\n",
              "    <tr>\n",
              "      <th id=\"T_a6fdd_level0_row3\" class=\"row_heading level0 row3\" >3</th>\n",
              "      <td id=\"T_a6fdd_row3_col0\" class=\"data row3 col0\" >0</td>\n",
              "      <td id=\"T_a6fdd_row3_col1\" class=\"data row3 col1\" >0</td>\n",
              "      <td id=\"T_a6fdd_row3_col2\" class=\"data row3 col2\" >0</td>\n",
              "      <td id=\"T_a6fdd_row3_col3\" class=\"data row3 col3\" >0</td>\n",
              "      <td id=\"T_a6fdd_row3_col4\" class=\"data row3 col4\" >0</td>\n",
              "      <td id=\"T_a6fdd_row3_col5\" class=\"data row3 col5\" >0</td>\n",
              "      <td id=\"T_a6fdd_row3_col6\" class=\"data row3 col6\" >0</td>\n",
              "      <td id=\"T_a6fdd_row3_col7\" class=\"data row3 col7\" >104</td>\n",
              "      <td id=\"T_a6fdd_row3_col8\" class=\"data row3 col8\" >244</td>\n",
              "      <td id=\"T_a6fdd_row3_col9\" class=\"data row3 col9\" >254</td>\n",
              "      <td id=\"T_a6fdd_row3_col10\" class=\"data row3 col10\" >224</td>\n",
              "      <td id=\"T_a6fdd_row3_col11\" class=\"data row3 col11\" >254</td>\n",
              "      <td id=\"T_a6fdd_row3_col12\" class=\"data row3 col12\" >254</td>\n",
              "      <td id=\"T_a6fdd_row3_col13\" class=\"data row3 col13\" >254</td>\n",
              "      <td id=\"T_a6fdd_row3_col14\" class=\"data row3 col14\" >141</td>\n",
              "      <td id=\"T_a6fdd_row3_col15\" class=\"data row3 col15\" >0</td>\n",
              "      <td id=\"T_a6fdd_row3_col16\" class=\"data row3 col16\" >0</td>\n",
              "      <td id=\"T_a6fdd_row3_col17\" class=\"data row3 col17\" >0</td>\n",
              "    </tr>\n",
              "    <tr>\n",
              "      <th id=\"T_a6fdd_level0_row4\" class=\"row_heading level0 row4\" >4</th>\n",
              "      <td id=\"T_a6fdd_row4_col0\" class=\"data row4 col0\" >0</td>\n",
              "      <td id=\"T_a6fdd_row4_col1\" class=\"data row4 col1\" >0</td>\n",
              "      <td id=\"T_a6fdd_row4_col2\" class=\"data row4 col2\" >0</td>\n",
              "      <td id=\"T_a6fdd_row4_col3\" class=\"data row4 col3\" >0</td>\n",
              "      <td id=\"T_a6fdd_row4_col4\" class=\"data row4 col4\" >0</td>\n",
              "      <td id=\"T_a6fdd_row4_col5\" class=\"data row4 col5\" >0</td>\n",
              "      <td id=\"T_a6fdd_row4_col6\" class=\"data row4 col6\" >0</td>\n",
              "      <td id=\"T_a6fdd_row4_col7\" class=\"data row4 col7\" >0</td>\n",
              "      <td id=\"T_a6fdd_row4_col8\" class=\"data row4 col8\" >207</td>\n",
              "      <td id=\"T_a6fdd_row4_col9\" class=\"data row4 col9\" >254</td>\n",
              "      <td id=\"T_a6fdd_row4_col10\" class=\"data row4 col10\" >210</td>\n",
              "      <td id=\"T_a6fdd_row4_col11\" class=\"data row4 col11\" >254</td>\n",
              "      <td id=\"T_a6fdd_row4_col12\" class=\"data row4 col12\" >254</td>\n",
              "      <td id=\"T_a6fdd_row4_col13\" class=\"data row4 col13\" >254</td>\n",
              "      <td id=\"T_a6fdd_row4_col14\" class=\"data row4 col14\" >34</td>\n",
              "      <td id=\"T_a6fdd_row4_col15\" class=\"data row4 col15\" >0</td>\n",
              "      <td id=\"T_a6fdd_row4_col16\" class=\"data row4 col16\" >0</td>\n",
              "      <td id=\"T_a6fdd_row4_col17\" class=\"data row4 col17\" >0</td>\n",
              "    </tr>\n",
              "    <tr>\n",
              "      <th id=\"T_a6fdd_level0_row5\" class=\"row_heading level0 row5\" >5</th>\n",
              "      <td id=\"T_a6fdd_row5_col0\" class=\"data row5 col0\" >0</td>\n",
              "      <td id=\"T_a6fdd_row5_col1\" class=\"data row5 col1\" >0</td>\n",
              "      <td id=\"T_a6fdd_row5_col2\" class=\"data row5 col2\" >0</td>\n",
              "      <td id=\"T_a6fdd_row5_col3\" class=\"data row5 col3\" >0</td>\n",
              "      <td id=\"T_a6fdd_row5_col4\" class=\"data row5 col4\" >0</td>\n",
              "      <td id=\"T_a6fdd_row5_col5\" class=\"data row5 col5\" >0</td>\n",
              "      <td id=\"T_a6fdd_row5_col6\" class=\"data row5 col6\" >0</td>\n",
              "      <td id=\"T_a6fdd_row5_col7\" class=\"data row5 col7\" >0</td>\n",
              "      <td id=\"T_a6fdd_row5_col8\" class=\"data row5 col8\" >84</td>\n",
              "      <td id=\"T_a6fdd_row5_col9\" class=\"data row5 col9\" >206</td>\n",
              "      <td id=\"T_a6fdd_row5_col10\" class=\"data row5 col10\" >254</td>\n",
              "      <td id=\"T_a6fdd_row5_col11\" class=\"data row5 col11\" >254</td>\n",
              "      <td id=\"T_a6fdd_row5_col12\" class=\"data row5 col12\" >254</td>\n",
              "      <td id=\"T_a6fdd_row5_col13\" class=\"data row5 col13\" >254</td>\n",
              "      <td id=\"T_a6fdd_row5_col14\" class=\"data row5 col14\" >41</td>\n",
              "      <td id=\"T_a6fdd_row5_col15\" class=\"data row5 col15\" >0</td>\n",
              "      <td id=\"T_a6fdd_row5_col16\" class=\"data row5 col16\" >0</td>\n",
              "      <td id=\"T_a6fdd_row5_col17\" class=\"data row5 col17\" >0</td>\n",
              "    </tr>\n",
              "    <tr>\n",
              "      <th id=\"T_a6fdd_level0_row6\" class=\"row_heading level0 row6\" >6</th>\n",
              "      <td id=\"T_a6fdd_row6_col0\" class=\"data row6 col0\" >0</td>\n",
              "      <td id=\"T_a6fdd_row6_col1\" class=\"data row6 col1\" >0</td>\n",
              "      <td id=\"T_a6fdd_row6_col2\" class=\"data row6 col2\" >0</td>\n",
              "      <td id=\"T_a6fdd_row6_col3\" class=\"data row6 col3\" >0</td>\n",
              "      <td id=\"T_a6fdd_row6_col4\" class=\"data row6 col4\" >0</td>\n",
              "      <td id=\"T_a6fdd_row6_col5\" class=\"data row6 col5\" >0</td>\n",
              "      <td id=\"T_a6fdd_row6_col6\" class=\"data row6 col6\" >0</td>\n",
              "      <td id=\"T_a6fdd_row6_col7\" class=\"data row6 col7\" >0</td>\n",
              "      <td id=\"T_a6fdd_row6_col8\" class=\"data row6 col8\" >0</td>\n",
              "      <td id=\"T_a6fdd_row6_col9\" class=\"data row6 col9\" >24</td>\n",
              "      <td id=\"T_a6fdd_row6_col10\" class=\"data row6 col10\" >209</td>\n",
              "      <td id=\"T_a6fdd_row6_col11\" class=\"data row6 col11\" >254</td>\n",
              "      <td id=\"T_a6fdd_row6_col12\" class=\"data row6 col12\" >254</td>\n",
              "      <td id=\"T_a6fdd_row6_col13\" class=\"data row6 col13\" >254</td>\n",
              "      <td id=\"T_a6fdd_row6_col14\" class=\"data row6 col14\" >171</td>\n",
              "      <td id=\"T_a6fdd_row6_col15\" class=\"data row6 col15\" >0</td>\n",
              "      <td id=\"T_a6fdd_row6_col16\" class=\"data row6 col16\" >0</td>\n",
              "      <td id=\"T_a6fdd_row6_col17\" class=\"data row6 col17\" >0</td>\n",
              "    </tr>\n",
              "    <tr>\n",
              "      <th id=\"T_a6fdd_level0_row7\" class=\"row_heading level0 row7\" >7</th>\n",
              "      <td id=\"T_a6fdd_row7_col0\" class=\"data row7 col0\" >0</td>\n",
              "      <td id=\"T_a6fdd_row7_col1\" class=\"data row7 col1\" >0</td>\n",
              "      <td id=\"T_a6fdd_row7_col2\" class=\"data row7 col2\" >0</td>\n",
              "      <td id=\"T_a6fdd_row7_col3\" class=\"data row7 col3\" >0</td>\n",
              "      <td id=\"T_a6fdd_row7_col4\" class=\"data row7 col4\" >0</td>\n",
              "      <td id=\"T_a6fdd_row7_col5\" class=\"data row7 col5\" >0</td>\n",
              "      <td id=\"T_a6fdd_row7_col6\" class=\"data row7 col6\" >0</td>\n",
              "      <td id=\"T_a6fdd_row7_col7\" class=\"data row7 col7\" >0</td>\n",
              "      <td id=\"T_a6fdd_row7_col8\" class=\"data row7 col8\" >91</td>\n",
              "      <td id=\"T_a6fdd_row7_col9\" class=\"data row7 col9\" >137</td>\n",
              "      <td id=\"T_a6fdd_row7_col10\" class=\"data row7 col10\" >253</td>\n",
              "      <td id=\"T_a6fdd_row7_col11\" class=\"data row7 col11\" >254</td>\n",
              "      <td id=\"T_a6fdd_row7_col12\" class=\"data row7 col12\" >254</td>\n",
              "      <td id=\"T_a6fdd_row7_col13\" class=\"data row7 col13\" >254</td>\n",
              "      <td id=\"T_a6fdd_row7_col14\" class=\"data row7 col14\" >112</td>\n",
              "      <td id=\"T_a6fdd_row7_col15\" class=\"data row7 col15\" >0</td>\n",
              "      <td id=\"T_a6fdd_row7_col16\" class=\"data row7 col16\" >0</td>\n",
              "      <td id=\"T_a6fdd_row7_col17\" class=\"data row7 col17\" >0</td>\n",
              "    </tr>\n",
              "    <tr>\n",
              "      <th id=\"T_a6fdd_level0_row8\" class=\"row_heading level0 row8\" >8</th>\n",
              "      <td id=\"T_a6fdd_row8_col0\" class=\"data row8 col0\" >0</td>\n",
              "      <td id=\"T_a6fdd_row8_col1\" class=\"data row8 col1\" >0</td>\n",
              "      <td id=\"T_a6fdd_row8_col2\" class=\"data row8 col2\" >0</td>\n",
              "      <td id=\"T_a6fdd_row8_col3\" class=\"data row8 col3\" >0</td>\n",
              "      <td id=\"T_a6fdd_row8_col4\" class=\"data row8 col4\" >0</td>\n",
              "      <td id=\"T_a6fdd_row8_col5\" class=\"data row8 col5\" >0</td>\n",
              "      <td id=\"T_a6fdd_row8_col6\" class=\"data row8 col6\" >40</td>\n",
              "      <td id=\"T_a6fdd_row8_col7\" class=\"data row8 col7\" >214</td>\n",
              "      <td id=\"T_a6fdd_row8_col8\" class=\"data row8 col8\" >250</td>\n",
              "      <td id=\"T_a6fdd_row8_col9\" class=\"data row8 col9\" >254</td>\n",
              "      <td id=\"T_a6fdd_row8_col10\" class=\"data row8 col10\" >254</td>\n",
              "      <td id=\"T_a6fdd_row8_col11\" class=\"data row8 col11\" >254</td>\n",
              "      <td id=\"T_a6fdd_row8_col12\" class=\"data row8 col12\" >254</td>\n",
              "      <td id=\"T_a6fdd_row8_col13\" class=\"data row8 col13\" >254</td>\n",
              "      <td id=\"T_a6fdd_row8_col14\" class=\"data row8 col14\" >34</td>\n",
              "      <td id=\"T_a6fdd_row8_col15\" class=\"data row8 col15\" >0</td>\n",
              "      <td id=\"T_a6fdd_row8_col16\" class=\"data row8 col16\" >0</td>\n",
              "      <td id=\"T_a6fdd_row8_col17\" class=\"data row8 col17\" >0</td>\n",
              "    </tr>\n",
              "    <tr>\n",
              "      <th id=\"T_a6fdd_level0_row9\" class=\"row_heading level0 row9\" >9</th>\n",
              "      <td id=\"T_a6fdd_row9_col0\" class=\"data row9 col0\" >0</td>\n",
              "      <td id=\"T_a6fdd_row9_col1\" class=\"data row9 col1\" >0</td>\n",
              "      <td id=\"T_a6fdd_row9_col2\" class=\"data row9 col2\" >0</td>\n",
              "      <td id=\"T_a6fdd_row9_col3\" class=\"data row9 col3\" >0</td>\n",
              "      <td id=\"T_a6fdd_row9_col4\" class=\"data row9 col4\" >0</td>\n",
              "      <td id=\"T_a6fdd_row9_col5\" class=\"data row9 col5\" >0</td>\n",
              "      <td id=\"T_a6fdd_row9_col6\" class=\"data row9 col6\" >81</td>\n",
              "      <td id=\"T_a6fdd_row9_col7\" class=\"data row9 col7\" >247</td>\n",
              "      <td id=\"T_a6fdd_row9_col8\" class=\"data row9 col8\" >254</td>\n",
              "      <td id=\"T_a6fdd_row9_col9\" class=\"data row9 col9\" >254</td>\n",
              "      <td id=\"T_a6fdd_row9_col10\" class=\"data row9 col10\" >254</td>\n",
              "      <td id=\"T_a6fdd_row9_col11\" class=\"data row9 col11\" >254</td>\n",
              "      <td id=\"T_a6fdd_row9_col12\" class=\"data row9 col12\" >254</td>\n",
              "      <td id=\"T_a6fdd_row9_col13\" class=\"data row9 col13\" >254</td>\n",
              "      <td id=\"T_a6fdd_row9_col14\" class=\"data row9 col14\" >146</td>\n",
              "      <td id=\"T_a6fdd_row9_col15\" class=\"data row9 col15\" >0</td>\n",
              "      <td id=\"T_a6fdd_row9_col16\" class=\"data row9 col16\" >0</td>\n",
              "      <td id=\"T_a6fdd_row9_col17\" class=\"data row9 col17\" >0</td>\n",
              "    </tr>\n",
              "    <tr>\n",
              "      <th id=\"T_a6fdd_level0_row10\" class=\"row_heading level0 row10\" >10</th>\n",
              "      <td id=\"T_a6fdd_row10_col0\" class=\"data row10 col0\" >0</td>\n",
              "      <td id=\"T_a6fdd_row10_col1\" class=\"data row10 col1\" >0</td>\n",
              "      <td id=\"T_a6fdd_row10_col2\" class=\"data row10 col2\" >0</td>\n",
              "      <td id=\"T_a6fdd_row10_col3\" class=\"data row10 col3\" >0</td>\n",
              "      <td id=\"T_a6fdd_row10_col4\" class=\"data row10 col4\" >0</td>\n",
              "      <td id=\"T_a6fdd_row10_col5\" class=\"data row10 col5\" >0</td>\n",
              "      <td id=\"T_a6fdd_row10_col6\" class=\"data row10 col6\" >0</td>\n",
              "      <td id=\"T_a6fdd_row10_col7\" class=\"data row10 col7\" >110</td>\n",
              "      <td id=\"T_a6fdd_row10_col8\" class=\"data row10 col8\" >246</td>\n",
              "      <td id=\"T_a6fdd_row10_col9\" class=\"data row10 col9\" >254</td>\n",
              "      <td id=\"T_a6fdd_row10_col10\" class=\"data row10 col10\" >254</td>\n",
              "      <td id=\"T_a6fdd_row10_col11\" class=\"data row10 col11\" >254</td>\n",
              "      <td id=\"T_a6fdd_row10_col12\" class=\"data row10 col12\" >254</td>\n",
              "      <td id=\"T_a6fdd_row10_col13\" class=\"data row10 col13\" >254</td>\n",
              "      <td id=\"T_a6fdd_row10_col14\" class=\"data row10 col14\" >171</td>\n",
              "      <td id=\"T_a6fdd_row10_col15\" class=\"data row10 col15\" >0</td>\n",
              "      <td id=\"T_a6fdd_row10_col16\" class=\"data row10 col16\" >0</td>\n",
              "      <td id=\"T_a6fdd_row10_col17\" class=\"data row10 col17\" >0</td>\n",
              "    </tr>\n",
              "  </tbody>\n",
              "</table>\n"
            ]
          },
          "metadata": {},
          "execution_count": 10
        }
      ]
    },
    {
      "cell_type": "code",
      "source": [
        "seven_tensors = [tensor(Image.open(o)) for o in sevens]\n",
        "three_tensors = [tensor(Image.open(o)) for o in threes]\n",
        "len(seven_tensors), len(three_tensors)"
      ],
      "metadata": {
        "colab": {
          "base_uri": "https://localhost:8080/"
        },
        "id": "BV4vOKwxiQjt",
        "outputId": "60622e78-ce5f-4375-e12e-0858ebb5c6f7"
      },
      "execution_count": 11,
      "outputs": [
        {
          "output_type": "execute_result",
          "data": {
            "text/plain": [
              "(6265, 6131)"
            ]
          },
          "metadata": {},
          "execution_count": 11
        }
      ]
    },
    {
      "cell_type": "code",
      "source": [
        "show_image(seven_tensors[0]);"
      ],
      "metadata": {
        "colab": {
          "base_uri": "https://localhost:8080/",
          "height": 114
        },
        "id": "EVPkJIhup9-Y",
        "outputId": "b94fbf07-fe47-48cb-b761-a3a6b1ef9033"
      },
      "execution_count": 116,
      "outputs": [
        {
          "output_type": "display_data",
          "data": {
            "text/plain": [
              "<Figure size 100x100 with 1 Axes>"
            ],
            "image/png": "[encoded data removed]"
          },
          "metadata": {}
        }
      ]
    },
    {
      "cell_type": "code",
      "source": [
        "\n",
        "stacked_sevens = torch.stack(seven_tensors).float()/255\n",
        "stacked_threes = torch.stack(three_tensors).float()/255\n",
        "stacked_threes.shape"
      ],
      "metadata": {
        "colab": {
          "base_uri": "https://localhost:8080/"
        },
        "id": "FjAKGhBhqeRH",
        "outputId": "760d0d9e-dd7d-4eef-d3dd-601761714ca4"
      },
      "execution_count": 13,
      "outputs": [
        {
          "output_type": "execute_result",
          "data": {
            "text/plain": [
              "torch.Size([6131, 28, 28])"
            ]
          },
          "metadata": {},
          "execution_count": 13
        }
      ]
    },
    {
      "cell_type": "code",
      "source": [
        "mean_3 = stacked_threes.mean(0)\n",
        "show_image(mean_3);"
      ],
      "metadata": {
        "colab": {
          "base_uri": "https://localhost:8080/",
          "height": 114
        },
        "id": "RENes0s8r2os",
        "outputId": "76bc68dd-d21d-4ba4-ca89-62b5998cc967"
      },
      "execution_count": 14,
      "outputs": [
        {
          "output_type": "display_data",
          "data": {
            "text/plain": [
              "<Figure size 100x100 with 1 Axes>"
            ],
            "image/png": "[encoded data removed]"
          },
          "metadata": {}
        }
      ]
    },
    {
      "cell_type": "code",
      "source": [
        "mean7 = stacked_sevens.mean(0)\n",
        "show_image(mean7);"
      ],
      "metadata": {
        "colab": {
          "base_uri": "https://localhost:8080/",
          "height": 114
        },
        "id": "0f0RW1gHv6ei",
        "outputId": "8caa762b-78ab-43e7-dcc6-cd0e85755eb6"
      },
      "execution_count": 15,
      "outputs": [
        {
          "output_type": "display_data",
          "data": {
            "text/plain": [
              "<Figure size 100x100 with 1 Axes>"
            ],
            "image/png": "[encoded data removed]"
          },
          "metadata": {}
        }
      ]
    },
    {
      "cell_type": "code",
      "source": [
        "a_3 = stacked_threes[0]\n",
        "distance_3_abs = (a_3-mean_3).abs().mean()\n",
        "distance_3_sqr = ((a_3-mean_3)**2).mean().sqrt()\n",
        "distance_3_abs,distance_3_sqr\n",
        "\n"
      ],
      "metadata": {
        "colab": {
          "base_uri": "https://localhost:8080/"
        },
        "id": "HElUJNt1wFqS",
        "outputId": "fc91673f-d660-4f78-f935-5fdfefd67080"
      },
      "execution_count": 16,
      "outputs": [
        {
          "output_type": "execute_result",
          "data": {
            "text/plain": [
              "(tensor(0.1074), tensor(0.1912))"
            ]
          },
          "metadata": {},
          "execution_count": 16
        }
      ]
    },
    {
      "cell_type": "code",
      "source": [
        "#a_7 = stacked_sevens[0]\n",
        "distance_7_abs = (a_3-mean7).abs().mean()\n",
        "distance_7_sqr = ((a_3-mean7)**2).mean().sqrt()\n",
        "distance_7_abs, distance_7_sqr\n"
      ],
      "metadata": {
        "colab": {
          "base_uri": "https://localhost:8080/"
        },
        "id": "qb4ItA7iynsf",
        "outputId": "1823e395-2931-4bbe-fe26-e4650704aaa1"
      },
      "execution_count": 17,
      "outputs": [
        {
          "output_type": "execute_result",
          "data": {
            "text/plain": [
              "(tensor(0.1441), tensor(0.2780))"
            ]
          },
          "metadata": {},
          "execution_count": 17
        }
      ]
    },
    {
      "cell_type": "code",
      "source": [
        "F.l1_loss(a_3.float(),mean7), F.mse_loss(a_3,mean7).sqrt()"
      ],
      "metadata": {
        "colab": {
          "base_uri": "https://localhost:8080/"
        },
        "id": "wGDGz-n7ypPz",
        "outputId": "8f52deff-f65a-4aaa-dd65-3dfb58abf649"
      },
      "execution_count": 18,
      "outputs": [
        {
          "output_type": "execute_result",
          "data": {
            "text/plain": [
              "(tensor(0.1441), tensor(0.2780))"
            ]
          },
          "metadata": {},
          "execution_count": 18
        }
      ]
    },
    {
      "cell_type": "code",
      "source": [
        "valid_3_tens = torch.stack([tensor(Image.open(o)) for o in (path/'valid'/'3').ls()])\n",
        "valid_3_tens = valid_3_tens.float()/255\n",
        "\n",
        "valid_7_tens = torch.stack([tensor(Image.open(o)) for o in (path/'valid'/'7').ls()])\n",
        "valid_7_tens = valid_7_tens.float()/255\n",
        "\n",
        "valid_3_tens.shape, valid_7_tens.shape"
      ],
      "metadata": {
        "colab": {
          "base_uri": "https://localhost:8080/"
        },
        "id": "jeAtR0x4zbbI",
        "outputId": "e6f81ac1-fbe9-4c11-962e-38d3ca7a565c"
      },
      "execution_count": 19,
      "outputs": [
        {
          "output_type": "execute_result",
          "data": {
            "text/plain": [
              "(torch.Size([1010, 28, 28]), torch.Size([1028, 28, 28]))"
            ]
          },
          "metadata": {},
          "execution_count": 19
        }
      ]
    },
    {
      "cell_type": "code",
      "source": [
        "def mnist_func(a,b): return (a-b).abs().mean((-1,-2))\n",
        "mnist_func(a_3,mean_3)"
      ],
      "metadata": {
        "colab": {
          "base_uri": "https://localhost:8080/"
        },
        "id": "kRC6u_5qEYkO",
        "outputId": "60859a3d-1302-4978-f283-0a2dc5a02dcd"
      },
      "execution_count": 20,
      "outputs": [
        {
          "output_type": "execute_result",
          "data": {
            "text/plain": [
              "tensor(0.1074)"
            ]
          },
          "metadata": {},
          "execution_count": 20
        }
      ]
    },
    {
      "cell_type": "code",
      "source": [
        "valid_3_dist = mnist_func(valid_3_tens,mean_3)\n",
        "valid_3_dist, valid_3_dist.shape"
      ],
      "metadata": {
        "colab": {
          "base_uri": "https://localhost:8080/"
        },
        "id": "Li-thzNYFmO4",
        "outputId": "bd679f97-1eab-4714-f2e1-fa3f642d67a1"
      },
      "execution_count": 21,
      "outputs": [
        {
          "output_type": "execute_result",
          "data": {
            "text/plain": [
              "(tensor([0.1744, 0.1042, 0.1115,  ..., 0.1336, 0.1161, 0.1143]),\n",
              " torch.Size([1010]))"
            ]
          },
          "metadata": {},
          "execution_count": 21
        }
      ]
    },
    {
      "cell_type": "code",
      "source": [
        "def is_3(x): return mnist_func(x,mean_3) < mnist_func(x,mean7)"
      ],
      "metadata": {
        "id": "nUdi6TjwGbTp"
      },
      "execution_count": 22,
      "outputs": []
    },
    {
      "cell_type": "code",
      "source": [
        "is_3(a_3), is_3(a_3).float()"
      ],
      "metadata": {
        "colab": {
          "base_uri": "https://localhost:8080/"
        },
        "id": "7rGpPPJSJr0Y",
        "outputId": "e803ec3d-ae50-4550-8082-2d8f334f6dc4"
      },
      "execution_count": 23,
      "outputs": [
        {
          "output_type": "execute_result",
          "data": {
            "text/plain": [
              "(tensor(True), tensor(1.))"
            ]
          },
          "metadata": {},
          "execution_count": 23
        }
      ]
    },
    {
      "cell_type": "code",
      "source": [
        "is_3(valid_3_tens)"
      ],
      "metadata": {
        "colab": {
          "base_uri": "https://localhost:8080/"
        },
        "id": "0J4rrnYfJ1mP",
        "outputId": "02d5aec1-4737-422f-e0a6-611fffcb4423"
      },
      "execution_count": 24,
      "outputs": [
        {
          "output_type": "execute_result",
          "data": {
            "text/plain": [
              "tensor([True, True, True,  ..., True, True, True])"
            ]
          },
          "metadata": {},
          "execution_count": 24
        }
      ]
    },
    {
      "cell_type": "code",
      "source": [
        "accuracy_3 = is_3(valid_3_tens).float().mean()\n",
        "accuracy_7 = (1-is_3(valid_7_tens).float()).mean()\n",
        "\n",
        "accuracy_3, accuracy_7, (accuracy_3+ accuracy_7)/2"
      ],
      "metadata": {
        "colab": {
          "base_uri": "https://localhost:8080/"
        },
        "id": "_ZdpQitJKCPT",
        "outputId": "7f704a86-e093-4150-9e04-5f92f0ec2308"
      },
      "execution_count": 25,
      "outputs": [
        {
          "output_type": "execute_result",
          "data": {
            "text/plain": [
              "(tensor(0.9168), tensor(0.9854), tensor(0.9511))"
            ]
          },
          "metadata": {},
          "execution_count": 25
        }
      ]
    },
    {
      "cell_type": "code",
      "source": [
        "def f(x): return x**2"
      ],
      "metadata": {
        "id": "KiGIZjs4K4WP"
      },
      "execution_count": 26,
      "outputs": []
    },
    {
      "cell_type": "code",
      "source": [
        "import matplotlib.pyplot as plt"
      ],
      "metadata": {
        "id": "Rupj8GuCpIhH"
      },
      "execution_count": 27,
      "outputs": []
    },
    {
      "cell_type": "code",
      "source": [
        "plot_function(f,'x','x**2')\n",
        "plt.scatter(-1.5,f(-1.5),color='red')"
      ],
      "metadata": {
        "colab": {
          "base_uri": "https://localhost:8080/",
          "height": 413
        },
        "id": "CxlQGkeKo3MS",
        "outputId": "a677c3dd-e62f-4924-9f3b-e317b77e5f24"
      },
      "execution_count": 28,
      "outputs": [
        {
          "output_type": "execute_result",
          "data": {
            "text/plain": [
              "<matplotlib.collections.PathCollection at 0x7a97c0358ac0>"
            ]
          },
          "metadata": {},
          "execution_count": 28
        },
        {
          "output_type": "display_data",
          "data": {
            "text/plain": [
              "<Figure size 600x400 with 1 Axes>"
            ],
            "image/png": "[encoded data removed]"
          },
          "metadata": {}
        }
      ]
    },
    {
      "cell_type": "code",
      "source": [
        "xt = tensor(3.).requires_grad_()"
      ],
      "metadata": {
        "id": "pgYb-FFYpHFF"
      },
      "execution_count": 29,
      "outputs": []
    },
    {
      "cell_type": "code",
      "source": [
        "yt = f(xt)"
      ],
      "metadata": {
        "id": "vm0NYrpTs9-7"
      },
      "execution_count": 30,
      "outputs": []
    },
    {
      "cell_type": "code",
      "source": [
        "yt"
      ],
      "metadata": {
        "colab": {
          "base_uri": "https://localhost:8080/"
        },
        "id": "Ap_qnroDtAIh",
        "outputId": "ac2d9715-898f-4769-9aea-401a78b6a92f"
      },
      "execution_count": 31,
      "outputs": [
        {
          "output_type": "execute_result",
          "data": {
            "text/plain": [
              "tensor(9., grad_fn=<PowBackward0>)"
            ]
          },
          "metadata": {},
          "execution_count": 31
        }
      ]
    },
    {
      "cell_type": "code",
      "source": [
        "yt.backward()"
      ],
      "metadata": {
        "id": "CHEQY_FstDlq"
      },
      "execution_count": 32,
      "outputs": []
    },
    {
      "cell_type": "code",
      "source": [
        "xt.grad"
      ],
      "metadata": {
        "colab": {
          "base_uri": "https://localhost:8080/"
        },
        "id": "aSmohgzQtRF7",
        "outputId": "61bccf09-885d-4570-9275-cfab57b2a59c"
      },
      "execution_count": 33,
      "outputs": [
        {
          "output_type": "execute_result",
          "data": {
            "text/plain": [
              "tensor(6.)"
            ]
          },
          "metadata": {},
          "execution_count": 33
        }
      ]
    },
    {
      "cell_type": "code",
      "source": [
        "xt = tensor([3.,4.,10.]).requires_grad_()"
      ],
      "metadata": {
        "id": "mXLHKRcQtWYL"
      },
      "execution_count": 34,
      "outputs": []
    },
    {
      "cell_type": "code",
      "source": [
        "xt"
      ],
      "metadata": {
        "colab": {
          "base_uri": "https://localhost:8080/"
        },
        "id": "_0ovnqrZtwRl",
        "outputId": "f6aacba9-81e0-454e-9c3b-32d537b89a97"
      },
      "execution_count": 35,
      "outputs": [
        {
          "output_type": "execute_result",
          "data": {
            "text/plain": [
              "tensor([ 3.,  4., 10.], requires_grad=True)"
            ]
          },
          "metadata": {},
          "execution_count": 35
        }
      ]
    },
    {
      "cell_type": "code",
      "source": [
        "def f(x): return (x**2).sum()"
      ],
      "metadata": {
        "id": "wgeqJkwwtyH1"
      },
      "execution_count": 36,
      "outputs": []
    },
    {
      "cell_type": "code",
      "source": [
        "yt = f(xt)\n",
        "yt"
      ],
      "metadata": {
        "colab": {
          "base_uri": "https://localhost:8080/"
        },
        "id": "Hie5fCRLt6ze",
        "outputId": "b2195b6c-fa3a-4f1b-f4cd-f8d5cf703e5f"
      },
      "execution_count": 37,
      "outputs": [
        {
          "output_type": "execute_result",
          "data": {
            "text/plain": [
              "tensor(125., grad_fn=<SumBackward0>)"
            ]
          },
          "metadata": {},
          "execution_count": 37
        }
      ]
    },
    {
      "cell_type": "code",
      "source": [
        "yt.backward()\n",
        "xt.grad"
      ],
      "metadata": {
        "colab": {
          "base_uri": "https://localhost:8080/"
        },
        "id": "koyi11x1uEoo",
        "outputId": "5adc00ed-507e-4f9b-a05a-de78da12477a"
      },
      "execution_count": 38,
      "outputs": [
        {
          "output_type": "execute_result",
          "data": {
            "text/plain": [
              "tensor([ 6.,  8., 20.])"
            ]
          },
          "metadata": {},
          "execution_count": 38
        }
      ]
    },
    {
      "cell_type": "code",
      "source": [
        "time = torch.arange(0,20).float(); time"
      ],
      "metadata": {
        "colab": {
          "base_uri": "https://localhost:8080/"
        },
        "id": "SDlEqhqpuM_v",
        "outputId": "cba91ffd-299e-4574-bf18-c7b8f0429891"
      },
      "execution_count": 39,
      "outputs": [
        {
          "output_type": "execute_result",
          "data": {
            "text/plain": [
              "tensor([ 0.,  1.,  2.,  3.,  4.,  5.,  6.,  7.,  8.,  9., 10., 11., 12., 13., 14., 15., 16., 17., 18., 19.])"
            ]
          },
          "metadata": {},
          "execution_count": 39
        }
      ]
    },
    {
      "cell_type": "code",
      "source": [
        "speed = torch.randn(20)*3 + 0.75*(time -9.5)**2 +1\n",
        "plt.scatter(time,speed)"
      ],
      "metadata": {
        "colab": {
          "base_uri": "https://localhost:8080/",
          "height": 451
        },
        "id": "4RjuUf-s3Jr5",
        "outputId": "e0fe2a4f-eed8-447b-da00-aa47575062c5"
      },
      "execution_count": 40,
      "outputs": [
        {
          "output_type": "execute_result",
          "data": {
            "text/plain": [
              "<matplotlib.collections.PathCollection at 0x7a97bdc69f90>"
            ]
          },
          "metadata": {},
          "execution_count": 40
        },
        {
          "output_type": "display_data",
          "data": {
            "text/plain": [
              "<Figure size 640x480 with 1 Axes>"
            ],
            "image/png": "[encoded data removed]"
          },
          "metadata": {}
        }
      ]
    },
    {
      "cell_type": "code",
      "source": [
        "def f(t, params):\n",
        "  a,b,c = params\n",
        "  return a*(t**2) + (b*t)+c"
      ],
      "metadata": {
        "id": "K9RPfztP3ZgK"
      },
      "execution_count": 41,
      "outputs": []
    },
    {
      "cell_type": "code",
      "source": [
        "def mse(preds,target): return ((preds-target)**2).mean()"
      ],
      "metadata": {
        "id": "eyeZUYF53vAY"
      },
      "execution_count": 42,
      "outputs": []
    },
    {
      "cell_type": "code",
      "source": [
        "params = torch.randn(3).requires_grad_()"
      ],
      "metadata": {
        "id": "MgIbITw14TbG"
      },
      "execution_count": 43,
      "outputs": []
    },
    {
      "cell_type": "code",
      "source": [
        "params"
      ],
      "metadata": {
        "colab": {
          "base_uri": "https://localhost:8080/"
        },
        "id": "wJMrmx2L4h6n",
        "outputId": "21a8d055-3388-4ada-c2c9-2e9e76624266"
      },
      "execution_count": 44,
      "outputs": [
        {
          "output_type": "execute_result",
          "data": {
            "text/plain": [
              "tensor([-0.7658, -0.7506,  1.3525], requires_grad=True)"
            ]
          },
          "metadata": {},
          "execution_count": 44
        }
      ]
    },
    {
      "cell_type": "code",
      "source": [
        "preds = f(time,params)"
      ],
      "metadata": {
        "id": "q70mlLfi4j0X"
      },
      "execution_count": 45,
      "outputs": []
    },
    {
      "cell_type": "code",
      "source": [
        "def show_preds(preds,ax=None):\n",
        "  if ax is None: ax=plt.subplots()[1]\n",
        "  ax.scatter(time,speed)\n",
        "  ax.scatter(time,to_np(preds),color='red')\n",
        "  ax.set_ylim(-300,100)\n",
        "show_preds(preds)"
      ],
      "metadata": {
        "colab": {
          "base_uri": "https://localhost:8080/",
          "height": 441
        },
        "id": "CsPd_xt14tSg",
        "outputId": "f886de34-d7dc-4765-eeb6-2f28ec34a0f0"
      },
      "execution_count": 46,
      "outputs": [
        {
          "output_type": "display_data",
          "data": {
            "text/plain": [
              "<Figure size 640x480 with 1 Axes>"
            ],
            "image/png": "[encoded data removed]"
          },
          "metadata": {}
        }
      ]
    },
    {
      "cell_type": "code",
      "source": [
        "loss =mse(preds,speed)\n",
        "loss"
      ],
      "metadata": {
        "colab": {
          "base_uri": "https://localhost:8080/"
        },
        "id": "2OHdVxl65r_d",
        "outputId": "d6c1dc23-b69b-43ee-9709-957a8be753cb"
      },
      "execution_count": 47,
      "outputs": [
        {
          "output_type": "execute_result",
          "data": {
            "text/plain": [
              "tensor(25823.8086, grad_fn=<MeanBackward0>)"
            ]
          },
          "metadata": {},
          "execution_count": 47
        }
      ]
    },
    {
      "cell_type": "code",
      "source": [
        "loss.backward()\n",
        "params.grad"
      ],
      "metadata": {
        "colab": {
          "base_uri": "https://localhost:8080/"
        },
        "id": "vcz5avjI6QKK",
        "outputId": "c607bc1c-f974-41d8-836b-2f9e00512a2b"
      },
      "execution_count": 48,
      "outputs": [
        {
          "output_type": "execute_result",
          "data": {
            "text/plain": [
              "tensor([-53195.8633,  -3419.7148,   -253.8908])"
            ]
          },
          "metadata": {},
          "execution_count": 48
        }
      ]
    },
    {
      "cell_type": "code",
      "source": [
        "params.grad * 1e-5"
      ],
      "metadata": {
        "colab": {
          "base_uri": "https://localhost:8080/"
        },
        "id": "nqi7W-pe6sKz",
        "outputId": "b8569d36-63ab-40e6-a820-fd1c71635d42"
      },
      "execution_count": 49,
      "outputs": [
        {
          "output_type": "execute_result",
          "data": {
            "text/plain": [
              "tensor([-0.5320, -0.0342, -0.0025])"
            ]
          },
          "metadata": {},
          "execution_count": 49
        }
      ]
    },
    {
      "cell_type": "code",
      "source": [
        "params"
      ],
      "metadata": {
        "colab": {
          "base_uri": "https://localhost:8080/"
        },
        "id": "yY8Z7xzW6xfi",
        "outputId": "fa3c929d-5f9b-4346-f421-d22894e20d4d"
      },
      "execution_count": 50,
      "outputs": [
        {
          "output_type": "execute_result",
          "data": {
            "text/plain": [
              "tensor([-0.7658, -0.7506,  1.3525], requires_grad=True)"
            ]
          },
          "metadata": {},
          "execution_count": 50
        }
      ]
    },
    {
      "cell_type": "code",
      "source": [
        "lr=1e-5"
      ],
      "metadata": {
        "id": "JGqGyQWq675y"
      },
      "execution_count": 51,
      "outputs": []
    },
    {
      "cell_type": "code",
      "source": [
        "params.data -= lr * params.grad.data\n",
        "params.grad=None"
      ],
      "metadata": {
        "id": "WM2j0d1w7JU4"
      },
      "execution_count": 52,
      "outputs": []
    },
    {
      "cell_type": "code",
      "source": [
        "preds = f(time,params)\n",
        "mse(preds,speed)"
      ],
      "metadata": {
        "colab": {
          "base_uri": "https://localhost:8080/"
        },
        "id": "WPlgmKTp7W9s",
        "outputId": "63f78105-9a60-4635-9776-8ad590a712bf"
      },
      "execution_count": 53,
      "outputs": [
        {
          "output_type": "execute_result",
          "data": {
            "text/plain": [
              "tensor(5435.5356, grad_fn=<MeanBackward0>)"
            ]
          },
          "metadata": {},
          "execution_count": 53
        }
      ]
    },
    {
      "cell_type": "code",
      "source": [
        "show_preds(preds)"
      ],
      "metadata": {
        "colab": {
          "base_uri": "https://localhost:8080/",
          "height": 441
        },
        "id": "v4NoIBYW8Y0X",
        "outputId": "a4f3191d-a0e5-4e5f-d706-0c3b148fb653"
      },
      "execution_count": 54,
      "outputs": [
        {
          "output_type": "display_data",
          "data": {
            "text/plain": [
              "<Figure size 640x480 with 1 Axes>"
            ],
            "image/png": "[encoded data removed]"
          },
          "metadata": {}
        }
      ]
    },
    {
      "cell_type": "code",
      "source": [
        "def apply_step(params, prn=True):\n",
        "  preds = f(time,params)\n",
        "  loss=mse(preds,speed)\n",
        "  loss.backward()\n",
        "  params.data -= lr* params.grad.data\n",
        "  params.grad=None\n",
        "  if prn: print(loss.item())\n",
        "  return preds"
      ],
      "metadata": {
        "id": "PSi-Kv6H8d8-"
      },
      "execution_count": 55,
      "outputs": []
    },
    {
      "cell_type": "code",
      "source": [
        "for i in range(10):\n",
        "  apply_step(params)"
      ],
      "metadata": {
        "colab": {
          "base_uri": "https://localhost:8080/"
        },
        "id": "tiDrBNe688OB",
        "outputId": "01ef25d7-3e33-47b5-e0c9-e7ee239f135c"
      },
      "execution_count": 56,
      "outputs": [
        {
          "output_type": "stream",
          "name": "stdout",
          "text": [
            "5435.53564453125\n",
            "1577.44921875\n",
            "847.3778076171875\n",
            "709.2225341796875\n",
            "683.0758056640625\n",
            "678.1243896484375\n",
            "677.1838989257812\n",
            "677.0023803710938\n",
            "676.9645385742188\n",
            "676.9537353515625\n"
          ]
        }
      ]
    },
    {
      "cell_type": "code",
      "source": [
        "params"
      ],
      "metadata": {
        "colab": {
          "base_uri": "https://localhost:8080/"
        },
        "id": "t7o3F3lt9KCm",
        "outputId": "0270c266-36af-485a-a483-66d4c495c263"
      },
      "execution_count": 57,
      "outputs": [
        {
          "output_type": "execute_result",
          "data": {
            "text/plain": [
              "tensor([ 0.1756, -0.6896,  1.3589], requires_grad=True)"
            ]
          },
          "metadata": {},
          "execution_count": 57
        }
      ]
    },
    {
      "cell_type": "code",
      "source": [
        "_,axs = plt.subplots(1,4,figsize=(12,3))\n",
        "for ax in axs: show_preds(apply_step(params,False),ax)\n",
        "plt.tight_layout()"
      ],
      "metadata": {
        "colab": {
          "base_uri": "https://localhost:8080/",
          "height": 300
        },
        "id": "50jR2bfS9U9n",
        "outputId": "c3a548f9-b8c8-4de1-9ec6-4d4a4bff8b1c"
      },
      "execution_count": 58,
      "outputs": [
        {
          "output_type": "display_data",
          "data": {
            "text/plain": [
              "<Figure size 1200x300 with 4 Axes>"
            ],
            "image/png": "[encoded data removed]"
          },
          "metadata": {}
        }
      ]
    },
    {
      "cell_type": "code",
      "source": [
        "train_x = torch.cat([stacked_threes,stacked_sevens]).view(-1,28*28)"
      ],
      "metadata": {
        "id": "xk666bbH982m"
      },
      "execution_count": 59,
      "outputs": []
    },
    {
      "cell_type": "code",
      "source": [
        "train_x[1:3,:]"
      ],
      "metadata": {
        "colab": {
          "base_uri": "https://localhost:8080/"
        },
        "id": "ePXI5ORTSzts",
        "outputId": "5db15fbb-050e-4af5-d584-ece9f8d9f4b2"
      },
      "execution_count": 60,
      "outputs": [
        {
          "output_type": "execute_result",
          "data": {
            "text/plain": [
              "tensor([[0., 0., 0.,  ..., 0., 0., 0.],\n",
              "        [0., 0., 0.,  ..., 0., 0., 0.]])"
            ]
          },
          "metadata": {},
          "execution_count": 60
        }
      ]
    },
    {
      "cell_type": "code",
      "source": [
        "train_y = tensor([1]*len(threes) + [0]*len(sevens)).unsqueeze(1)\n",
        "train_x.shape, train_y.shape"
      ],
      "metadata": {
        "colab": {
          "base_uri": "https://localhost:8080/"
        },
        "id": "aavUndpHS1jH",
        "outputId": "0ccdbbc9-b7dd-4f33-a48d-9aebf8e7c37d"
      },
      "execution_count": 61,
      "outputs": [
        {
          "output_type": "execute_result",
          "data": {
            "text/plain": [
              "(torch.Size([12396, 784]), torch.Size([12396, 1]))"
            ]
          },
          "metadata": {},
          "execution_count": 61
        }
      ]
    },
    {
      "cell_type": "code",
      "source": [
        "dset = list(zip(train_x,train_y))\n",
        "x,y = dset[0]\n",
        "\n"
      ],
      "metadata": {
        "id": "YWsjJQg8TVlo"
      },
      "execution_count": 62,
      "outputs": []
    },
    {
      "cell_type": "code",
      "source": [
        "x.shape, y"
      ],
      "metadata": {
        "colab": {
          "base_uri": "https://localhost:8080/"
        },
        "id": "PKv-JMhEUpsY",
        "outputId": "333fc0cd-d4ba-4655-84df-a89d15352845"
      },
      "execution_count": 63,
      "outputs": [
        {
          "output_type": "execute_result",
          "data": {
            "text/plain": [
              "(torch.Size([784]), tensor([1]))"
            ]
          },
          "metadata": {},
          "execution_count": 63
        }
      ]
    },
    {
      "cell_type": "code",
      "source": [
        "valid_x = torch.cat([valid_3_tens, valid_7_tens]).view(-1,28*28)\n",
        "valid_y = tensor([1]* len(valid_3_tens) + [0]*len(valid_7_tens)).unsqueeze(1)\n",
        "valid_dset = list(zip(valid_x, valid_y))"
      ],
      "metadata": {
        "id": "Cit4ggF2Ur3Q"
      },
      "execution_count": 64,
      "outputs": []
    },
    {
      "cell_type": "code",
      "source": [
        "def init_params(size, std=1.0): return (torch.randn(size) * std).requires_grad_()"
      ],
      "metadata": {
        "id": "ApRhYXclUfC8"
      },
      "execution_count": 65,
      "outputs": []
    },
    {
      "cell_type": "code",
      "source": [
        "weights = init_params((28*28,1))\n",
        "weights"
      ],
      "metadata": {
        "colab": {
          "base_uri": "https://localhost:8080/"
        },
        "id": "KEwO5FsJWC18",
        "outputId": "6a7a9666-00ce-43f3-b487-3e84240f5d15"
      },
      "execution_count": 66,
      "outputs": [
        {
          "output_type": "execute_result",
          "data": {
            "text/plain": [
              "tensor([[ 1.3123e+00],\n",
              "        [ 6.8716e-01],\n",
              "        [-1.0892e+00],\n",
              "        [-3.5529e-01],\n",
              "        [-9.1382e-01],\n",
              "        [-6.5814e-01],\n",
              "        [ 7.8024e-02],\n",
              "        [ 5.2581e-01],\n",
              "        [ 1.1790e+00],\n",
              "        [-4.3445e-01],\n",
              "        [-1.3864e+00],\n",
              "        [-1.2862e+00],\n",
              "        [-1.4032e+00],\n",
              "        [ 3.6004e-02],\n",
              "        [-6.3477e-02],\n",
              "        [ 6.7561e-01],\n",
              "        [ 3.6725e-01],\n",
              "        [ 1.7541e-01],\n",
              "        [ 1.3852e+00],\n",
              "        [-4.4585e-01],\n",
              "        [ 1.4451e+00],\n",
              "        [ 8.5641e-01],\n",
              "        [ 2.2181e+00],\n",
              "        [ 5.2317e-01],\n",
              "        [ 1.1754e+00],\n",
              "        [ 5.6117e-01],\n",
              "        [-4.5275e-01],\n",
              "        [-7.7178e-01],\n",
              "        [-1.7219e-01],\n",
              "        [ 5.2379e-01],\n",
              "        [ 5.6622e-02],\n",
              "        [ 4.2630e-01],\n",
              "        [ 1.9707e-01],\n",
              "        [-1.1441e+00],\n",
              "        [ 3.3832e-01],\n",
              "        [ 1.6992e+00],\n",
              "        [ 1.0868e-02],\n",
              "        [-3.3874e-01],\n",
              "        [-1.3407e+00],\n",
              "        [-5.8537e-01],\n",
              "        [-5.6444e-01],\n",
              "        [ 1.0563e+00],\n",
              "        [-1.4692e+00],\n",
              "        [ 1.4332e+00],\n",
              "        [ 7.4395e-01],\n",
              "        [-4.8158e-01],\n",
              "        [-1.0495e+00],\n",
              "        [ 6.0390e-01],\n",
              "        [ 4.0481e-01],\n",
              "        [-1.3543e+00],\n",
              "        [-4.9765e-01],\n",
              "        [ 4.7466e-01],\n",
              "        [-2.5095e+00],\n",
              "        [ 4.8800e-01],\n",
              "        [ 7.8459e-01],\n",
              "        [ 2.8647e-02],\n",
              "        [ 1.7423e+00],\n",
              "        [-1.3527e+00],\n",
              "        [ 2.1906e-01],\n",
              "        [ 5.5263e-01],\n",
              "        [-1.8527e-01],\n",
              "        [ 7.5276e-01],\n",
              "        [ 4.0476e-01],\n",
              "        [ 1.7847e-01],\n",
              "        [-3.1651e-01],\n",
              "        [ 5.8863e-01],\n",
              "        [-8.9046e-01],\n",
              "        [ 4.0981e-01],\n",
              "        [-1.4570e+00],\n",
              "        [-1.0234e-01],\n",
              "        [-5.9915e-01],\n",
              "        [ 4.7706e-01],\n",
              "        [-1.6933e-01],\n",
              "        [ 2.3323e-01],\n",
              "        [ 4.0356e+00],\n",
              "        [ 1.2795e+00],\n",
              "        [-1.2685e-02],\n",
              "        [ 2.4084e-01],\n",
              "        [ 1.3254e-01],\n",
              "        [ 7.6424e-01],\n",
              "        [ 5.1769e-01],\n",
              "        [ 3.8778e-01],\n",
              "        [-5.7968e-01],\n",
              "        [-1.6912e-01],\n",
              "        [ 1.9312e+00],\n",
              "        [ 1.0119e+00],\n",
              "        [-1.4364e+00],\n",
              "        [-1.1299e+00],\n",
              "        [ 2.7037e-01],\n",
              "        [-5.6282e-01],\n",
              "        [ 6.7934e-01],\n",
              "        [ 4.4053e-01],\n",
              "        [ 1.1415e+00],\n",
              "        [ 1.8565e-02],\n",
              "        [-1.8058e+00],\n",
              "        [ 9.2543e-01],\n",
              "        [ 1.4805e+00],\n",
              "        [ 3.4493e-01],\n",
              "        [-1.4241e+00],\n",
              "        [-1.1633e-01],\n",
              "        [-9.7267e-01],\n",
              "        [ 9.5846e-01],\n",
              "        [ 1.6192e+00],\n",
              "        [ 1.4506e+00],\n",
              "        [-4.2528e-01],\n",
              "        [ 2.6252e-01],\n",
              "        [-1.4391e+00],\n",
              "        [ 5.2138e-01],\n",
              "        [ 3.4875e-01],\n",
              "        [ 9.6759e-01],\n",
              "        [-4.6569e-01],\n",
              "        [ 1.6048e+00],\n",
              "        [-4.2572e-01],\n",
              "        [-1.3371e+00],\n",
              "        [-1.9334e-01],\n",
              "        [ 6.5264e-01],\n",
              "        [-1.9006e+00],\n",
              "        [ 2.2858e-01],\n",
              "        [ 2.4859e-02],\n",
              "        [-3.4595e-01],\n",
              "        [-1.6535e+00],\n",
              "        [ 6.8142e-01],\n",
              "        [ 1.4611e+00],\n",
              "        [-3.0975e-01],\n",
              "        [-1.6022e+00],\n",
              "        [ 1.3529e+00],\n",
              "        [ 1.2888e+00],\n",
              "        [ 5.2295e-02],\n",
              "        [-1.2956e+00],\n",
              "        [ 5.0276e-02],\n",
              "        [-5.8548e-01],\n",
              "        [-3.9000e-01],\n",
              "        [ 3.5818e-02],\n",
              "        [ 1.2059e-01],\n",
              "        [-8.0566e-01],\n",
              "        [-2.0758e-01],\n",
              "        [-1.1586e+00],\n",
              "        [-9.6366e-01],\n",
              "        [-3.7500e-01],\n",
              "        [ 8.0325e-01],\n",
              "        [-5.1877e-01],\n",
              "        [-1.5013e+00],\n",
              "        [-1.9267e+00],\n",
              "        [ 1.2785e-01],\n",
              "        [-9.5632e-01],\n",
              "        [-1.2476e+00],\n",
              "        [-7.4994e-01],\n",
              "        [-5.9219e-01],\n",
              "        [ 1.7744e+00],\n",
              "        [-9.2155e-01],\n",
              "        [ 9.6245e-01],\n",
              "        [-3.3702e-01],\n",
              "        [-4.3871e-02],\n",
              "        [ 2.3681e-01],\n",
              "        [-7.0607e-01],\n",
              "        [-7.1691e-01],\n",
              "        [ 5.2606e-01],\n",
              "        [ 2.1120e+00],\n",
              "        [-5.2076e-01],\n",
              "        [-9.3201e-01],\n",
              "        [ 1.0608e+00],\n",
              "        [ 2.0830e-01],\n",
              "        [-5.7785e-01],\n",
              "        [ 3.2546e-01],\n",
              "        [-8.1463e-01],\n",
              "        [-1.0212e+00],\n",
              "        [-4.9492e-01],\n",
              "        [-5.9225e-01],\n",
              "        [ 4.0487e-01],\n",
              "        [ 6.3188e-01],\n",
              "        [ 3.1253e-01],\n",
              "        [-3.3502e-02],\n",
              "        [-3.9800e-01],\n",
              "        [ 1.0805e+00],\n",
              "        [-1.7809e+00],\n",
              "        [ 1.5080e+00],\n",
              "        [ 3.6183e-01],\n",
              "        [ 1.9993e+00],\n",
              "        [ 6.6301e-01],\n",
              "        [ 7.0473e-01],\n",
              "        [-4.5051e-03],\n",
              "        [ 1.6668e+00],\n",
              "        [ 1.5392e-01],\n",
              "        [-1.0603e+00],\n",
              "        [ 5.0710e-01],\n",
              "        [ 8.2078e-02],\n",
              "        [ 4.4398e-01],\n",
              "        [-7.2403e-01],\n",
              "        [-7.1988e-02],\n",
              "        [-9.0609e-01],\n",
              "        [-2.0487e+00],\n",
              "        [-1.0811e+00],\n",
              "        [-9.8271e-01],\n",
              "        [ 3.0177e-01],\n",
              "        [ 1.7869e-01],\n",
              "        [-1.2931e-01],\n",
              "        [-9.2913e-01],\n",
              "        [ 2.7619e-01],\n",
              "        [-5.3888e-01],\n",
              "        [ 4.6258e-01],\n",
              "        [ 6.3332e-01],\n",
              "        [ 4.0500e-01],\n",
              "        [ 3.4159e-01],\n",
              "        [-2.2136e-01],\n",
              "        [ 1.2554e+00],\n",
              "        [-7.1496e-01],\n",
              "        [ 8.5392e-01],\n",
              "        [ 5.1299e-01],\n",
              "        [ 6.4269e-01],\n",
              "        [ 5.7425e-01],\n",
              "        [ 5.8672e-01],\n",
              "        [-1.8847e-02],\n",
              "        [-6.8548e-01],\n",
              "        [ 5.6356e-01],\n",
              "        [-1.5072e+00],\n",
              "        [-1.6107e+00],\n",
              "        [-8.0515e-01],\n",
              "        [ 5.1580e-01],\n",
              "        [-7.1288e-01],\n",
              "        [ 2.1962e-01],\n",
              "        [-1.5988e+00],\n",
              "        [-1.0913e-01],\n",
              "        [ 7.1520e-01],\n",
              "        [ 3.9139e-02],\n",
              "        [ 8.3509e-01],\n",
              "        [-3.1571e-01],\n",
              "        [ 2.6911e-01],\n",
              "        [ 8.5404e-02],\n",
              "        [-1.3793e+00],\n",
              "        [ 6.2580e-01],\n",
              "        [-2.5850e+00],\n",
              "        [-2.4000e-02],\n",
              "        [ 5.2394e-01],\n",
              "        [-2.6935e-01],\n",
              "        [-1.6191e+00],\n",
              "        [ 1.2588e-03],\n",
              "        [ 1.1930e+00],\n",
              "        [ 1.9373e+00],\n",
              "        [ 7.2871e-01],\n",
              "        [ 9.8089e-01],\n",
              "        [ 7.9865e-01],\n",
              "        [ 9.1047e-01],\n",
              "        [-8.8018e-02],\n",
              "        [ 3.3700e-01],\n",
              "        [ 9.7329e-01],\n",
              "        [-1.0151e+00],\n",
              "        [-5.4192e-01],\n",
              "        [-4.4102e-01],\n",
              "        [ 2.5103e-01],\n",
              "        [ 7.6999e-02],\n",
              "        [-2.0634e-01],\n",
              "        [ 2.1698e+00],\n",
              "        [ 2.0207e+00],\n",
              "        [ 2.5392e-01],\n",
              "        [ 9.3644e-01],\n",
              "        [ 7.1224e-01],\n",
              "        [-5.5719e-01],\n",
              "        [-9.6835e-01],\n",
              "        [ 8.7128e-01],\n",
              "        [-9.5641e-02],\n",
              "        [ 4.0380e-01],\n",
              "        [-7.1398e-01],\n",
              "        [ 8.3373e-01],\n",
              "        [-9.5855e-01],\n",
              "        [ 1.0682e+00],\n",
              "        [-2.5272e-01],\n",
              "        [-1.8815e-01],\n",
              "        [-7.7115e-01],\n",
              "        [ 1.7989e-01],\n",
              "        [-2.1268e+00],\n",
              "        [-1.3408e-01],\n",
              "        [-1.0408e+00],\n",
              "        [ 7.6942e-01],\n",
              "        [ 2.5574e+00],\n",
              "        [ 5.7161e-01],\n",
              "        [ 1.3596e+00],\n",
              "        [ 4.3344e-01],\n",
              "        [-7.1719e-01],\n",
              "        [ 1.0554e+00],\n",
              "        [-1.4534e+00],\n",
              "        [ 1.7361e+00],\n",
              "        [ 1.8350e+00],\n",
              "        [ 8.8002e-01],\n",
              "        [ 5.6080e-02],\n",
              "        [ 3.7818e-01],\n",
              "        [ 7.0511e-01],\n",
              "        [-1.7237e+00],\n",
              "        [-8.4348e-01],\n",
              "        [-4.8619e-01],\n",
              "        [-3.3600e-01],\n",
              "        [ 3.6716e-02],\n",
              "        [ 4.9340e-01],\n",
              "        [ 8.8538e-01],\n",
              "        [ 1.8244e-01],\n",
              "        [ 7.8638e-01],\n",
              "        [-5.7920e-02],\n",
              "        [ 1.3637e-01],\n",
              "        [ 3.0880e-01],\n",
              "        [ 1.6617e+00],\n",
              "        [ 1.7512e-01],\n",
              "        [ 6.0841e-01],\n",
              "        [ 1.6309e+00],\n",
              "        [-8.4723e-02],\n",
              "        [ 1.0844e+00],\n",
              "        [ 1.9537e-01],\n",
              "        [-1.3350e+00],\n",
              "        [ 3.9451e-01],\n",
              "        [ 1.7060e+00],\n",
              "        [-7.9394e-01],\n",
              "        [ 3.7523e-01],\n",
              "        [ 8.7910e-02],\n",
              "        [-1.2415e+00],\n",
              "        [-5.6626e-01],\n",
              "        [ 3.9892e-01],\n",
              "        [ 1.3695e+00],\n",
              "        [-2.5189e-01],\n",
              "        [ 1.9003e+00],\n",
              "        [ 1.6951e+00],\n",
              "        [ 2.8090e-02],\n",
              "        [-1.7537e-01],\n",
              "        [ 4.0854e-01],\n",
              "        [-1.2609e+00],\n",
              "        [ 9.1652e-01],\n",
              "        [-2.8006e-02],\n",
              "        [-2.1844e-01],\n",
              "        [ 1.6630e-01],\n",
              "        [ 2.1442e+00],\n",
              "        [ 1.7046e+00],\n",
              "        [ 1.5460e+00],\n",
              "        [ 5.4476e-01],\n",
              "        [ 9.9346e-01],\n",
              "        [ 5.0667e-01],\n",
              "        [-1.3969e-01],\n",
              "        [-1.1808e+00],\n",
              "        [-1.2829e+00],\n",
              "        [ 4.4849e-01],\n",
              "        [ 4.9029e-01],\n",
              "        [-4.3747e-01],\n",
              "        [-1.2201e+00],\n",
              "        [-5.8542e-01],\n",
              "        [ 6.6637e-01],\n",
              "        [-7.4265e-02],\n",
              "        [-2.0960e-01],\n",
              "        [ 1.6632e-01],\n",
              "        [-1.8316e+00],\n",
              "        [ 3.5699e-01],\n",
              "        [ 9.1429e-01],\n",
              "        [ 2.1882e+00],\n",
              "        [-9.8515e-01],\n",
              "        [-2.4885e+00],\n",
              "        [-3.3132e-01],\n",
              "        [ 8.4358e-01],\n",
              "        [-3.1824e-01],\n",
              "        [ 1.2154e+00],\n",
              "        [ 1.4200e+00],\n",
              "        [-5.4650e-02],\n",
              "        [ 2.4700e-02],\n",
              "        [-1.0641e+00],\n",
              "        [-7.6019e-01],\n",
              "        [-4.0751e-01],\n",
              "        [ 3.1054e-01],\n",
              "        [ 3.7145e-01],\n",
              "        [ 2.6968e-01],\n",
              "        [ 7.8999e-01],\n",
              "        [ 9.4461e-01],\n",
              "        [-1.5824e+00],\n",
              "        [ 9.8713e-01],\n",
              "        [ 1.1457e+00],\n",
              "        [-2.7107e+00],\n",
              "        [-6.1301e-01],\n",
              "        [ 1.3917e+00],\n",
              "        [ 2.2285e-01],\n",
              "        [ 6.8388e-01],\n",
              "        [-1.3246e+00],\n",
              "        [-5.1608e-01],\n",
              "        [ 6.0018e-01],\n",
              "        [ 4.1451e-01],\n",
              "        [ 1.3664e+00],\n",
              "        [ 1.3947e+00],\n",
              "        [-7.3959e-01],\n",
              "        [-4.8333e-01],\n",
              "        [-7.4029e-01],\n",
              "        [ 3.1428e-01],\n",
              "        [ 1.4156e-01],\n",
              "        [-3.0158e-01],\n",
              "        [-1.4033e+00],\n",
              "        [-1.3271e+00],\n",
              "        [-9.9475e-01],\n",
              "        [-4.9400e-01],\n",
              "        [ 1.1366e+00],\n",
              "        [-4.6184e-01],\n",
              "        [ 1.4200e+00],\n",
              "        [ 8.2107e-01],\n",
              "        [-6.7529e-02],\n",
              "        [ 9.4907e-01],\n",
              "        [-3.9834e-01],\n",
              "        [ 6.8990e-01],\n",
              "        [-1.3129e+00],\n",
              "        [ 3.7804e-02],\n",
              "        [-1.1702e+00],\n",
              "        [ 2.3664e+00],\n",
              "        [-6.3234e-01],\n",
              "        [-3.6152e-01],\n",
              "        [-1.6917e+00],\n",
              "        [-1.3839e+00],\n",
              "        [ 4.8687e-01],\n",
              "        [-1.0020e+00],\n",
              "        [ 3.2949e-02],\n",
              "        [ 1.5164e+00],\n",
              "        [-4.3893e-01],\n",
              "        [-3.9991e-01],\n",
              "        [-1.3291e+00],\n",
              "        [ 1.5914e+00],\n",
              "        [-1.2081e-01],\n",
              "        [-4.8302e-01],\n",
              "        [ 1.1330e-01],\n",
              "        [ 1.1226e+00],\n",
              "        [ 1.2491e+00],\n",
              "        [ 1.4194e+00],\n",
              "        [ 1.5193e-01],\n",
              "        [ 1.0966e+00],\n",
              "        [-6.8369e-01],\n",
              "        [ 6.6043e-02],\n",
              "        [-7.7380e-04],\n",
              "        [-1.2605e-01],\n",
              "        [-6.1262e-01],\n",
              "        [-4.8355e-01],\n",
              "        [-5.4189e-01],\n",
              "        [-1.0597e+00],\n",
              "        [ 3.0573e-01],\n",
              "        [ 4.1506e-01],\n",
              "        [-7.1741e-01],\n",
              "        [ 2.0587e-01],\n",
              "        [ 2.7220e-01],\n",
              "        [ 6.0855e-02],\n",
              "        [-1.1774e+00],\n",
              "        [ 1.6217e+00],\n",
              "        [ 8.5127e-01],\n",
              "        [-4.0047e-01],\n",
              "        [-6.0883e-01],\n",
              "        [ 7.1336e-01],\n",
              "        [ 5.2985e-01],\n",
              "        [-9.1013e-01],\n",
              "        [ 6.8631e-01],\n",
              "        [-4.5031e-01],\n",
              "        [-7.2966e-02],\n",
              "        [-5.4795e-01],\n",
              "        [-1.1426e+00],\n",
              "        [-1.0009e+00],\n",
              "        [-6.3100e-02],\n",
              "        [-9.6068e-01],\n",
              "        [ 8.3139e-01],\n",
              "        [ 1.1799e+00],\n",
              "        [-3.3143e-01],\n",
              "        [ 6.4950e-01],\n",
              "        [ 9.4959e-02],\n",
              "        [ 9.5283e-01],\n",
              "        [ 1.1891e+00],\n",
              "        [-5.6830e-01],\n",
              "        [-8.5015e-01],\n",
              "        [-9.6385e-01],\n",
              "        [-2.5668e+00],\n",
              "        [ 7.0961e-01],\n",
              "        [ 8.1984e-01],\n",
              "        [ 9.1435e-01],\n",
              "        [ 1.0095e+00],\n",
              "        [ 8.9462e-01],\n",
              "        [-2.8780e-01],\n",
              "        [-1.3638e+00],\n",
              "        [ 1.9296e-01],\n",
              "        [-6.1033e-01],\n",
              "        [ 1.6323e-01],\n",
              "        [-3.9118e-01],\n",
              "        [ 1.6985e-01],\n",
              "        [-8.7040e-01],\n",
              "        [ 3.0508e-02],\n",
              "        [ 5.2169e-01],\n",
              "        [-4.6387e-01],\n",
              "        [ 1.8238e-01],\n",
              "        [-3.8666e-01],\n",
              "        [-1.8300e+00],\n",
              "        [ 3.6471e-01],\n",
              "        [ 7.8932e-01],\n",
              "        [-1.3341e+00],\n",
              "        [ 1.3439e+00],\n",
              "        [-1.2922e+00],\n",
              "        [ 7.6624e-01],\n",
              "        [ 6.4540e-01],\n",
              "        [ 7.7788e-01],\n",
              "        [-5.7623e-02],\n",
              "        [-1.3171e+00],\n",
              "        [ 1.5819e-01],\n",
              "        [ 2.5403e-01],\n",
              "        [-1.7906e-01],\n",
              "        [ 1.1993e+00],\n",
              "        [-4.2922e-01],\n",
              "        [ 5.4387e-01],\n",
              "        [-5.2142e-01],\n",
              "        [-7.5755e-01],\n",
              "        [-7.5627e-02],\n",
              "        [-1.7376e+00],\n",
              "        [-1.2535e-01],\n",
              "        [-1.3658e+00],\n",
              "        [ 1.1117e+00],\n",
              "        [-3.7637e-01],\n",
              "        [ 9.8742e-01],\n",
              "        [ 6.4150e-01],\n",
              "        [-1.3313e+00],\n",
              "        [ 2.0071e+00],\n",
              "        [-1.2531e+00],\n",
              "        [ 1.1189e+00],\n",
              "        [ 1.7733e+00],\n",
              "        [ 9.2260e-01],\n",
              "        [ 4.8716e-01],\n",
              "        [ 1.4920e+00],\n",
              "        [ 1.3264e-02],\n",
              "        [ 1.8595e+00],\n",
              "        [ 2.6221e+00],\n",
              "        [ 3.6905e-01],\n",
              "        [ 3.8030e-01],\n",
              "        [ 1.2571e+00],\n",
              "        [ 1.2173e+00],\n",
              "        [ 5.8395e-01],\n",
              "        [ 3.3843e+00],\n",
              "        [ 4.7390e-01],\n",
              "        [ 6.5034e-01],\n",
              "        [ 1.1662e+00],\n",
              "        [ 1.6936e-02],\n",
              "        [ 2.3372e-01],\n",
              "        [ 1.4083e+00],\n",
              "        [-2.0686e+00],\n",
              "        [ 8.6857e-01],\n",
              "        [-8.0322e-01],\n",
              "        [-1.1209e+00],\n",
              "        [ 1.9564e-01],\n",
              "        [-7.8152e-01],\n",
              "        [-6.1194e-01],\n",
              "        [ 6.0262e-01],\n",
              "        [-8.3618e-01],\n",
              "        [-3.3326e-01],\n",
              "        [-4.8010e-01],\n",
              "        [-1.2872e+00],\n",
              "        [ 7.3888e-01],\n",
              "        [ 3.3895e-02],\n",
              "        [-1.1860e+00],\n",
              "        [ 1.2986e+00],\n",
              "        [ 8.9667e-01],\n",
              "        [-2.1818e+00],\n",
              "        [ 6.1277e-02],\n",
              "        [ 8.5261e-02],\n",
              "        [ 7.4813e-01],\n",
              "        [-1.6356e-01],\n",
              "        [ 3.0481e-01],\n",
              "        [ 5.1303e-01],\n",
              "        [-1.2514e+00],\n",
              "        [-8.3081e-01],\n",
              "        [ 4.9816e-01],\n",
              "        [-1.2000e+00],\n",
              "        [ 1.2711e-01],\n",
              "        [ 4.4037e-01],\n",
              "        [ 4.7277e-01],\n",
              "        [ 3.6402e-01],\n",
              "        [-2.8120e-01],\n",
              "        [-1.0375e+00],\n",
              "        [-1.8737e+00],\n",
              "        [ 2.3259e+00],\n",
              "        [-9.2039e-01],\n",
              "        [ 6.6611e-01],\n",
              "        [ 8.9822e-01],\n",
              "        [-1.5388e-01],\n",
              "        [-5.6820e-01],\n",
              "        [-8.6795e-02],\n",
              "        [-8.4834e-01],\n",
              "        [ 1.6489e+00],\n",
              "        [ 1.6006e+00],\n",
              "        [-7.8589e-02],\n",
              "        [ 9.7003e-01],\n",
              "        [-6.7577e-01],\n",
              "        [ 2.0425e-01],\n",
              "        [-2.6476e-02],\n",
              "        [-4.1379e-01],\n",
              "        [ 5.1841e-01],\n",
              "        [-7.0154e-01],\n",
              "        [-4.3234e-01],\n",
              "        [ 6.6608e-02],\n",
              "        [-9.1199e-01],\n",
              "        [ 3.6821e-01],\n",
              "        [ 7.0497e-01],\n",
              "        [-1.0838e+00],\n",
              "        [-3.8893e-01],\n",
              "        [ 8.1261e-01],\n",
              "        [ 1.4981e+00],\n",
              "        [ 3.1258e-01],\n",
              "        [-5.2286e-02],\n",
              "        [-1.8611e-01],\n",
              "        [-7.8841e-01],\n",
              "        [-1.2787e+00],\n",
              "        [-3.8427e-02],\n",
              "        [ 1.9138e+00],\n",
              "        [ 3.3784e-01],\n",
              "        [ 2.0705e-02],\n",
              "        [ 7.4287e-01],\n",
              "        [-3.0620e-01],\n",
              "        [ 5.9373e-01],\n",
              "        [ 4.5572e-01],\n",
              "        [ 2.5033e-01],\n",
              "        [-1.3611e+00],\n",
              "        [ 1.8018e+00],\n",
              "        [ 1.5287e+00],\n",
              "        [-9.3240e-01],\n",
              "        [ 1.3527e+00],\n",
              "        [ 1.6028e-01],\n",
              "        [-4.1456e-01],\n",
              "        [-6.9024e-01],\n",
              "        [-2.2996e-01],\n",
              "        [-2.1723e+00],\n",
              "        [ 1.6077e+00],\n",
              "        [-8.0643e-01],\n",
              "        [ 7.3201e-02],\n",
              "        [-2.0952e+00],\n",
              "        [-9.5362e-01],\n",
              "        [-9.2473e-02],\n",
              "        [-1.0167e+00],\n",
              "        [-7.6757e-03],\n",
              "        [-1.3237e+00],\n",
              "        [-3.6746e-01],\n",
              "        [ 1.0117e+00],\n",
              "        [-1.4080e+00],\n",
              "        [ 2.1296e+00],\n",
              "        [-1.5181e+00],\n",
              "        [ 1.3873e-01],\n",
              "        [-1.1798e+00],\n",
              "        [ 1.1162e+00],\n",
              "        [ 2.9159e-01],\n",
              "        [ 2.9770e-01],\n",
              "        [ 7.5923e-01],\n",
              "        [-2.7936e+00],\n",
              "        [-7.1115e-01],\n",
              "        [ 5.2352e-01],\n",
              "        [-1.7106e+00],\n",
              "        [-7.8717e-01],\n",
              "        [ 2.4992e+00],\n",
              "        [-3.0195e-01],\n",
              "        [ 2.2069e-01],\n",
              "        [ 1.5133e-01],\n",
              "        [ 7.3939e-01],\n",
              "        [ 2.7310e-01],\n",
              "        [ 2.7312e+00],\n",
              "        [-4.5870e-01],\n",
              "        [-1.5441e-01],\n",
              "        [-2.1314e-01],\n",
              "        [-8.8802e-01],\n",
              "        [-1.0874e-01],\n",
              "        [-4.1890e-01],\n",
              "        [ 1.4384e+00],\n",
              "        [-7.0684e-01],\n",
              "        [ 1.6513e+00],\n",
              "        [-5.1567e-01],\n",
              "        [-7.5318e-01],\n",
              "        [-5.5455e-02],\n",
              "        [ 3.2203e-01],\n",
              "        [ 4.4606e-01],\n",
              "        [ 1.5230e+00],\n",
              "        [ 1.2805e+00],\n",
              "        [ 7.2196e-01],\n",
              "        [-5.9426e-01],\n",
              "        [ 1.9674e-01],\n",
              "        [-4.0626e-01],\n",
              "        [-1.3642e+00],\n",
              "        [ 8.2057e-03],\n",
              "        [-4.0586e-01],\n",
              "        [-7.1109e-01],\n",
              "        [-5.9511e-01],\n",
              "        [-1.4568e-01],\n",
              "        [-3.8542e-01],\n",
              "        [ 8.1006e-01],\n",
              "        [ 9.5949e-01],\n",
              "        [ 1.0351e-01],\n",
              "        [ 8.2903e-01],\n",
              "        [ 2.0921e+00],\n",
              "        [ 1.4306e+00],\n",
              "        [-2.5830e-01],\n",
              "        [-7.9175e-01],\n",
              "        [ 4.7021e-01],\n",
              "        [ 9.0639e-02],\n",
              "        [ 1.7423e+00],\n",
              "        [-1.2660e+00],\n",
              "        [ 3.8916e-01],\n",
              "        [ 1.1128e-01],\n",
              "        [-1.5339e+00],\n",
              "        [-8.7439e-01],\n",
              "        [ 2.1726e+00],\n",
              "        [ 2.2524e-01],\n",
              "        [-7.7245e-02],\n",
              "        [ 9.8569e-01],\n",
              "        [ 1.2783e+00],\n",
              "        [-3.4867e-01],\n",
              "        [-8.2238e-01],\n",
              "        [-1.4740e+00],\n",
              "        [-3.5021e-01],\n",
              "        [ 4.5902e-01],\n",
              "        [ 5.3093e-01],\n",
              "        [-1.3615e+00],\n",
              "        [ 1.9562e+00],\n",
              "        [-7.1250e-01],\n",
              "        [-1.5326e-01],\n",
              "        [ 8.2447e-01],\n",
              "        [ 1.4659e+00],\n",
              "        [-1.0087e-03],\n",
              "        [-8.4943e-01],\n",
              "        [-1.6594e+00],\n",
              "        [ 3.0629e-01],\n",
              "        [-1.7602e-02],\n",
              "        [-1.9953e+00],\n",
              "        [ 1.2103e+00],\n",
              "        [-1.3310e-01],\n",
              "        [ 8.2437e-01],\n",
              "        [ 7.9835e-01],\n",
              "        [ 1.8890e+00],\n",
              "        [ 5.9346e-01],\n",
              "        [ 4.1699e-02],\n",
              "        [-3.3566e-01],\n",
              "        [-1.2594e+00],\n",
              "        [-2.1307e-01],\n",
              "        [ 3.4436e-01],\n",
              "        [-3.1016e+00],\n",
              "        [-1.4587e+00],\n",
              "        [-1.4318e+00],\n",
              "        [ 1.3071e-01],\n",
              "        [ 1.7127e+00],\n",
              "        [ 6.4644e-01],\n",
              "        [ 1.3794e-01],\n",
              "        [ 5.2335e-01],\n",
              "        [-8.2118e-01],\n",
              "        [-4.7087e-01],\n",
              "        [ 6.0164e-01],\n",
              "        [ 3.5015e-02],\n",
              "        [ 8.4218e-01],\n",
              "        [-2.1079e-01],\n",
              "        [ 8.0115e-01],\n",
              "        [ 1.6917e-02],\n",
              "        [ 8.0277e-02],\n",
              "        [ 7.4484e-01],\n",
              "        [ 1.3455e+00],\n",
              "        [ 1.2975e+00],\n",
              "        [-9.6455e-02],\n",
              "        [ 1.3945e+00],\n",
              "        [-1.3005e+00],\n",
              "        [-7.3467e-01],\n",
              "        [ 4.4657e-02],\n",
              "        [-1.5211e+00],\n",
              "        [ 3.4784e-01],\n",
              "        [-3.9783e-01],\n",
              "        [ 7.5833e-01],\n",
              "        [-5.3466e-01],\n",
              "        [-1.4576e-01],\n",
              "        [ 9.2130e-01],\n",
              "        [ 5.2824e-01],\n",
              "        [-8.2284e-03],\n",
              "        [-1.4493e+00],\n",
              "        [ 5.8851e-01],\n",
              "        [ 7.0912e-01],\n",
              "        [-2.6448e-01],\n",
              "        [-2.9836e+00],\n",
              "        [-4.1460e-01],\n",
              "        [ 1.4559e+00],\n",
              "        [ 3.3165e-01],\n",
              "        [-1.0001e+00],\n",
              "        [-5.0971e-02],\n",
              "        [ 1.4310e+00],\n",
              "        [ 3.6733e-01],\n",
              "        [-1.9229e-02],\n",
              "        [-1.0667e+00],\n",
              "        [-1.9893e+00],\n",
              "        [ 2.9731e-01],\n",
              "        [ 4.3446e-01],\n",
              "        [-1.4201e+00],\n",
              "        [-5.5593e-01],\n",
              "        [ 1.6862e+00],\n",
              "        [ 9.8853e-01],\n",
              "        [ 1.3676e+00],\n",
              "        [-3.1974e-01],\n",
              "        [-9.1309e-01],\n",
              "        [ 1.9192e+00]], requires_grad=True)"
            ]
          },
          "metadata": {},
          "execution_count": 66
        }
      ]
    },
    {
      "cell_type": "code",
      "source": [
        "bias = init_params(1)\n",
        "bias"
      ],
      "metadata": {
        "colab": {
          "base_uri": "https://localhost:8080/"
        },
        "id": "uIo2ENoQWI-a",
        "outputId": "94779f17-ecc4-449c-fa7e-a80739f2caf9"
      },
      "execution_count": 67,
      "outputs": [
        {
          "output_type": "execute_result",
          "data": {
            "text/plain": [
              "tensor([0.6863], requires_grad=True)"
            ]
          },
          "metadata": {},
          "execution_count": 67
        }
      ]
    },
    {
      "cell_type": "code",
      "source": [
        "def linear1(xb): return xb@weights + bias\n",
        "preds = linear1(train_x)\n",
        "preds"
      ],
      "metadata": {
        "colab": {
          "base_uri": "https://localhost:8080/"
        },
        "id": "VySzRgkeWPky",
        "outputId": "497a34b8-a9f1-4453-bc0a-d687219d6ee1"
      },
      "execution_count": 68,
      "outputs": [
        {
          "output_type": "execute_result",
          "data": {
            "text/plain": [
              "tensor([[20.2336],\n",
              "        [17.0644],\n",
              "        [15.2384],\n",
              "        ...,\n",
              "        [18.3804],\n",
              "        [23.8567],\n",
              "        [28.6816]], grad_fn=<AddBackward0>)"
            ]
          },
          "metadata": {},
          "execution_count": 68
        }
      ]
    },
    {
      "cell_type": "code",
      "source": [
        "corrects = (preds>0.0).float() ==train_y\n",
        "corrects"
      ],
      "metadata": {
        "colab": {
          "base_uri": "https://localhost:8080/"
        },
        "id": "ol5SKYvkW0TU",
        "outputId": "21695937-83de-468d-a561-c5f84a92ed9b"
      },
      "execution_count": 69,
      "outputs": [
        {
          "output_type": "execute_result",
          "data": {
            "text/plain": [
              "tensor([[ True],\n",
              "        [ True],\n",
              "        [ True],\n",
              "        ...,\n",
              "        [False],\n",
              "        [False],\n",
              "        [False]])"
            ]
          },
          "metadata": {},
          "execution_count": 69
        }
      ]
    },
    {
      "cell_type": "code",
      "source": [
        "corrects.float().mean().item()"
      ],
      "metadata": {
        "colab": {
          "base_uri": "https://localhost:8080/"
        },
        "id": "-Zn3LOlPYKby",
        "outputId": "ec6734b5-419a-4386-c97f-5438b3d99397"
      },
      "execution_count": 70,
      "outputs": [
        {
          "output_type": "execute_result",
          "data": {
            "text/plain": [
              "0.4912068545818329"
            ]
          },
          "metadata": {},
          "execution_count": 70
        }
      ]
    },
    {
      "cell_type": "code",
      "source": [
        "def mnist_loss(predictions,target): return torch.where(target==1, 1-predictions, predictions).mean()"
      ],
      "metadata": {
        "id": "Uq6CVbZGYt3c"
      },
      "execution_count": 71,
      "outputs": []
    },
    {
      "cell_type": "code",
      "source": [
        "trgts = tensor([1,0,1])\n",
        "prds = tensor([0.9,0.4,0.2])"
      ],
      "metadata": {
        "id": "vs1xuBF_Ziyw"
      },
      "execution_count": 72,
      "outputs": []
    },
    {
      "cell_type": "code",
      "source": [
        "torch.where(trgts==1, 1-prds,prds)"
      ],
      "metadata": {
        "colab": {
          "base_uri": "https://localhost:8080/"
        },
        "id": "EuPN6-UoZuws",
        "outputId": "49d6d69b-0cc8-4ddd-9dab-915a327f01a7"
      },
      "execution_count": 73,
      "outputs": [
        {
          "output_type": "execute_result",
          "data": {
            "text/plain": [
              "tensor([0.1000, 0.4000, 0.8000])"
            ]
          },
          "metadata": {},
          "execution_count": 73
        }
      ]
    },
    {
      "cell_type": "code",
      "source": [
        "mnist_loss(prds,trgts)"
      ],
      "metadata": {
        "colab": {
          "base_uri": "https://localhost:8080/"
        },
        "id": "L_R_e0diaLzc",
        "outputId": "a46d2657-4fea-4683-eeb5-723ffd856134"
      },
      "execution_count": 74,
      "outputs": [
        {
          "output_type": "execute_result",
          "data": {
            "text/plain": [
              "tensor(0.4333)"
            ]
          },
          "metadata": {},
          "execution_count": 74
        }
      ]
    },
    {
      "cell_type": "code",
      "source": [
        "plot_function(torch.sigmoid, title='Sigmooid', min=-4, max=4)"
      ],
      "metadata": {
        "colab": {
          "base_uri": "https://localhost:8080/",
          "height": 396
        },
        "id": "McH-6VSQalCl",
        "outputId": "6cb04192-1214-48b9-ba22-72552d99bd57"
      },
      "execution_count": 75,
      "outputs": [
        {
          "output_type": "display_data",
          "data": {
            "text/plain": [
              "<Figure size 600x400 with 1 Axes>"
            ],
            "image/png": "[encoded data removed]"
          },
          "metadata": {}
        }
      ]
    },
    {
      "cell_type": "code",
      "source": [
        "def mnist_loss(predictions,targets):\n",
        "  predictions = predictions.sigmoid()\n",
        "  return torch.where(targets==1, 1-predictions,predictions).mean()\n"
      ],
      "metadata": {
        "id": "BXDvchDq2mkB"
      },
      "execution_count": 76,
      "outputs": []
    },
    {
      "cell_type": "code",
      "source": [
        "weights = init_params((28*28,1))\n",
        "bias = init_params(1)"
      ],
      "metadata": {
        "id": "dfh1--tj3LTc"
      },
      "execution_count": 77,
      "outputs": []
    },
    {
      "cell_type": "code",
      "source": [
        "dl = DataLoader(dset,batch_size=256)\n",
        "valid_dl = DataLoader(valid_dset,batch_size=256)\n"
      ],
      "metadata": {
        "id": "vmZSoRfVmbuQ"
      },
      "execution_count": 78,
      "outputs": []
    },
    {
      "cell_type": "code",
      "source": [
        "batch = train_x[:4]\n",
        "batch.shape"
      ],
      "metadata": {
        "colab": {
          "base_uri": "https://localhost:8080/"
        },
        "id": "XK0JvVb2nvo9",
        "outputId": "da3471f9-0af2-4934-ca3a-6479183886c2"
      },
      "execution_count": 79,
      "outputs": [
        {
          "output_type": "execute_result",
          "data": {
            "text/plain": [
              "torch.Size([4, 784])"
            ]
          },
          "metadata": {},
          "execution_count": 79
        }
      ]
    },
    {
      "cell_type": "code",
      "source": [
        "preds = linear1(batch)\n",
        "preds"
      ],
      "metadata": {
        "colab": {
          "base_uri": "https://localhost:8080/"
        },
        "id": "ZmzkCBjEn0du",
        "outputId": "446ebe36-0401-4d0d-c2cb-72118798d6a3"
      },
      "execution_count": 80,
      "outputs": [
        {
          "output_type": "execute_result",
          "data": {
            "text/plain": [
              "tensor([[-15.0592],\n",
              "        [ -6.4868],\n",
              "        [-14.2646],\n",
              "        [-11.4282]], grad_fn=<AddBackward0>)"
            ]
          },
          "metadata": {},
          "execution_count": 80
        }
      ]
    },
    {
      "cell_type": "code",
      "source": [
        "loss = mnist_loss(preds,train_y[:4])\n",
        "loss"
      ],
      "metadata": {
        "colab": {
          "base_uri": "https://localhost:8080/"
        },
        "id": "axmx3NXHn5jw",
        "outputId": "891c0776-77d4-4543-ec14-fb8fe79bda54"
      },
      "execution_count": 81,
      "outputs": [
        {
          "output_type": "execute_result",
          "data": {
            "text/plain": [
              "tensor(0.9996, grad_fn=<MeanBackward0>)"
            ]
          },
          "metadata": {},
          "execution_count": 81
        }
      ]
    },
    {
      "cell_type": "code",
      "source": [
        "loss.backward()"
      ],
      "metadata": {
        "id": "sHmnie-yoCA0"
      },
      "execution_count": 82,
      "outputs": []
    },
    {
      "cell_type": "code",
      "source": [
        "weights.grad.shape, weights.grad.mean(), bias.grad"
      ],
      "metadata": {
        "colab": {
          "base_uri": "https://localhost:8080/"
        },
        "id": "zQ_yQQhLoD8s",
        "outputId": "fb623708-7532-48e3-b47f-9c30869a37e7"
      },
      "execution_count": 83,
      "outputs": [
        {
          "output_type": "execute_result",
          "data": {
            "text/plain": [
              "(torch.Size([784, 1]), tensor(-5.4572e-05), tensor([-0.0004]))"
            ]
          },
          "metadata": {},
          "execution_count": 83
        }
      ]
    },
    {
      "cell_type": "code",
      "source": [
        "def calc_grad(xb,yb,model):\n",
        "  preds = model(xb)\n",
        "  loss = mnist_loss(preds,yb)\n",
        "  loss.backward()"
      ],
      "metadata": {
        "id": "wzUbElDOoLaX"
      },
      "execution_count": 84,
      "outputs": []
    },
    {
      "cell_type": "code",
      "source": [
        "calc_grad(batch,train_y[:4],linear1)"
      ],
      "metadata": {
        "id": "WjIaZMIaohKY"
      },
      "execution_count": 85,
      "outputs": []
    },
    {
      "cell_type": "code",
      "source": [
        "weights.grad.shape, weights.grad.mean(), bias.grad\n"
      ],
      "metadata": {
        "colab": {
          "base_uri": "https://localhost:8080/"
        },
        "id": "Zb3Zm2KBoqmU",
        "outputId": "92674082-4e6d-4da0-ec38-928203c72bca"
      },
      "execution_count": 86,
      "outputs": [
        {
          "output_type": "execute_result",
          "data": {
            "text/plain": [
              "(torch.Size([784, 1]), tensor(-0.0001), tensor([-0.0008]))"
            ]
          },
          "metadata": {},
          "execution_count": 86
        }
      ]
    },
    {
      "cell_type": "code",
      "source": [
        "calc_grad(batch,train_y[:4],linear1)\n",
        "weights.grad.shape, weights.grad.mean(), bias.grad"
      ],
      "metadata": {
        "colab": {
          "base_uri": "https://localhost:8080/"
        },
        "id": "_iDmA0Xroxmn",
        "outputId": "6dc88e10-de48-4bad-b3c0-4c257e276178"
      },
      "execution_count": 87,
      "outputs": [
        {
          "output_type": "execute_result",
          "data": {
            "text/plain": [
              "(torch.Size([784, 1]), tensor(-0.0002), tensor([-0.0011]))"
            ]
          },
          "metadata": {},
          "execution_count": 87
        }
      ]
    },
    {
      "cell_type": "code",
      "source": [
        "weights.grad.zero_()\n",
        "bias.grad.zero_();"
      ],
      "metadata": {
        "id": "4UuHV8mnpAC8"
      },
      "execution_count": 88,
      "outputs": []
    },
    {
      "cell_type": "code",
      "source": [
        "def train_epoch(model, lr, params):\n",
        "  for xb,yb in dl:\n",
        "    calc_grad(xb,yb,model)\n",
        "    for p in params:\n",
        "      p.data -= p.grad*lr\n",
        "      p.grad.zero_()"
      ],
      "metadata": {
        "id": "zLnQ4U_bpRss"
      },
      "execution_count": 89,
      "outputs": []
    },
    {
      "cell_type": "code",
      "source": [
        "def batch_accuracy(xb,yb):\n",
        "  preds = xb.sigmoid()\n",
        "  correct = (preds>0.5)==yb\n",
        "  return correct.float().mean()"
      ],
      "metadata": {
        "id": "A_SKFYy7qKyK"
      },
      "execution_count": 90,
      "outputs": []
    },
    {
      "cell_type": "code",
      "source": [
        "batch_accuracy(linear1(batch),train_y[:4])"
      ],
      "metadata": {
        "colab": {
          "base_uri": "https://localhost:8080/"
        },
        "id": "AaKQ0Q92q0Y7",
        "outputId": "e00b1eab-49f8-4875-c1b5-f65b76957df6"
      },
      "execution_count": 91,
      "outputs": [
        {
          "output_type": "execute_result",
          "data": {
            "text/plain": [
              "tensor(0.)"
            ]
          },
          "metadata": {},
          "execution_count": 91
        }
      ]
    },
    {
      "cell_type": "code",
      "source": [
        "def validate_epoch(model):\n",
        "  accs = [batch_accuracy(model(xb),yb) for xb,yb in valid_dl]\n",
        "  return round(torch.stack(accs).mean().item(),4)\n",
        "\n",
        "validate_epoch(linear1)"
      ],
      "metadata": {
        "colab": {
          "base_uri": "https://localhost:8080/"
        },
        "id": "-Nc-VowmrfdF",
        "outputId": "e2d658e7-f3ce-4730-c8fd-07876afaa6f8"
      },
      "execution_count": 92,
      "outputs": [
        {
          "output_type": "execute_result",
          "data": {
            "text/plain": [
              "0.4772"
            ]
          },
          "metadata": {},
          "execution_count": 92
        }
      ]
    },
    {
      "cell_type": "code",
      "source": [
        "lr=1.\n",
        "params = weights,bias\n",
        "train_epoch(linear1,lr,params)\n",
        "validate_epoch(linear1)"
      ],
      "metadata": {
        "colab": {
          "base_uri": "https://localhost:8080/"
        },
        "id": "xkbbhuQBsN6g",
        "outputId": "7ada1e73-492e-4b45-9138-a084c1e6525c"
      },
      "execution_count": 93,
      "outputs": [
        {
          "output_type": "execute_result",
          "data": {
            "text/plain": [
              "0.66"
            ]
          },
          "metadata": {},
          "execution_count": 93
        }
      ]
    },
    {
      "cell_type": "code",
      "source": [
        "for i in range(20):\n",
        "  train_epoch(linear1,lr,params)\n",
        "  print(validate_epoch(linear1), end=' ')"
      ],
      "metadata": {
        "colab": {
          "base_uri": "https://localhost:8080/"
        },
        "id": "CoZ7UZ1-tQLz",
        "outputId": "af7f6ec7-bf04-4ccb-a6ea-d6f7c982b7b6"
      },
      "execution_count": 94,
      "outputs": [
        {
          "output_type": "stream",
          "name": "stdout",
          "text": [
            "0.8587 0.9198 0.9388 0.9495 0.9573 0.9617 0.9657 0.9666 0.9681 0.9696 0.9701 0.9706 0.9716 0.972 0.9715 0.9715 0.972 0.972 0.972 0.9725 "
          ]
        }
      ]
    },
    {
      "cell_type": "code",
      "source": [
        "linear_model = nn.Linear(28*28,1)"
      ],
      "metadata": {
        "id": "-dU0diwftY2_"
      },
      "execution_count": 95,
      "outputs": []
    },
    {
      "cell_type": "code",
      "source": [
        "class BasicOptim:\n",
        "  def __init__(self, params,lr): self.params,self.lr=list(params),lr\n",
        "\n",
        "  def step(self, *args, **kwargs):\n",
        "    for p in self.params:\n",
        "      p.data -= p.grad.data * self.lr\n",
        "\n",
        "  def zero_grad(self, *args, **kwargs):\n",
        "    for p in self.params:\n",
        "      p.grad = None"
      ],
      "metadata": {
        "id": "JaoZ5isuvqcG"
      },
      "execution_count": 96,
      "outputs": []
    },
    {
      "cell_type": "code",
      "source": [
        "opt = BasicOptim(linear_model.parameters(), lr)"
      ],
      "metadata": {
        "id": "ScgPH1ocxwRl"
      },
      "execution_count": 97,
      "outputs": []
    },
    {
      "cell_type": "code",
      "source": [
        "def train_epoch(model):\n",
        "  for xb,yb in dl:\n",
        "    calc_grad(xb,yb,model)\n",
        "    opt.step()\n",
        "    opt.zero_grad()\n"
      ],
      "metadata": {
        "id": "0dI5mO5syCIr"
      },
      "execution_count": 98,
      "outputs": []
    },
    {
      "cell_type": "code",
      "source": [
        "validate_epoch(linear_model)"
      ],
      "metadata": {
        "colab": {
          "base_uri": "https://localhost:8080/"
        },
        "id": "oFctPpDAyfSQ",
        "outputId": "98842b1f-7307-4df1-8a74-dec5b9d64f63"
      },
      "execution_count": 99,
      "outputs": [
        {
          "output_type": "execute_result",
          "data": {
            "text/plain": [
              "0.5355"
            ]
          },
          "metadata": {},
          "execution_count": 99
        }
      ]
    },
    {
      "cell_type": "code",
      "source": [
        "def train_model(model,epochs):\n",
        "  for i in range(epochs):\n",
        "    train_epoch(model)\n",
        "    print(validate_epoch(model), end=' ')"
      ],
      "metadata": {
        "id": "SSFfOdQ2ywp0"
      },
      "execution_count": 100,
      "outputs": []
    },
    {
      "cell_type": "code",
      "source": [
        "train_model(linear_model,20)"
      ],
      "metadata": {
        "colab": {
          "base_uri": "https://localhost:8080/"
        },
        "id": "6FAD5RIzzGdM",
        "outputId": "64462ced-225b-438a-9a0d-ced297eda526"
      },
      "execution_count": 101,
      "outputs": [
        {
          "output_type": "stream",
          "name": "stdout",
          "text": [
            "0.4932 0.7041 0.8608 0.918 0.9365 0.9497 0.9575 0.9638 0.9658 0.9677 0.9697 0.9721 0.9746 0.9751 0.976 0.977 0.9775 0.978 0.978 0.979 "
          ]
        }
      ]
    },
    {
      "cell_type": "code",
      "source": [
        "linear_model = nn.Linear(28*28,1)\n",
        "opt = SGD(linear_model.parameters(), lr)\n",
        "train_model(linear_model,20)"
      ],
      "metadata": {
        "colab": {
          "base_uri": "https://localhost:8080/"
        },
        "id": "VsDtmkTmzTNp",
        "outputId": "0688f4df-c9a6-468f-c17a-615602beea32"
      },
      "execution_count": 102,
      "outputs": [
        {
          "output_type": "stream",
          "name": "stdout",
          "text": [
            "0.4932 0.8232 0.8457 0.9116 0.9346 0.9472 0.956 0.9629 0.9663 0.9677 0.9692 0.9712 0.9736 0.9751 0.976 0.977 0.9775 0.978 0.9785 0.9785 "
          ]
        }
      ]
    },
    {
      "cell_type": "code",
      "source": [
        "dls = DataLoaders(dl,valid_dl)"
      ],
      "metadata": {
        "id": "DvGbGVtlz1wL"
      },
      "execution_count": 103,
      "outputs": []
    },
    {
      "cell_type": "code",
      "source": [
        "learn = Learner(dls, nn.Linear(28*28,1),opt_func=SGD,loss_func=mnist_loss, metrics=batch_accuracy)"
      ],
      "metadata": {
        "id": "pDI72Tu60GVC"
      },
      "execution_count": 104,
      "outputs": []
    },
    {
      "cell_type": "code",
      "source": [
        "learn.fit(10,lr=lr)"
      ],
      "metadata": {
        "colab": {
          "base_uri": "https://localhost:8080/",
          "height": 363
        },
        "id": "ynIAqBor0-pU",
        "outputId": "1ebdf5e2-4105-49da-ed9f-5e603283349e"
      },
      "execution_count": 105,
      "outputs": [
        {
          "output_type": "display_data",
          "data": {
            "text/plain": [
              "<IPython.core.display.HTML object>"
            ],
            "text/html": [
              "\n",
              "<style>\n",
              "    /* Turns off some styling */\n",
              "    progress {\n",
              "        /* gets rid of default border in Firefox and Opera. */\n",
              "        border: none;\n",
              "        /* Needs to be in here for Safari polyfill so background images work as expected. */\n",
              "        background-size: auto;\n",
              "    }\n",
              "    progress:not([value]), progress:not([value])::-webkit-progress-bar {\n",
              "        background: repeating-linear-gradient(45deg, #7e7e7e, #7e7e7e 10px, #5c5c5c 10px, #5c5c5c 20px);\n",
              "    }\n",
              "    .progress-bar-interrupted, .progress-bar-interrupted::-webkit-progress-bar {\n",
              "        background: #F44336;\n",
              "    }\n",
              "</style>\n"
            ]
          },
          "metadata": {}
        },
        {
          "output_type": "display_data",
          "data": {
            "text/plain": [
              "<IPython.core.display.HTML object>"
            ],
            "text/html": [
              "<table border=\"1\" class=\"dataframe\">\n",
              "  <thead>\n",
              "    <tr style=\"text-align: left;\">\n",
              "      <th>epoch</th>\n",
              "      <th>train_loss</th>\n",
              "      <th>valid_loss</th>\n",
              "      <th>batch_accuracy</th>\n",
              "      <th>time</th>\n",
              "    </tr>\n",
              "  </thead>\n",
              "  <tbody>\n",
              "    <tr>\n",
              "      <td>0</td>\n",
              "      <td>0.636975</td>\n",
              "      <td>0.503282</td>\n",
              "      <td>0.495584</td>\n",
              "      <td>00:00</td>\n",
              "    </tr>\n",
              "    <tr>\n",
              "      <td>1</td>\n",
              "      <td>0.456669</td>\n",
              "      <td>0.226874</td>\n",
              "      <td>0.799313</td>\n",
              "      <td>00:00</td>\n",
              "    </tr>\n",
              "    <tr>\n",
              "      <td>2</td>\n",
              "      <td>0.170127</td>\n",
              "      <td>0.167773</td>\n",
              "      <td>0.848871</td>\n",
              "      <td>00:00</td>\n",
              "    </tr>\n",
              "    <tr>\n",
              "      <td>3</td>\n",
              "      <td>0.075970</td>\n",
              "      <td>0.102127</td>\n",
              "      <td>0.915604</td>\n",
              "      <td>00:00</td>\n",
              "    </tr>\n",
              "    <tr>\n",
              "      <td>4</td>\n",
              "      <td>0.041200</td>\n",
              "      <td>0.075564</td>\n",
              "      <td>0.934740</td>\n",
              "      <td>00:00</td>\n",
              "    </tr>\n",
              "    <tr>\n",
              "      <td>5</td>\n",
              "      <td>0.027552</td>\n",
              "      <td>0.060998</td>\n",
              "      <td>0.948479</td>\n",
              "      <td>00:00</td>\n",
              "    </tr>\n",
              "    <tr>\n",
              "      <td>6</td>\n",
              "      <td>0.021906</td>\n",
              "      <td>0.051840</td>\n",
              "      <td>0.955839</td>\n",
              "      <td>00:00</td>\n",
              "    </tr>\n",
              "    <tr>\n",
              "      <td>7</td>\n",
              "      <td>0.019373</td>\n",
              "      <td>0.045708</td>\n",
              "      <td>0.961727</td>\n",
              "      <td>00:00</td>\n",
              "    </tr>\n",
              "    <tr>\n",
              "      <td>8</td>\n",
              "      <td>0.018074</td>\n",
              "      <td>0.041382</td>\n",
              "      <td>0.965653</td>\n",
              "      <td>00:00</td>\n",
              "    </tr>\n",
              "    <tr>\n",
              "      <td>9</td>\n",
              "      <td>0.017285</td>\n",
              "      <td>0.038191</td>\n",
              "      <td>0.967615</td>\n",
              "      <td>00:00</td>\n",
              "    </tr>\n",
              "  </tbody>\n",
              "</table>"
            ]
          },
          "metadata": {}
        }
      ]
    },
    {
      "cell_type": "code",
      "source": [
        "def simple_net(xb):\n",
        "  res = xb@w1 + b1\n",
        "  res = res.max(tensor(0.0))\n",
        "  res = res@w2 + b2\n",
        "  return res"
      ],
      "metadata": {
        "id": "Lv8cdZql1Bqd"
      },
      "execution_count": 106,
      "outputs": []
    },
    {
      "cell_type": "code",
      "source": [
        "w1 = init_params((28*28,30))\n",
        "b1 = init_params(30)\n",
        "w2 = init_params((30,1))\n",
        "b2 = init_params(1)"
      ],
      "metadata": {
        "id": "GyVBy6Hu2t2A"
      },
      "execution_count": 107,
      "outputs": []
    },
    {
      "cell_type": "code",
      "source": [
        "simple_net = nn.Sequential(\n",
        "    nn.Linear(28*28,30),\n",
        "    nn.ReLU(),\n",
        "    nn.Linear(30,1)\n",
        ")"
      ],
      "metadata": {
        "id": "URJ5HJDL3Fmq"
      },
      "execution_count": 111,
      "outputs": []
    },
    {
      "cell_type": "code",
      "source": [
        "learn = Learner(dls,simple_net,opt_func=SGD, loss_func=mnist_loss,metrics = batch_accuracy)"
      ],
      "metadata": {
        "id": "HYBpBv-u4N_g"
      },
      "execution_count": 112,
      "outputs": []
    },
    {
      "cell_type": "code",
      "source": [
        "learn.fit(40,0.1)"
      ],
      "metadata": {
        "colab": {
          "base_uri": "https://localhost:8080/",
          "height": 1000
        },
        "id": "z_fq5Ya-Iu_w",
        "outputId": "56516f8b-f3e2-4b60-ec2f-9a2eac139a39"
      },
      "execution_count": 113,
      "outputs": [
        {
          "output_type": "display_data",
          "data": {
            "text/plain": [
              "<IPython.core.display.HTML object>"
            ],
            "text/html": [
              "\n",
              "<style>\n",
              "    /* Turns off some styling */\n",
              "    progress {\n",
              "        /* gets rid of default border in Firefox and Opera. */\n",
              "        border: none;\n",
              "        /* Needs to be in here for Safari polyfill so background images work as expected. */\n",
              "        background-size: auto;\n",
              "    }\n",
              "    progress:not([value]), progress:not([value])::-webkit-progress-bar {\n",
              "        background: repeating-linear-gradient(45deg, #7e7e7e, #7e7e7e 10px, #5c5c5c 10px, #5c5c5c 20px);\n",
              "    }\n",
              "    .progress-bar-interrupted, .progress-bar-interrupted::-webkit-progress-bar {\n",
              "        background: #F44336;\n",
              "    }\n",
              "</style>\n"
            ]
          },
          "metadata": {}
        },
        {
          "output_type": "display_data",
          "data": {
            "text/plain": [
              "<IPython.core.display.HTML object>"
            ],
            "text/html": [
              "<table border=\"1\" class=\"dataframe\">\n",
              "  <thead>\n",
              "    <tr style=\"text-align: left;\">\n",
              "      <th>epoch</th>\n",
              "      <th>train_loss</th>\n",
              "      <th>valid_loss</th>\n",
              "      <th>batch_accuracy</th>\n",
              "      <th>time</th>\n",
              "    </tr>\n",
              "  </thead>\n",
              "  <tbody>\n",
              "    <tr>\n",
              "      <td>0</td>\n",
              "      <td>0.307176</td>\n",
              "      <td>0.410721</td>\n",
              "      <td>0.506379</td>\n",
              "      <td>00:00</td>\n",
              "    </tr>\n",
              "    <tr>\n",
              "      <td>1</td>\n",
              "      <td>0.142939</td>\n",
              "      <td>0.230399</td>\n",
              "      <td>0.801276</td>\n",
              "      <td>00:00</td>\n",
              "    </tr>\n",
              "    <tr>\n",
              "      <td>2</td>\n",
              "      <td>0.079422</td>\n",
              "      <td>0.115897</td>\n",
              "      <td>0.913641</td>\n",
              "      <td>00:00</td>\n",
              "    </tr>\n",
              "    <tr>\n",
              "      <td>3</td>\n",
              "      <td>0.052391</td>\n",
              "      <td>0.078262</td>\n",
              "      <td>0.941119</td>\n",
              "      <td>00:00</td>\n",
              "    </tr>\n",
              "    <tr>\n",
              "      <td>4</td>\n",
              "      <td>0.039835</td>\n",
              "      <td>0.061149</td>\n",
              "      <td>0.956330</td>\n",
              "      <td>00:00</td>\n",
              "    </tr>\n",
              "    <tr>\n",
              "      <td>5</td>\n",
              "      <td>0.033405</td>\n",
              "      <td>0.051550</td>\n",
              "      <td>0.963199</td>\n",
              "      <td>00:00</td>\n",
              "    </tr>\n",
              "    <tr>\n",
              "      <td>6</td>\n",
              "      <td>0.029705</td>\n",
              "      <td>0.045500</td>\n",
              "      <td>0.964671</td>\n",
              "      <td>00:00</td>\n",
              "    </tr>\n",
              "    <tr>\n",
              "      <td>7</td>\n",
              "      <td>0.027297</td>\n",
              "      <td>0.041368</td>\n",
              "      <td>0.966634</td>\n",
              "      <td>00:00</td>\n",
              "    </tr>\n",
              "    <tr>\n",
              "      <td>8</td>\n",
              "      <td>0.025562</td>\n",
              "      <td>0.038362</td>\n",
              "      <td>0.969087</td>\n",
              "      <td>00:00</td>\n",
              "    </tr>\n",
              "    <tr>\n",
              "      <td>9</td>\n",
              "      <td>0.024216</td>\n",
              "      <td>0.036063</td>\n",
              "      <td>0.969087</td>\n",
              "      <td>00:00</td>\n",
              "    </tr>\n",
              "    <tr>\n",
              "      <td>10</td>\n",
              "      <td>0.023125</td>\n",
              "      <td>0.034235</td>\n",
              "      <td>0.971541</td>\n",
              "      <td>00:00</td>\n",
              "    </tr>\n",
              "    <tr>\n",
              "      <td>11</td>\n",
              "      <td>0.022213</td>\n",
              "      <td>0.032736</td>\n",
              "      <td>0.972522</td>\n",
              "      <td>00:00</td>\n",
              "    </tr>\n",
              "    <tr>\n",
              "      <td>12</td>\n",
              "      <td>0.021436</td>\n",
              "      <td>0.031476</td>\n",
              "      <td>0.973013</td>\n",
              "      <td>00:00</td>\n",
              "    </tr>\n",
              "    <tr>\n",
              "      <td>13</td>\n",
              "      <td>0.020764</td>\n",
              "      <td>0.030395</td>\n",
              "      <td>0.973994</td>\n",
              "      <td>00:00</td>\n",
              "    </tr>\n",
              "    <tr>\n",
              "      <td>14</td>\n",
              "      <td>0.020175</td>\n",
              "      <td>0.029454</td>\n",
              "      <td>0.974975</td>\n",
              "      <td>00:00</td>\n",
              "    </tr>\n",
              "    <tr>\n",
              "      <td>15</td>\n",
              "      <td>0.019653</td>\n",
              "      <td>0.028626</td>\n",
              "      <td>0.975957</td>\n",
              "      <td>00:00</td>\n",
              "    </tr>\n",
              "    <tr>\n",
              "      <td>16</td>\n",
              "      <td>0.019187</td>\n",
              "      <td>0.027891</td>\n",
              "      <td>0.976448</td>\n",
              "      <td>00:00</td>\n",
              "    </tr>\n",
              "    <tr>\n",
              "      <td>17</td>\n",
              "      <td>0.018766</td>\n",
              "      <td>0.027232</td>\n",
              "      <td>0.976938</td>\n",
              "      <td>00:00</td>\n",
              "    </tr>\n",
              "    <tr>\n",
              "      <td>18</td>\n",
              "      <td>0.018384</td>\n",
              "      <td>0.026637</td>\n",
              "      <td>0.976938</td>\n",
              "      <td>00:00</td>\n",
              "    </tr>\n",
              "    <tr>\n",
              "      <td>19</td>\n",
              "      <td>0.018035</td>\n",
              "      <td>0.026099</td>\n",
              "      <td>0.977429</td>\n",
              "      <td>00:00</td>\n",
              "    </tr>\n",
              "    <tr>\n",
              "      <td>20</td>\n",
              "      <td>0.017714</td>\n",
              "      <td>0.025608</td>\n",
              "      <td>0.977429</td>\n",
              "      <td>00:00</td>\n",
              "    </tr>\n",
              "    <tr>\n",
              "      <td>21</td>\n",
              "      <td>0.017418</td>\n",
              "      <td>0.025158</td>\n",
              "      <td>0.977429</td>\n",
              "      <td>00:00</td>\n",
              "    </tr>\n",
              "    <tr>\n",
              "      <td>22</td>\n",
              "      <td>0.017142</td>\n",
              "      <td>0.024744</td>\n",
              "      <td>0.977429</td>\n",
              "      <td>00:00</td>\n",
              "    </tr>\n",
              "    <tr>\n",
              "      <td>23</td>\n",
              "      <td>0.016885</td>\n",
              "      <td>0.024362</td>\n",
              "      <td>0.978901</td>\n",
              "      <td>00:00</td>\n",
              "    </tr>\n",
              "    <tr>\n",
              "      <td>24</td>\n",
              "      <td>0.016644</td>\n",
              "      <td>0.024009</td>\n",
              "      <td>0.980373</td>\n",
              "      <td>00:00</td>\n",
              "    </tr>\n",
              "    <tr>\n",
              "      <td>25</td>\n",
              "      <td>0.016418</td>\n",
              "      <td>0.023682</td>\n",
              "      <td>0.980864</td>\n",
              "      <td>00:00</td>\n",
              "    </tr>\n",
              "    <tr>\n",
              "      <td>26</td>\n",
              "      <td>0.016204</td>\n",
              "      <td>0.023378</td>\n",
              "      <td>0.980864</td>\n",
              "      <td>00:00</td>\n",
              "    </tr>\n",
              "    <tr>\n",
              "      <td>27</td>\n",
              "      <td>0.016002</td>\n",
              "      <td>0.023095</td>\n",
              "      <td>0.980864</td>\n",
              "      <td>00:00</td>\n",
              "    </tr>\n",
              "    <tr>\n",
              "      <td>28</td>\n",
              "      <td>0.015811</td>\n",
              "      <td>0.022831</td>\n",
              "      <td>0.981354</td>\n",
              "      <td>00:00</td>\n",
              "    </tr>\n",
              "    <tr>\n",
              "      <td>29</td>\n",
              "      <td>0.015629</td>\n",
              "      <td>0.022584</td>\n",
              "      <td>0.981354</td>\n",
              "      <td>00:00</td>\n",
              "    </tr>\n",
              "    <tr>\n",
              "      <td>30</td>\n",
              "      <td>0.015456</td>\n",
              "      <td>0.022354</td>\n",
              "      <td>0.981845</td>\n",
              "      <td>00:00</td>\n",
              "    </tr>\n",
              "    <tr>\n",
              "      <td>31</td>\n",
              "      <td>0.015292</td>\n",
              "      <td>0.022139</td>\n",
              "      <td>0.982336</td>\n",
              "      <td>00:00</td>\n",
              "    </tr>\n",
              "    <tr>\n",
              "      <td>32</td>\n",
              "      <td>0.015135</td>\n",
              "      <td>0.021936</td>\n",
              "      <td>0.982826</td>\n",
              "      <td>00:00</td>\n",
              "    </tr>\n",
              "    <tr>\n",
              "      <td>33</td>\n",
              "      <td>0.014984</td>\n",
              "      <td>0.021746</td>\n",
              "      <td>0.982336</td>\n",
              "      <td>00:00</td>\n",
              "    </tr>\n",
              "    <tr>\n",
              "      <td>34</td>\n",
              "      <td>0.014840</td>\n",
              "      <td>0.021567</td>\n",
              "      <td>0.982336</td>\n",
              "      <td>00:00</td>\n",
              "    </tr>\n",
              "    <tr>\n",
              "      <td>35</td>\n",
              "      <td>0.014702</td>\n",
              "      <td>0.021399</td>\n",
              "      <td>0.982336</td>\n",
              "      <td>00:00</td>\n",
              "    </tr>\n",
              "    <tr>\n",
              "      <td>36</td>\n",
              "      <td>0.014568</td>\n",
              "      <td>0.021239</td>\n",
              "      <td>0.982336</td>\n",
              "      <td>00:00</td>\n",
              "    </tr>\n",
              "    <tr>\n",
              "      <td>37</td>\n",
              "      <td>0.014440</td>\n",
              "      <td>0.021089</td>\n",
              "      <td>0.982336</td>\n",
              "      <td>00:00</td>\n",
              "    </tr>\n",
              "    <tr>\n",
              "      <td>38</td>\n",
              "      <td>0.014316</td>\n",
              "      <td>0.020946</td>\n",
              "      <td>0.981845</td>\n",
              "      <td>00:00</td>\n",
              "    </tr>\n",
              "    <tr>\n",
              "      <td>39</td>\n",
              "      <td>0.014197</td>\n",
              "      <td>0.020810</td>\n",
              "      <td>0.981845</td>\n",
              "      <td>00:00</td>\n",
              "    </tr>\n",
              "  </tbody>\n",
              "</table>"
            ]
          },
          "metadata": {}
        }
      ]
    },
    {
      "cell_type": "code",
      "source": [
        "plt.plot(L(learn.recorder.values).itemgot(2));"
      ],
      "metadata": {
        "colab": {
          "base_uri": "https://localhost:8080/",
          "height": 436
        },
        "id": "UNUIUmYOIxo_",
        "outputId": "2ea6af7e-8e31-4e47-dbe0-31f1014e7d6e"
      },
      "execution_count": 114,
      "outputs": [
        {
          "output_type": "display_data",
          "data": {
            "text/plain": [
              "<Figure size 640x480 with 1 Axes>"
            ],
            "image/png": "[encoded data removed]"
          },
          "metadata": {}
        }
      ]
    },
    {
      "cell_type": "code",
      "source": [
        "learn.recorder.values[-1][2]"
      ],
      "metadata": {
        "colab": {
          "base_uri": "https://localhost:8080/"
        },
        "id": "4glZbrUvJHfQ",
        "outputId": "eb98be65-bdda-4e46-fc90-1d019c7b171e"
      },
      "execution_count": 115,
      "outputs": [
        {
          "output_type": "execute_result",
          "data": {
            "text/plain": [
              "0.981844961643219"
            ]
          },
          "metadata": {},
          "execution_count": 115
        }
      ]
    },
    {
      "cell_type": "code",
      "source": [],
      "metadata": {
        "id": "tMEAJLJsJtgB"
      },
      "execution_count": null,
      "outputs": []
    }
  ]
}