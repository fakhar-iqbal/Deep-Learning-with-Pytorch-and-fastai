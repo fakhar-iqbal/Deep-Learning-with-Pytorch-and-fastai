{
  "nbformat": 4,
  "nbformat_minor": 0,
  "metadata": {
    "colab": {
      "provenance": [],
      "gpuType": "T4"
    },
    "kernelspec": {
      "name": "python3",
      "display_name": "Python 3"
    },
    "language_info": {
      "name": "python"
    },
    "accelerator": "GPU"
  },
  "cells": [
    {
      "cell_type": "code",
      "execution_count": 1,
      "metadata": {
        "id": "r5WQM5FKGFkv",
        "colab": {
          "base_uri": "https://localhost:8080/"
        },
        "outputId": "78ff4f8a-885c-4a8c-f03b-5595ecb0d936"
      },
      "outputs": [
        {
          "output_type": "stream",
          "name": "stdout",
          "text": [
            "\u001b[2K     \u001b[90m━━━━━━━━━━━━━━━━━━━━━━━━━━━━━━━━━━━━━━━\u001b[0m \u001b[32m719.8/719.8 kB\u001b[0m \u001b[31m4.7 MB/s\u001b[0m eta \u001b[36m0:00:00\u001b[0m\n",
            "\u001b[2K     \u001b[90m━━━━━━━━━━━━━━━━━━━━━━━━━━━━━━━━━━━━━━━━\u001b[0m \u001b[32m7.4/7.4 MB\u001b[0m \u001b[31m16.9 MB/s\u001b[0m eta \u001b[36m0:00:00\u001b[0m\n",
            "\u001b[2K     \u001b[90m━━━━━━━━━━━━━━━━━━━━━━━━━━━━━━━━━━━━━━\u001b[0m \u001b[32m492.2/492.2 kB\u001b[0m \u001b[31m18.3 MB/s\u001b[0m eta \u001b[36m0:00:00\u001b[0m\n",
            "\u001b[2K     \u001b[90m━━━━━━━━━━━━━━━━━━━━━━━━━━━━━━━━━━━━━━━━\u001b[0m \u001b[32m1.3/1.3 MB\u001b[0m \u001b[31m17.6 MB/s\u001b[0m eta \u001b[36m0:00:00\u001b[0m\n",
            "\u001b[2K     \u001b[90m━━━━━━━━━━━━━━━━━━━━━━━━━━━━━━━━━━━━━━━\u001b[0m \u001b[32m115.3/115.3 kB\u001b[0m \u001b[31m8.5 MB/s\u001b[0m eta \u001b[36m0:00:00\u001b[0m\n",
            "\u001b[2K     \u001b[90m━━━━━━━━━━━━━━━━━━━━━━━━━━━━━━━━━━━━━━━\u001b[0m \u001b[32m212.5/212.5 kB\u001b[0m \u001b[31m8.0 MB/s\u001b[0m eta \u001b[36m0:00:00\u001b[0m\n",
            "\u001b[2K     \u001b[90m━━━━━━━━━━━━━━━━━━━━━━━━━━━━━━━━━━━━━━━\u001b[0m \u001b[32m134.8/134.8 kB\u001b[0m \u001b[31m5.1 MB/s\u001b[0m eta \u001b[36m0:00:00\u001b[0m\n",
            "\u001b[2K     \u001b[90m━━━━━━━━━━━━━━━━━━━━━━━━━━━━━━━━━━━━━━━\u001b[0m \u001b[32m268.8/268.8 kB\u001b[0m \u001b[31m8.1 MB/s\u001b[0m eta \u001b[36m0:00:00\u001b[0m\n",
            "\u001b[2K     \u001b[90m━━━━━━━━━━━━━━━━━━━━━━━━━━━━━━━━━━━━━━━━\u001b[0m \u001b[32m7.8/7.8 MB\u001b[0m \u001b[31m14.9 MB/s\u001b[0m eta \u001b[36m0:00:00\u001b[0m\n",
            "\u001b[2K     \u001b[90m━━━━━━━━━━━━━━━━━━━━━━━━━━━━━━━━━━━━━━━━\u001b[0m \u001b[32m1.3/1.3 MB\u001b[0m \u001b[31m19.4 MB/s\u001b[0m eta \u001b[36m0:00:00\u001b[0m\n",
            "\u001b[2K     \u001b[90m━━━━━━━━━━━━━━━━━━━━━━━━━━━━━━━━━━━━━━━━\u001b[0m \u001b[32m1.6/1.6 MB\u001b[0m \u001b[31m46.3 MB/s\u001b[0m eta \u001b[36m0:00:00\u001b[0m\n",
            "\u001b[?25hMounted at /content/gdrive\n"
          ]
        }
      ],
      "source": [
        "! [ -e /content ] && pip install -Uqq fastbook\n",
        "import fastbook\n",
        "fastbook.setup_book()"
      ]
    },
    {
      "cell_type": "code",
      "source": [
        "from fastbook import *\n",
        "from IPython.display import display,HTML"
      ],
      "metadata": {
        "id": "wb9wTdZuHIlX"
      },
      "execution_count": 2,
      "outputs": []
    },
    {
      "cell_type": "code",
      "source": [
        "from fastai.text.all import *\n",
        "path = untar_data(URLs.IMDB)\n",
        "#if __name__ == \"__main__\":\n",
        "#    dls = TextDataLoaders.from_folder(path, valid='test', bs=16)\n"
      ],
      "metadata": {
        "id": "XW4HL3S1HMRZ",
        "colab": {
          "base_uri": "https://localhost:8080/",
          "height": 37
        },
        "outputId": "0506f0a2-09c5-472a-8e3a-1da56adbe598"
      },
      "execution_count": 3,
      "outputs": [
        {
          "output_type": "display_data",
          "data": {
            "text/plain": [
              "<IPython.core.display.HTML object>"
            ],
            "text/html": [
              "\n",
              "<style>\n",
              "    /* Turns off some styling */\n",
              "    progress {\n",
              "        /* gets rid of default border in Firefox and Opera. */\n",
              "        border: none;\n",
              "        /* Needs to be in here for Safari polyfill so background images work as expected. */\n",
              "        background-size: auto;\n",
              "    }\n",
              "    progress:not([value]), progress:not([value])::-webkit-progress-bar {\n",
              "        background: repeating-linear-gradient(45deg, #7e7e7e, #7e7e7e 10px, #5c5c5c 10px, #5c5c5c 20px);\n",
              "    }\n",
              "    .progress-bar-interrupted, .progress-bar-interrupted::-webkit-progress-bar {\n",
              "        background: #F44336;\n",
              "    }\n",
              "</style>\n"
            ]
          },
          "metadata": {}
        },
        {
          "output_type": "display_data",
          "data": {
            "text/plain": [
              "<IPython.core.display.HTML object>"
            ],
            "text/html": [
              "\n",
              "    <div>\n",
              "      <progress value='144441344' class='' max='144440600' style='width:300px; height:20px; vertical-align: middle;'></progress>\n",
              "      100.00% [144441344/144440600 00:03&lt;00:00]\n",
              "    </div>\n",
              "    "
            ]
          },
          "metadata": {}
        }
      ]
    },
    {
      "cell_type": "code",
      "source": [
        "#path = untar_data(URLs.IMDB)\n",
        "#dls = DataBlock(\n",
        "#    blocks=(TextBlock.from_folder(path),CategoryBlock),\n",
        "#    get_y = parent_label,\n",
        "#    get_items = partial(get_text_files, folders=['train', 'test']),\n",
        "#    splitter = GrandparentSplitter(valid_name='test')\n",
        "#).dataloaders(path)"
      ],
      "metadata": {
        "id": "GHNFQLwTHhYC"
      },
      "execution_count": 4,
      "outputs": []
    },
    {
      "cell_type": "code",
      "source": [
        "path = untar_data(URLs.IMDB)\n",
        "\n",
        "files = get_text_files(path,folders=['train','test'])\n",
        "txts = L(o.open().read() for o in files[:2000])"
      ],
      "metadata": {
        "id": "_6ScEBXSIVuE"
      },
      "execution_count": 5,
      "outputs": []
    },
    {
      "cell_type": "code",
      "source": [
        "spacy = WordTokenizer()\n",
        "tkn = Tokenizer(spacy)"
      ],
      "metadata": {
        "id": "wL-74lkwJznd"
      },
      "execution_count": 6,
      "outputs": []
    },
    {
      "cell_type": "code",
      "source": [
        "tkn.setup(txts)\n",
        "\n",
        "tokns = txts.map(tkn)"
      ],
      "metadata": {
        "id": "-o2cQ-RxKsKW"
      },
      "execution_count": 7,
      "outputs": []
    },
    {
      "cell_type": "code",
      "source": [
        "tokns[0]"
      ],
      "metadata": {
        "colab": {
          "base_uri": "https://localhost:8080/"
        },
        "id": "BYPVg7-tQXZv",
        "outputId": "0b356195-4fe2-451d-bcf8-40d209edd7bb"
      },
      "execution_count": 8,
      "outputs": [
        {
          "output_type": "execute_result",
          "data": {
            "text/plain": [
              "(#171) ['xxbos','xxmaj','this','was','really','a','very','bad','movie','.'...]"
            ]
          },
          "metadata": {},
          "execution_count": 8
        }
      ]
    },
    {
      "cell_type": "code",
      "source": [
        "num = Numericalize()\n",
        "num.setup(tokns)\n",
        "nums = tokns.map(num)\n",
        "nums[0][:10]"
      ],
      "metadata": {
        "colab": {
          "base_uri": "https://localhost:8080/"
        },
        "id": "OK94pMJsQbyV",
        "outputId": "119a69f8-6d58-4bc5-f1f1-686a1c77bb60"
      },
      "execution_count": 9,
      "outputs": [
        {
          "output_type": "execute_result",
          "data": {
            "text/plain": [
              "TensorText([ 2,  8, 20, 24, 79, 12, 88, 72, 27, 10])"
            ]
          },
          "metadata": {},
          "execution_count": 9
        }
      ]
    },
    {
      "cell_type": "code",
      "source": [
        "nums_dec = num.decode(nums[0][:10]);\n",
        "nums_dec"
      ],
      "metadata": {
        "colab": {
          "base_uri": "https://localhost:8080/"
        },
        "id": "C9mJjGkUQsFi",
        "outputId": "9e9654a5-dd18-46dd-8caa-1f781d791083"
      },
      "execution_count": 10,
      "outputs": [
        {
          "output_type": "execute_result",
          "data": {
            "text/plain": [
              "(#10) ['xxbos','xxmaj','this','was','really','a','very','bad','movie','.']"
            ]
          },
          "metadata": {},
          "execution_count": 10
        }
      ]
    },
    {
      "cell_type": "code",
      "source": [
        "tkn.decode(nums_dec)"
      ],
      "metadata": {
        "colab": {
          "base_uri": "https://localhost:8080/",
          "height": 35
        },
        "id": "s4MlNi0sRLt2",
        "outputId": "6f723637-7ffe-48f6-828d-c4526768a84a"
      },
      "execution_count": 11,
      "outputs": [
        {
          "output_type": "execute_result",
          "data": {
            "text/plain": [
              "'xxbos xxmaj this was really a very bad movie .'"
            ],
            "application/vnd.google.colaboratory.intrinsic+json": {
              "type": "string"
            }
          },
          "metadata": {},
          "execution_count": 11
        }
      ]
    },
    {
      "cell_type": "code",
      "source": [
        "tkn((txts[0], txts[1]))"
      ],
      "metadata": {
        "colab": {
          "base_uri": "https://localhost:8080/"
        },
        "id": "K09ludPSRbB1",
        "outputId": "99503a3a-ded7-49fb-8a92-0b0e544dc104"
      },
      "execution_count": 12,
      "outputs": [
        {
          "output_type": "execute_result",
          "data": {
            "text/plain": [
              "((#171) ['xxbos','xxmaj','this','was','really','a','very','bad','movie','.'...],\n",
              " (#146) ['xxbos','i','voted','3','for','this','movie','because','it','looks'...])"
            ]
          },
          "metadata": {},
          "execution_count": 12
        }
      ]
    },
    {
      "cell_type": "code",
      "source": [
        "def f(x:int): return x+1\n",
        "\n",
        "tfm = Transform(f)\n",
        "tfm(2), tfm(2.0)"
      ],
      "metadata": {
        "colab": {
          "base_uri": "https://localhost:8080/"
        },
        "id": "uMs1Ago_ShOh",
        "outputId": "7eae139d-ded1-40d5-f4ad-0b6e2dd25e64"
      },
      "execution_count": 13,
      "outputs": [
        {
          "output_type": "execute_result",
          "data": {
            "text/plain": [
              "(3, 2.0)"
            ]
          },
          "metadata": {},
          "execution_count": 13
        }
      ]
    },
    {
      "cell_type": "code",
      "source": [
        "@Transform\n",
        "def f(x:int): return x+1\n",
        "\n",
        "f(2), f(2.0)"
      ],
      "metadata": {
        "colab": {
          "base_uri": "https://localhost:8080/"
        },
        "id": "-dYgZ3tsevlN",
        "outputId": "08468f2a-c44f-4a1e-f49c-c8b0d7b813ec"
      },
      "execution_count": 14,
      "outputs": [
        {
          "output_type": "execute_result",
          "data": {
            "text/plain": [
              "(3, 2.0)"
            ]
          },
          "metadata": {},
          "execution_count": 14
        }
      ]
    },
    {
      "cell_type": "code",
      "source": [
        "class NormalizeMean(Transform):\n",
        "  def setups(self,x): self.mean = sum(x)/len(x)\n",
        "  def encodes(self,x): return x-self.mean\n",
        "  def decodes(self,x): return x + self.mean"
      ],
      "metadata": {
        "id": "wy-PquhofZfI"
      },
      "execution_count": 15,
      "outputs": []
    },
    {
      "cell_type": "code",
      "source": [
        "tfm = NormalizeMean()\n",
        "tfm.setups([1,2,3,4,5])\n",
        "start = 2\n",
        "y = tfm(start)\n",
        "print(y)\n",
        "z = tfm.decode(y)\n",
        "tfm.mean, y,z"
      ],
      "metadata": {
        "colab": {
          "base_uri": "https://localhost:8080/"
        },
        "id": "BwQdJMyngL29",
        "outputId": "544c5d36-1ae5-459e-f3d3-b957472c894b"
      },
      "execution_count": 16,
      "outputs": [
        {
          "output_type": "stream",
          "name": "stdout",
          "text": [
            "-1.0\n"
          ]
        },
        {
          "output_type": "execute_result",
          "data": {
            "text/plain": [
              "(3.0, -1.0, 2.0)"
            ]
          },
          "metadata": {},
          "execution_count": 16
        }
      ]
    },
    {
      "cell_type": "code",
      "source": [
        "tfms= Pipeline([tkn, num])\n",
        "t = tfms(txts[0]);\n",
        "t[:20]"
      ],
      "metadata": {
        "colab": {
          "base_uri": "https://localhost:8080/"
        },
        "id": "e6UlX3_UhK2V",
        "outputId": "c081e711-8ba0-4afa-97da-6832249a8ae8"
      },
      "execution_count": 17,
      "outputs": [
        {
          "output_type": "execute_result",
          "data": {
            "text/plain": [
              "TensorText([   2,    8,   20,   24,   79,   12,   88,   72,   27,   10,   18,  249,   12,  683,  383,   15,    8, 1394,    8,  185])"
            ]
          },
          "metadata": {},
          "execution_count": 17
        }
      ]
    },
    {
      "cell_type": "code",
      "source": [
        "tfms.decode(t)"
      ],
      "metadata": {
        "colab": {
          "base_uri": "https://localhost:8080/",
          "height": 140
        },
        "id": "hoYb5-E2hwu_",
        "outputId": "6596772f-1c75-4278-a793-f78d09a35534"
      },
      "execution_count": 18,
      "outputs": [
        {
          "output_type": "execute_result",
          "data": {
            "text/plain": [
              "\"xxbos xxmaj this was really a very bad movie . i am a huge fan of xxmaj italian xxmaj horror , xxmaj argento , xxmaj mario xxmaj xxunk , xxmaj fulci and yes , even our good friend here xxmaj xxunk sometimes comes out with a good one . i found the first two ' demons ' films to be highly entertaining - they were so bad they were great but this one is just so bad that it is really , really bad . xxmaj it is intensely boring , the story never goes anywhere and i hated the characters - the wife slapping husband and whiny cry - baby pain in the xxrep 3 * wife drove me mad , there was nowhere near enough of the story devoted to the xxmaj xxunk who was probably the best actor in the whole film . i turned it off about three xxunk of the way through because i was very , very xxup bored ! xxmaj do n't bother .\""
            ],
            "application/vnd.google.colaboratory.intrinsic+json": {
              "type": "string"
            }
          },
          "metadata": {},
          "execution_count": 18
        }
      ]
    },
    {
      "cell_type": "markdown",
      "source": [
        "# TfmdLists"
      ],
      "metadata": {
        "id": "BZhwaezbpBjQ"
      }
    },
    {
      "cell_type": "code",
      "source": [
        "tls = TfmdLists(files, [tkn,num])"
      ],
      "metadata": {
        "id": "gtBcj56tjih7"
      },
      "execution_count": 20,
      "outputs": []
    },
    {
      "cell_type": "code",
      "source": [
        "t = tls[0]; t[:20]"
      ],
      "metadata": {
        "colab": {
          "base_uri": "https://localhost:8080/"
        },
        "id": "biduBuuwkwn2",
        "outputId": "7f164e62-f803-4726-df00-afe0d73a2ca6"
      },
      "execution_count": 21,
      "outputs": [
        {
          "output_type": "execute_result",
          "data": {
            "text/plain": [
              "TensorText([   2,    8,   20,   24,   79,   12,   88,   72,   27,   10,   18,  249,   12,  683,  383,   15,    8, 1394,    8,  185])"
            ]
          },
          "metadata": {},
          "execution_count": 21
        }
      ]
    },
    {
      "cell_type": "code",
      "source": [
        "tls.decode(t)[:100]"
      ],
      "metadata": {
        "colab": {
          "base_uri": "https://localhost:8080/",
          "height": 35
        },
        "id": "dRBj7wCllNCt",
        "outputId": "6ccb9472-2533-4dbe-8d14-86b5c82e47f2"
      },
      "execution_count": 22,
      "outputs": [
        {
          "output_type": "execute_result",
          "data": {
            "text/plain": [
              "'xxbos xxmaj this was really a very bad movie . i am a huge fan of xxmaj italian xxmaj horror , xxmaj'"
            ],
            "application/vnd.google.colaboratory.intrinsic+json": {
              "type": "string"
            }
          },
          "metadata": {},
          "execution_count": 22
        }
      ]
    },
    {
      "cell_type": "code",
      "source": [
        "tls.show(t)"
      ],
      "metadata": {
        "colab": {
          "base_uri": "https://localhost:8080/"
        },
        "id": "3fbYq9khlW82",
        "outputId": "78701fe6-a35d-44fe-c2ea-778a6eba4325"
      },
      "execution_count": 23,
      "outputs": [
        {
          "output_type": "stream",
          "name": "stdout",
          "text": [
            "xxbos xxmaj this was really a very bad movie . i am a huge fan of xxmaj italian xxmaj horror , xxmaj argento , xxmaj mario xxmaj xxunk , xxmaj fulci and yes , even our good friend here xxmaj xxunk sometimes comes out with a good one . i found the first two ' demons ' films to be highly entertaining - they were so bad they were great but this one is just so bad that it is really , really bad . xxmaj it is intensely boring , the story never goes anywhere and i hated the characters - the wife slapping husband and whiny cry - baby pain in the xxrep 3 * wife drove me mad , there was nowhere near enough of the story devoted to the xxmaj xxunk who was probably the best actor in the whole film . i turned it off about three xxunk of the way through because i was very , very xxup bored ! xxmaj do n't bother .\n"
          ]
        }
      ]
    },
    {
      "cell_type": "code",
      "source": [
        "cut = int(len(files) * 0.8)\n",
        "splits = [list(range(cut)), list(range(cut,len(files)))]\n",
        "\n",
        "tls = TfmdLists(files, [tkn,num], splits = splits)"
      ],
      "metadata": {
        "id": "T3sb-PXyld_-"
      },
      "execution_count": 24,
      "outputs": []
    },
    {
      "cell_type": "code",
      "source": [
        "tls.valid[0][:20]"
      ],
      "metadata": {
        "colab": {
          "base_uri": "https://localhost:8080/"
        },
        "id": "f32pm5IQmPlA",
        "outputId": "34fe8b8b-7f62-478c-d4cd-3c49ae43636c"
      },
      "execution_count": 25,
      "outputs": [
        {
          "output_type": "execute_result",
          "data": {
            "text/plain": [
              "TensorText([   2,    8,  108,   11,    8,   18,  149,   53,  136,    8, 4077,    8, 2005,   23,   33, 2433,   19,    8,    0,    8])"
            ]
          },
          "metadata": {},
          "execution_count": 25
        }
      ]
    },
    {
      "cell_type": "code",
      "source": [
        "tls.decode(tls.valid[0][:20])"
      ],
      "metadata": {
        "colab": {
          "base_uri": "https://localhost:8080/",
          "height": 35
        },
        "id": "EQ2wq8JwmU0m",
        "outputId": "09a62468-53c9-43ef-aefe-d3b942b9c722"
      },
      "execution_count": 26,
      "outputs": [
        {
          "output_type": "execute_result",
          "data": {
            "text/plain": [
              "\"xxbos xxmaj well , xxmaj i 've just seen xxmaj buster xxmaj keaton 's film debut in xxmaj xxunk xxmaj\""
            ],
            "application/vnd.google.colaboratory.intrinsic+json": {
              "type": "string"
            }
          },
          "metadata": {},
          "execution_count": 26
        }
      ]
    },
    {
      "cell_type": "code",
      "source": [
        "lbls = files.map(parent_label)\n",
        "lbls"
      ],
      "metadata": {
        "colab": {
          "base_uri": "https://localhost:8080/"
        },
        "id": "m7eHCyZxmdUv",
        "outputId": "1ae0706c-4102-4de9-8b52-48db21d7e3b4"
      },
      "execution_count": 27,
      "outputs": [
        {
          "output_type": "execute_result",
          "data": {
            "text/plain": [
              "(#50000) ['neg','neg','neg','neg','neg','neg','neg','neg','neg','neg'...]"
            ]
          },
          "metadata": {},
          "execution_count": 27
        }
      ]
    },
    {
      "cell_type": "code",
      "source": [
        "cat = Categorize()\n",
        "cat.setup(lbls)\n",
        "cat.vocab, cat(lbls[20000])"
      ],
      "metadata": {
        "colab": {
          "base_uri": "https://localhost:8080/"
        },
        "id": "mc9_Adz0nP5l",
        "outputId": "aea8c2b9-c7df-469a-dcf1-448ded654b2e"
      },
      "execution_count": 32,
      "outputs": [
        {
          "output_type": "execute_result",
          "data": {
            "text/plain": [
              "(['neg', 'pos'], TensorCategory(1))"
            ]
          },
          "metadata": {},
          "execution_count": 32
        }
      ]
    },
    {
      "cell_type": "code",
      "source": [
        "tls_y = TfmdLists(files, [parent_label, Categorize()])\n",
        "tls_y[0]"
      ],
      "metadata": {
        "colab": {
          "base_uri": "https://localhost:8080/"
        },
        "id": "9JicJwL9nhwL",
        "outputId": "f96bda09-e418-421b-c78b-d72c33b5a780"
      },
      "execution_count": 34,
      "outputs": [
        {
          "output_type": "execute_result",
          "data": {
            "text/plain": [
              "TensorCategory(0)"
            ]
          },
          "metadata": {},
          "execution_count": 34
        }
      ]
    },
    {
      "cell_type": "markdown",
      "source": [
        "# Datasets\n",
        "This is being done to keep independent and dependent variables together"
      ],
      "metadata": {
        "id": "b3OaqT6oo7rH"
      }
    },
    {
      "cell_type": "code",
      "source": [
        "x_tfms = [tkn,num]\n",
        "y_tfms = [parent_label,Categorize()]\n",
        "\n",
        "dsets = Datasets(files, [x_tfms,y_tfms])\n",
        "x,y=dsets[0]\n",
        "x,y\n"
      ],
      "metadata": {
        "colab": {
          "base_uri": "https://localhost:8080/"
        },
        "id": "yS4yiNSQn2ZU",
        "outputId": "f2f7d6f8-7953-42c3-c66b-dd9a80581976"
      },
      "execution_count": 35,
      "outputs": [
        {
          "output_type": "execute_result",
          "data": {
            "text/plain": [
              "(TensorText([   2,    8,   20,   24,   79,   12,   88,   72,   27,   10,   18,  249,   12,  683,  383,   15,    8, 1394,    8,  185,   11,    8, 6575,   11,    8, 7910,    8,    0,   11,    8, 2370,\n",
              "               13,  451,   11,   68,  351,   70,  533,  154,    8,    0,  612,  294,   62,   30,   12,   70,   43,   10,   18,  287,    9,  109,  140,   63, 5028,   63,  137,   14,   40,  950,  474,\n",
              "               25,   44,   80,   48,   72,   44,   80,  166,   29,   20,   43,   16,   53,   48,   72,   21,   17,   16,   79,   11,   79,   72,   10,    8,   17,   16, 7911,  245,   11,    9,   92,\n",
              "              126,  285, 1121,   13,   18, 1002,    9,  122,   25,    9,  413, 4046,  689,   13, 5698, 1838,   25, 1073, 1909,   19,    9,    5,  134,  186,  413, 2966,   90, 1306,   11,   50,   24,\n",
              "              870,  672,  204,   15,    9,   92, 3692,   14,    9,    8,    0,   59,   24,  263,    9,  208,  280,   19,    9,  206,   33,   10,   18,  664,   17,  129,   61,  332,    0,   15,    9,\n",
              "              117,  163,   95,   18,   24,   88,   11,   88,    7,  835,   51,    8,   52,   32,  894,   10]),\n",
              " TensorCategory(0))"
            ]
          },
          "metadata": {},
          "execution_count": 35
        }
      ]
    },
    {
      "cell_type": "code",
      "source": [
        "# along with splits\n",
        "\n",
        "x_tfms = [tkn,num]\n",
        "y_tfms = [parent_label, Categorize()]\n",
        "\n",
        "dsets = Datasets(files, [x_tfms,y_tfms], splits=splits)\n",
        "x,y = dsets.train[10]\n",
        "x,y"
      ],
      "metadata": {
        "colab": {
          "base_uri": "https://localhost:8080/"
        },
        "id": "fOVUKx1NpYAp",
        "outputId": "20df8c06-a973-4a48-8aae-9b9f4316fcb9"
      },
      "execution_count": 38,
      "outputs": [
        {
          "output_type": "execute_result",
          "data": {
            "text/plain": [
              "(TensorText([   2,    8,   20,   27,   24,   53,  210,  234,   72,   10,   18,  171,  588,  112,   13,   84, 1469,  241,  255,   58,  114,  112,   13,  209,  158,   21,   18,  589,   11,   29,   20,\n",
              "               24,   36,   43,   15,  110,   10,    8,   20,   27, 4056, 1912,   13,    0,   18,  101,   17,   11,    9,    8,    0,  312,   75,   43,  491,   15,   12,  559,   13,   21,  546,  166,\n",
              "               11,   29,    9,   92,   16,  580,  643,   10,    8,   34,   52,   32,   39,  106,  179, 1993,   30,  106,   15,    9,  122,   13,   50,   23,   67,  179,   92,  363,   14,  936,   10,\n",
              "                8,   34,   53,  150,   58,   43, 1055,  156,   14,  183,   11,  145,    0,   14,  807,    9,   92,   21,   16,  251,   14,   40, 7933,   10,    8,   60,   34,  194,   12,  588,   27,\n",
              "               21,  118,  445,   34,    0,   11,   13, 2382,  204,  238, 2808,  152,   11,  103,   18,   69, 1171,   22, 6595,   22,   41, 4057,    8, 1311,   33,   37,   10,    8,   55,   60,   34,\n",
              "             2809,   12,  166,   92,  363,   13,   12,  211,   15,  218,  103,   18,   69, 1171,   22, 6596,   15,    8,  588,   22,   41, 3417,  588,  138,    8, 3417,   33,   37,   10,    8,  147,\n",
              "              140,  112,  118,   36,  282,   34,  210,   31,    8, 3191,    8,  588,  118,   10]),\n",
              " TensorCategory(0))"
            ]
          },
          "metadata": {},
          "execution_count": 38
        }
      ]
    },
    {
      "cell_type": "code",
      "source": [
        "t = dsets.valid[0]\n",
        "dsets.decode(t)"
      ],
      "metadata": {
        "colab": {
          "base_uri": "https://localhost:8080/"
        },
        "id": "TDoA6saMp3JN",
        "outputId": "1139d5f7-1f0f-4b00-c8a4-ad7ce4eb6c91"
      },
      "execution_count": 39,
      "outputs": [
        {
          "output_type": "execute_result",
          "data": {
            "text/plain": [
              "(\"xxbos xxmaj well , xxmaj i 've just seen xxmaj buster xxmaj keaton 's film debut in xxmaj xxunk xxmaj xxunk 's xxmaj the xxmaj butcher xxmaj boy and - despite the crude way everything just seems to happen for almost no logical reason - i found plenty to laugh at . xxmaj like when xxmaj buster orders molasses from butcher boy xxmaj xxunk , xxmaj xxunk makes xxmaj buster come back to pay , xxmaj buster says he put it in the bucket that has the molasses , xxmaj xxunk xxunk molasses in xxmaj buster 's hat and takes money , xxmaj buster takes hat back on head as it gets stuck , xxmaj xxunk attempts to remove it while molasses fall to floor , xxmaj buster 's feet are now stuck on floor and so on . xxmaj that probably did n't read funny but on screen it was hilarious as were some more slapstick involving xxunk being thrown and a later sequence that takes place in xxmaj xxunk 's girlfriend 's xxunk school with xxmaj xxunk dressed in drag and xxmaj buster helping xxmaj xxunk 's rival also in drag . xxmaj like i said , many scenes do n't make a lick of sense but the visuals , especially those involving xxmaj xxunk and xxmaj keaton , are laugh inducing even today . xxmaj recommended viewing for xxmaj keaton xxunk .\",\n",
              " 'pos')"
            ]
          },
          "metadata": {},
          "execution_count": 39
        }
      ]
    },
    {
      "cell_type": "code",
      "source": [
        "dls = dsets.dataloaders(bs=64,  before_batch = pad_input)"
      ],
      "metadata": {
        "id": "DepfPJxrq7YG"
      },
      "execution_count": 40,
      "outputs": []
    },
    {
      "cell_type": "code",
      "source": [
        "# final code\n",
        "\n",
        "tfms = [[tkn,num], [parent_label,Categorize()]]\n",
        "files = get_text_files(path,folders=['train','test'])\n",
        "splits = GrandparentSplitter(valid_name='test')(files)\n",
        "dsets = Datasets(files,tfms,splits=splits)\n",
        "\n",
        "dls = dsets.dataloaders(dl_type=SortedDL,before_batch=pad_input)"
      ],
      "metadata": {
        "id": "xXGGdUTnrPce"
      },
      "execution_count": null,
      "outputs": []
    },
    {
      "cell_type": "markdown",
      "source": [
        "## This was the way to customize the transform steps every single piece."
      ],
      "metadata": {
        "id": "ncEyOs5utQ5N"
      }
    },
    {
      "cell_type": "code",
      "source": [],
      "metadata": {
        "id": "bEN14_MesYiK"
      },
      "execution_count": null,
      "outputs": []
    }
  ]
}