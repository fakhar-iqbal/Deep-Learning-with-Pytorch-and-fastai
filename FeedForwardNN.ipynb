{
  "nbformat": 4,
  "nbformat_minor": 0,
  "metadata": {
    "colab": {
      "provenance": [],
      "gpuType": "T4"
    },
    "kernelspec": {
      "name": "python3",
      "display_name": "Python 3"
    },
    "language_info": {
      "name": "python"
    },
    "accelerator": "GPU"
  },
  "cells": [
    {
      "cell_type": "code",
      "execution_count": 16,
      "metadata": {
        "id": "XFrNaiLRNH9z"
      },
      "outputs": [],
      "source": [
        "import torch\n",
        "import torch.nn as nn\n",
        "import torchvision\n",
        "import torchvision.transforms as transforms\n",
        "import matplotlib.pyplot as plt"
      ]
    },
    {
      "cell_type": "code",
      "source": [
        "# device config\n",
        "device = torch.device('cuda' if  torch.cuda.is_available() else 'cpu')\n",
        "device"
      ],
      "metadata": {
        "colab": {
          "base_uri": "https://localhost:8080/"
        },
        "id": "zPpkl69kNvQu",
        "outputId": "fbf308fe-867a-4bb2-dd29-1ee00ba0563a"
      },
      "execution_count": 25,
      "outputs": [
        {
          "output_type": "execute_result",
          "data": {
            "text/plain": [
              "device(type='cuda')"
            ]
          },
          "metadata": {},
          "execution_count": 25
        }
      ]
    },
    {
      "cell_type": "code",
      "source": [
        "# hyperparameters\n",
        "input_size = 784 #28 x 28\n",
        "hidden_size = 100\n",
        "num_classes =10\n",
        "num_epochs=2\n",
        "batch_size=100\n",
        "learning_rate = 0.001\n"
      ],
      "metadata": {
        "id": "GSYyx1QqUBbT"
      },
      "execution_count": 41,
      "outputs": []
    },
    {
      "cell_type": "code",
      "source": [
        "#MNIST\n",
        "\n",
        "train_dataset = torchvision.datasets.MNIST(root='./data', train=True, transform=transforms.ToTensor(),download=True)\n",
        "\n",
        "test_dataset =  torchvision.datasets.MNIST(root= './data', train=False, transform=transforms.ToTensor())\n",
        "\n",
        "train_dataloader = torch.utils.data.DataLoader(dataset=train_dataset, batch_size=batch_size, shuffle=True)\n",
        "\n",
        "test_dataloader = torch.utils.data.DataLoader(dataset=test_dataset, batch_size=batch_size, shuffle=True)"
      ],
      "metadata": {
        "id": "4m0ECCJIUZt0"
      },
      "execution_count": 42,
      "outputs": []
    },
    {
      "cell_type": "code",
      "source": [
        "examples = iter(train_dataloader)\n",
        "samples,labels = next(examples)\n",
        "\n",
        "print(samples.shape, labels.shape)"
      ],
      "metadata": {
        "colab": {
          "base_uri": "https://localhost:8080/"
        },
        "id": "yqv7-Tt1VuEz",
        "outputId": "feaf9527-2762-4aa1-cf86-a63fd8b36758"
      },
      "execution_count": 43,
      "outputs": [
        {
          "output_type": "stream",
          "name": "stdout",
          "text": [
            "torch.Size([100, 1, 28, 28]) torch.Size([100])\n"
          ]
        }
      ]
    },
    {
      "cell_type": "code",
      "source": [
        "for i in range(6):\n",
        "  plt.subplot(2,3, i+1)\n",
        "  plt.imshow(samples[i][0], cmap='gray')\n",
        "\n",
        "plt.show()"
      ],
      "metadata": {
        "colab": {
          "base_uri": "https://localhost:8080/",
          "height": 411
        },
        "id": "tdWIUfV6WQPj",
        "outputId": "0b437b79-faf3-4117-862c-377052048a99"
      },
      "execution_count": 44,
      "outputs": [
        {
          "output_type": "display_data",
          "data": {
            "text/plain": [
              "<Figure size 640x480 with 6 Axes>"
            ],
            "image/png": "[encoded data removed]"
          },
          "metadata": {}
        }
      ]
    },
    {
      "cell_type": "code",
      "source": [
        "# neural network\n",
        "\n",
        "class NeuralNet(nn.Module):\n",
        "  def __init__(self, input_size,hidden_size, num_classes):\n",
        "    super(NeuralNet, self).__init__()\n",
        "\n",
        "    # designing our architecture\n",
        "    self.l1 = nn.Linear(input_size,hidden_size)\n",
        "    self.relu = nn.ReLU()\n",
        "    self.l2= nn.Linear(hidden_size,num_classes)\n",
        "\n",
        "  def forward(self, x):\n",
        "    out = self.l1(x)\n",
        "    out = self.relu(out)\n",
        "    out = self.l2(out)\n",
        "    return out\n",
        "\n",
        "model = NeuralNet(input_size, hidden_size, num_classes)\n"
      ],
      "metadata": {
        "id": "L-P6B7-CXEqg"
      },
      "execution_count": 45,
      "outputs": []
    },
    {
      "cell_type": "code",
      "source": [
        "#loss and optimizer\n",
        "\n",
        "criterion = nn.CrossEntropyLoss()\n",
        "optimizer = torch.optim.Adam(model.parameters(), lr = learning_rate)\n",
        "criterion.to(device)\n",
        "model.to(device)"
      ],
      "metadata": {
        "colab": {
          "base_uri": "https://localhost:8080/"
        },
        "id": "f9jpe1ulYXjJ",
        "outputId": "053d40d9-b9df-43e2-c239-529a42bec57e"
      },
      "execution_count": 46,
      "outputs": [
        {
          "output_type": "execute_result",
          "data": {
            "text/plain": [
              "NeuralNet(\n",
              "  (l1): Linear(in_features=784, out_features=100, bias=True)\n",
              "  (relu): ReLU()\n",
              "  (l2): Linear(in_features=100, out_features=10, bias=True)\n",
              ")"
            ]
          },
          "metadata": {},
          "execution_count": 46
        }
      ]
    },
    {
      "cell_type": "code",
      "source": [
        "#training loop\n",
        "\n",
        "n_total_steps = len(train_dataloader)\n",
        "for epoch in range(num_epochs):\n",
        "  for i, (images,labels) in enumerate(train_dataloader):\n",
        "    # current shape is 100,1,28,28\n",
        "    # we need 100, 784\n",
        "    images = images.reshape(-1,28*28).to(device)\n",
        "    labels = labels.to(device)\n",
        "\n",
        "    #forward\n",
        "    outputs = model(images)\n",
        "    loss = criterion(outputs,labels)\n",
        "\n",
        "    #backward\n",
        "    optimizer.zero_grad()\n",
        "    loss.backward()\n",
        "    optimizer.step()\n",
        "\n",
        "    if(i+1)%100==0:\n",
        "      print(f'epoch {epoch+1} / {num_epochs}, step {i+1}/{n_total_steps}, loss= {loss.item():.4f}')\n",
        "\n",
        "#testig and evaluation\n",
        "with torch.no_grad():\n",
        "  n_correct = 0\n",
        "  n_samples = 0\n",
        "  for images, labels in test_dataloader:\n",
        "    images = images.reshape(-1, 28*28).to(device)\n",
        "    labels = labels.to(device)\n",
        "    outputs = model(images)\n",
        "\n",
        "    # values, index\n",
        "    _, predictions = torch.max(outputs,1)\n",
        "    n_samples += labels.shape[0]\n",
        "    n_correct += (predictions == labels).sum().item()\n",
        "\n",
        "  acc= 100.0 * n_correct/n_samples\n",
        "  print(f'accuracy = {acc}')\n",
        "\n",
        "\n",
        ""
      ],
      "metadata": {
        "colab": {
          "base_uri": "https://localhost:8080/"
        },
        "id": "oe0UQZA1YzAS",
        "outputId": "f6224327-7f19-48f2-ccc3-0327eea65edb"
      },
      "execution_count": 47,
      "outputs": [
        {
          "output_type": "stream",
          "name": "stdout",
          "text": [
            "epoch 1 / 2, step 100/600, loss= 0.3266\n",
            "epoch 1 / 2, step 200/600, loss= 0.3478\n",
            "epoch 1 / 2, step 300/600, loss= 0.2564\n",
            "epoch 1 / 2, step 400/600, loss= 0.2985\n",
            "epoch 1 / 2, step 500/600, loss= 0.1221\n",
            "epoch 1 / 2, step 600/600, loss= 0.1230\n",
            "epoch 2 / 2, step 100/600, loss= 0.1335\n",
            "epoch 2 / 2, step 200/600, loss= 0.1426\n",
            "epoch 2 / 2, step 300/600, loss= 0.2581\n",
            "epoch 2 / 2, step 400/600, loss= 0.2005\n",
            "epoch 2 / 2, step 500/600, loss= 0.1326\n",
            "epoch 2 / 2, step 600/600, loss= 0.1208\n",
            "accuracy = 95.13\n"
          ]
        }
      ]
    },
    {
      "cell_type": "code",
      "source": [],
      "metadata": {
        "id": "RmdTSgZtcJam"
      },
      "execution_count": null,
      "outputs": []
    }
  ]
}