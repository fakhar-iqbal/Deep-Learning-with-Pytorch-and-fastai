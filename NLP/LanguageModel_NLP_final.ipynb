{
  "nbformat": 4,
  "nbformat_minor": 0,
  "metadata": {
    "colab": {
      "provenance": [],
      "gpuType": "T4"
    },
    "kernelspec": {
      "name": "python3",
      "display_name": "Python 3"
    },
    "language_info": {
      "name": "python"
    },
    "accelerator": "GPU"
  },
  "cells": [
    {
      "cell_type": "code",
      "execution_count": 1,
      "metadata": {
        "colab": {
          "base_uri": "https://localhost:8080/"
        },
        "id": "f6-1RwRV3T3r",
        "outputId": "259c788e-9575-48f8-cd61-c427a304a4d9"
      },
      "outputs": [
        {
          "output_type": "stream",
          "name": "stdout",
          "text": [
            "\u001b[2K     \u001b[90m━━━━━━━━━━━━━━━━━━━━━━━━━━━━━━━━━━━━━━━\u001b[0m \u001b[32m719.8/719.8 kB\u001b[0m \u001b[31m7.0 MB/s\u001b[0m eta \u001b[36m0:00:00\u001b[0m\n",
            "\u001b[2K     \u001b[90m━━━━━━━━━━━━━━━━━━━━━━━━━━━━━━━━━━━━━━━━\u001b[0m \u001b[32m7.4/7.4 MB\u001b[0m \u001b[31m19.1 MB/s\u001b[0m eta \u001b[36m0:00:00\u001b[0m\n",
            "\u001b[2K     \u001b[90m━━━━━━━━━━━━━━━━━━━━━━━━━━━━━━━━━━━━━━\u001b[0m \u001b[32m492.2/492.2 kB\u001b[0m \u001b[31m30.2 MB/s\u001b[0m eta \u001b[36m0:00:00\u001b[0m\n",
            "\u001b[2K     \u001b[90m━━━━━━━━━━━━━━━━━━━━━━━━━━━━━━━━━━━━━━━━\u001b[0m \u001b[32m1.3/1.3 MB\u001b[0m \u001b[31m36.3 MB/s\u001b[0m eta \u001b[36m0:00:00\u001b[0m\n",
            "\u001b[2K     \u001b[90m━━━━━━━━━━━━━━━━━━━━━━━━━━━━━━━━━━━━━━\u001b[0m \u001b[32m115.3/115.3 kB\u001b[0m \u001b[31m14.0 MB/s\u001b[0m eta \u001b[36m0:00:00\u001b[0m\n",
            "\u001b[2K     \u001b[90m━━━━━━━━━━━━━━━━━━━━━━━━━━━━━━━━━━━━━━\u001b[0m \u001b[32m212.5/212.5 kB\u001b[0m \u001b[31m22.9 MB/s\u001b[0m eta \u001b[36m0:00:00\u001b[0m\n",
            "\u001b[2K     \u001b[90m━━━━━━━━━━━━━━━━━━━━━━━━━━━━━━━━━━━━━━\u001b[0m \u001b[32m134.8/134.8 kB\u001b[0m \u001b[31m15.8 MB/s\u001b[0m eta \u001b[36m0:00:00\u001b[0m\n",
            "\u001b[2K     \u001b[90m━━━━━━━━━━━━━━━━━━━━━━━━━━━━━━━━━━━━━━\u001b[0m \u001b[32m268.8/268.8 kB\u001b[0m \u001b[31m28.0 MB/s\u001b[0m eta \u001b[36m0:00:00\u001b[0m\n",
            "\u001b[2K     \u001b[90m━━━━━━━━━━━━━━━━━━━━━━━━━━━━━━━━━━━━━━━━\u001b[0m \u001b[32m7.8/7.8 MB\u001b[0m \u001b[31m34.0 MB/s\u001b[0m eta \u001b[36m0:00:00\u001b[0m\n",
            "\u001b[2K     \u001b[90m━━━━━━━━━━━━━━━━━━━━━━━━━━━━━━━━━━━━━━━━\u001b[0m \u001b[32m1.3/1.3 MB\u001b[0m \u001b[31m46.6 MB/s\u001b[0m eta \u001b[36m0:00:00\u001b[0m\n",
            "\u001b[2K     \u001b[90m━━━━━━━━━━━━━━━━━━━━━━━━━━━━━━━━━━━━━━━━\u001b[0m \u001b[32m1.6/1.6 MB\u001b[0m \u001b[31m32.0 MB/s\u001b[0m eta \u001b[36m0:00:00\u001b[0m\n",
            "\u001b[?25hMounted at /content/gdrive\n"
          ]
        }
      ],
      "source": [
        "! [ -e /content ] && pip install -Uqq fastbook\n",
        "import fastbook\n",
        "fastbook.setup_book()"
      ]
    },
    {
      "cell_type": "code",
      "source": [
        "from fastbook import *\n",
        "from IPython.display import display,HTML\n"
      ],
      "metadata": {
        "id": "z8sP5Zg63xF0"
      },
      "execution_count": 2,
      "outputs": []
    },
    {
      "cell_type": "code",
      "source": [
        "from fastai.text.all import *\n",
        "path = untar_data(URLs.IMDB)"
      ],
      "metadata": {
        "colab": {
          "base_uri": "https://localhost:8080/",
          "height": 37
        },
        "id": "SUXWGGqs30jw",
        "outputId": "e4046e87-bc1f-4740-b946-e28eec7ef3e8"
      },
      "execution_count": 3,
      "outputs": [
        {
          "output_type": "display_data",
          "data": {
            "text/plain": [
              "<IPython.core.display.HTML object>"
            ],
            "text/html": [
              "\n",
              "<style>\n",
              "    /* Turns off some styling */\n",
              "    progress {\n",
              "        /* gets rid of default border in Firefox and Opera. */\n",
              "        border: none;\n",
              "        /* Needs to be in here for Safari polyfill so background images work as expected. */\n",
              "        background-size: auto;\n",
              "    }\n",
              "    progress:not([value]), progress:not([value])::-webkit-progress-bar {\n",
              "        background: repeating-linear-gradient(45deg, #7e7e7e, #7e7e7e 10px, #5c5c5c 10px, #5c5c5c 20px);\n",
              "    }\n",
              "    .progress-bar-interrupted, .progress-bar-interrupted::-webkit-progress-bar {\n",
              "        background: #F44336;\n",
              "    }\n",
              "</style>\n"
            ]
          },
          "metadata": {}
        },
        {
          "output_type": "display_data",
          "data": {
            "text/plain": [
              "<IPython.core.display.HTML object>"
            ],
            "text/html": [
              "\n",
              "    <div>\n",
              "      <progress value='144441344' class='' max='144440600' style='width:300px; height:20px; vertical-align: middle;'></progress>\n",
              "      100.00% [144441344/144440600 00:03&lt;00:00]\n",
              "    </div>\n",
              "    "
            ]
          },
          "metadata": {}
        }
      ]
    },
    {
      "cell_type": "code",
      "source": [
        "path.ls()"
      ],
      "metadata": {
        "colab": {
          "base_uri": "https://localhost:8080/"
        },
        "id": "XhDzTxpc4Cu2",
        "outputId": "e5e59627-b3da-46ff-ad26-95ceb27667bc"
      },
      "execution_count": 4,
      "outputs": [
        {
          "output_type": "execute_result",
          "data": {
            "text/plain": [
              "(#7) [Path('/root/.fastai/data/imdb/test'),Path('/root/.fastai/data/imdb/README'),Path('/root/.fastai/data/imdb/unsup'),Path('/root/.fastai/data/imdb/tmp_lm'),Path('/root/.fastai/data/imdb/tmp_clas'),Path('/root/.fastai/data/imdb/train'),Path('/root/.fastai/data/imdb/imdb.vocab')]"
            ]
          },
          "metadata": {},
          "execution_count": 4
        }
      ]
    },
    {
      "cell_type": "code",
      "source": [
        "files = get_text_files(path, folders=['train','test', 'unsup'])"
      ],
      "metadata": {
        "id": "QhDWjiNB4OpS"
      },
      "execution_count": 5,
      "outputs": []
    },
    {
      "cell_type": "code",
      "source": [
        "txt = files[0].open().read();\n",
        "txt"
      ],
      "metadata": {
        "colab": {
          "base_uri": "https://localhost:8080/",
          "height": 174
        },
        "id": "tydzP-IT4dDy",
        "outputId": "8ab3c19b-a9d8-40d6-9bab-2dcebd96a569"
      },
      "execution_count": 6,
      "outputs": [
        {
          "output_type": "execute_result",
          "data": {
            "text/plain": [
              "'Talk about marketing. The poster/home video cover of \\'The New Twenty\\' broadcasts a half-naked male in a \"Wolfe Video.\" For those familiar with the gay-themed movies \\x96 this broadcasts a \"must-see.\" (I loved reading one reviewer (from another site) stating they had been \"tricked\" into seeing a \"Sodomite\" movie. Are you serious? The tagline itself as the word \"gay.\" The Lord gives you eyes, yet you cannot see\\x85) That being said, despite the number of gay characters, stereotyped, no less (see: the lonely gay, the AIDS victim gay and the closeted gay) it\\'s more about long-term friendship and characters that grow apart. In fact, if anything, there\\'s more (here\\'s one for Christians to complain about) heterosexual couples having sex outside of, gasp!, marriage. Not to mention backstabbing, drinking to excess and drug usage. I see this more of a made for TV-Logo or Showtime movie than big screen effort. Sure, I loved the cinematography, some of the actors could act and I always love seeing a big-group-of-friends that actually act like they\\'ve known each other for a million years. But we\\'ve see this all before. Nothing really \"new\" here. Barely an original idea \\x96 hence bringing back the same \\'ole \"I have AIDS, let\\'s deal with that\" for a good portion of the movie and boy, our friend has a serious drug problem, but let\\'s not deal with that until it\\'s almost too late. That\\'s so (US) \\'Queer as Folk\\' and \\'Broken Hearts Club,\\' respectfully. The film deals with a group of college buddies, now grown (in size not minds) who have to eventually grow up and each trying their best while failing. Strangely, as in most of these independent movies, the most interesting, to me at least, was the heavier-set one, Ben. He stole each scene, but, again, there wasn\\'t much to take.'"
            ],
            "application/vnd.google.colaboratory.intrinsic+json": {
              "type": "string"
            }
          },
          "metadata": {},
          "execution_count": 6
        }
      ]
    },
    {
      "cell_type": "code",
      "source": [
        "files"
      ],
      "metadata": {
        "colab": {
          "base_uri": "https://localhost:8080/"
        },
        "id": "qZq1O7Pp4pKy",
        "outputId": "70939155-980e-4da5-e3ce-892b45549b9c"
      },
      "execution_count": 7,
      "outputs": [
        {
          "output_type": "execute_result",
          "data": {
            "text/plain": [
              "(#100000) [Path('/root/.fastai/data/imdb/test/neg/2384_3.txt'),Path('/root/.fastai/data/imdb/test/neg/12175_3.txt'),Path('/root/.fastai/data/imdb/test/neg/2863_2.txt'),Path('/root/.fastai/data/imdb/test/neg/14_1.txt'),Path('/root/.fastai/data/imdb/test/neg/4188_1.txt'),Path('/root/.fastai/data/imdb/test/neg/5591_4.txt'),Path('/root/.fastai/data/imdb/test/neg/11434_1.txt'),Path('/root/.fastai/data/imdb/test/neg/7757_4.txt'),Path('/root/.fastai/data/imdb/test/neg/10800_1.txt'),Path('/root/.fastai/data/imdb/test/neg/11138_1.txt')...]"
            ]
          },
          "metadata": {},
          "execution_count": 7
        }
      ]
    },
    {
      "cell_type": "markdown",
      "source": [
        "# Word Tokenization\n"
      ],
      "metadata": {
        "id": "4phNdz0V-u3p"
      }
    },
    {
      "cell_type": "code",
      "source": [
        "spacy = WordTokenizer()\n",
        "toks = first(spacy([txt]))\n",
        "print(coll_repr(toks,30))"
      ],
      "metadata": {
        "colab": {
          "base_uri": "https://localhost:8080/"
        },
        "id": "hkGqhwmM423L",
        "outputId": "19f49dff-d2c2-4f8c-8b71-5b8cbf6675d0"
      },
      "execution_count": 8,
      "outputs": [
        {
          "output_type": "stream",
          "name": "stdout",
          "text": [
            "(#414) ['Talk','about','marketing','.','The','poster','/','home','video','cover','of',\"'\",'The','New','Twenty',\"'\",'broadcasts','a','half','-','naked','male','in','a','\"','Wolfe','Video','.','\"','For'...]\n"
          ]
        }
      ]
    },
    {
      "cell_type": "code",
      "source": [
        "tkn = Tokenizer(spacy)\n",
        "print(coll_repr(tkn(txt),80))"
      ],
      "metadata": {
        "colab": {
          "base_uri": "https://localhost:8080/"
        },
        "id": "nClOzhwD5-XO",
        "outputId": "4733603c-b583-4d94-ac39-80df9d4807ef"
      },
      "execution_count": 9,
      "outputs": [
        {
          "output_type": "stream",
          "name": "stdout",
          "text": [
            "(#444) ['xxbos','xxmaj','talk','about','marketing','.','xxmaj','the','poster','/','home','video','cover','of',\"'\",'the','xxmaj','new','xxmaj','twenty',\"'\",'broadcasts','a','half','-','naked','male','in','a','\"','wolfe','xxmaj','video','.','\"','xxmaj','for','those','familiar','with','the','gay','-','themed','movies','\\x96','this','broadcasts','a','\"','must','-','see','.','\"','(','i','loved','reading','one','reviewer','(','from','another','site',')','stating','they','had','been','\"','tricked','\"','into','seeing','a','\"','sodomite','\"','movie'...]\n"
          ]
        }
      ]
    },
    {
      "cell_type": "code",
      "source": [
        "defaults.text_proc_rules"
      ],
      "metadata": {
        "colab": {
          "base_uri": "https://localhost:8080/"
        },
        "id": "Idbvwgys7FiD",
        "outputId": "e015904d-1fe4-43d7-fd8f-83234acccaf3"
      },
      "execution_count": 10,
      "outputs": [
        {
          "output_type": "execute_result",
          "data": {
            "text/plain": [
              "[<function fastai.text.core.fix_html(x)>,\n",
              " <function fastai.text.core.replace_rep(t)>,\n",
              " <function fastai.text.core.replace_wrep(t)>,\n",
              " <function fastai.text.core.spec_add_spaces(t)>,\n",
              " <function fastai.text.core.rm_useless_spaces(t)>,\n",
              " <function fastai.text.core.replace_all_caps(t)>,\n",
              " <function fastai.text.core.replace_maj(t)>,\n",
              " <function fastai.text.core.lowercase(t, add_bos=True, add_eos=False)>]"
            ]
          },
          "metadata": {},
          "execution_count": 10
        }
      ]
    },
    {
      "cell_type": "markdown",
      "source": [
        "# Subword Tokenization"
      ],
      "metadata": {
        "id": "SRSMtW3c-zYx"
      }
    },
    {
      "cell_type": "code",
      "source": [
        "txts = L(o.open().read() for o in files[:2000])"
      ],
      "metadata": {
        "id": "ZWxZ1A648V9m"
      },
      "execution_count": 11,
      "outputs": []
    },
    {
      "cell_type": "code",
      "source": [
        "def subword(sz):\n",
        "  sp = SubwordTokenizer(vocab_sz = sz)\n",
        "  sp.setup(txts)\n",
        "\n",
        "  return ' '.join(first(sp([txt]))[:40])"
      ],
      "metadata": {
        "id": "SluwqHg6-8hB"
      },
      "execution_count": 12,
      "outputs": []
    },
    {
      "cell_type": "code",
      "source": [
        "subword(1000)"
      ],
      "metadata": {
        "colab": {
          "base_uri": "https://localhost:8080/",
          "height": 53
        },
        "id": "kk6YUP5__xuZ",
        "outputId": "bc9285fd-baf9-43c8-8c69-a4e9304ab23f"
      },
      "execution_count": 13,
      "outputs": [
        {
          "output_type": "display_data",
          "data": {
            "text/plain": [
              "<IPython.core.display.HTML object>"
            ],
            "text/html": [
              "\n",
              "<style>\n",
              "    /* Turns off some styling */\n",
              "    progress {\n",
              "        /* gets rid of default border in Firefox and Opera. */\n",
              "        border: none;\n",
              "        /* Needs to be in here for Safari polyfill so background images work as expected. */\n",
              "        background-size: auto;\n",
              "    }\n",
              "    progress:not([value]), progress:not([value])::-webkit-progress-bar {\n",
              "        background: repeating-linear-gradient(45deg, #7e7e7e, #7e7e7e 10px, #5c5c5c 10px, #5c5c5c 20px);\n",
              "    }\n",
              "    .progress-bar-interrupted, .progress-bar-interrupted::-webkit-progress-bar {\n",
              "        background: #F44336;\n",
              "    }\n",
              "</style>\n"
            ]
          },
          "metadata": {}
        },
        {
          "output_type": "display_data",
          "data": {
            "text/plain": [
              "<IPython.core.display.HTML object>"
            ],
            "text/html": []
          },
          "metadata": {}
        },
        {
          "output_type": "execute_result",
          "data": {
            "text/plain": [
              "\"▁T al k ▁about ▁ mark et ing . ▁The ▁po ster / ho me ▁video ▁co ver ▁of ▁' The ▁New ▁T w ent y ' ▁b ro ad ca st s ▁a ▁half - n ak ed ▁ma\""
            ],
            "application/vnd.google.colaboratory.intrinsic+json": {
              "type": "string"
            }
          },
          "metadata": {},
          "execution_count": 13
        }
      ]
    },
    {
      "cell_type": "code",
      "source": [
        "subword(200)"
      ],
      "metadata": {
        "colab": {
          "base_uri": "https://localhost:8080/",
          "height": 35
        },
        "id": "kEzxFZGH_0Fo",
        "outputId": "e986647d-4c21-44cb-92c4-3e73258dda9b"
      },
      "execution_count": 14,
      "outputs": [
        {
          "output_type": "display_data",
          "data": {
            "text/plain": [
              "<IPython.core.display.HTML object>"
            ],
            "text/html": [
              "\n",
              "<style>\n",
              "    /* Turns off some styling */\n",
              "    progress {\n",
              "        /* gets rid of default border in Firefox and Opera. */\n",
              "        border: none;\n",
              "        /* Needs to be in here for Safari polyfill so background images work as expected. */\n",
              "        background-size: auto;\n",
              "    }\n",
              "    progress:not([value]), progress:not([value])::-webkit-progress-bar {\n",
              "        background: repeating-linear-gradient(45deg, #7e7e7e, #7e7e7e 10px, #5c5c5c 10px, #5c5c5c 20px);\n",
              "    }\n",
              "    .progress-bar-interrupted, .progress-bar-interrupted::-webkit-progress-bar {\n",
              "        background: #F44336;\n",
              "    }\n",
              "</style>\n"
            ]
          },
          "metadata": {}
        },
        {
          "output_type": "display_data",
          "data": {
            "text/plain": [
              "<IPython.core.display.HTML object>"
            ],
            "text/html": []
          },
          "metadata": {}
        },
        {
          "output_type": "execute_result",
          "data": {
            "text/plain": [
              "\"▁ T al k ▁a b o u t ▁ma r k e t ing . ▁The ▁p o s ter / h o m e ▁ vi d e o ▁c o ver ▁of ▁ ' T h e\""
            ],
            "application/vnd.google.colaboratory.intrinsic+json": {
              "type": "string"
            }
          },
          "metadata": {},
          "execution_count": 14
        }
      ]
    },
    {
      "cell_type": "code",
      "source": [
        "subword(10000)"
      ],
      "metadata": {
        "colab": {
          "base_uri": "https://localhost:8080/",
          "height": 53
        },
        "id": "D6KVOlGdAhD7",
        "outputId": "fcc84c93-0a3d-47f3-97d5-0e1efa0301f6"
      },
      "execution_count": 15,
      "outputs": [
        {
          "output_type": "display_data",
          "data": {
            "text/plain": [
              "<IPython.core.display.HTML object>"
            ],
            "text/html": [
              "\n",
              "<style>\n",
              "    /* Turns off some styling */\n",
              "    progress {\n",
              "        /* gets rid of default border in Firefox and Opera. */\n",
              "        border: none;\n",
              "        /* Needs to be in here for Safari polyfill so background images work as expected. */\n",
              "        background-size: auto;\n",
              "    }\n",
              "    progress:not([value]), progress:not([value])::-webkit-progress-bar {\n",
              "        background: repeating-linear-gradient(45deg, #7e7e7e, #7e7e7e 10px, #5c5c5c 10px, #5c5c5c 20px);\n",
              "    }\n",
              "    .progress-bar-interrupted, .progress-bar-interrupted::-webkit-progress-bar {\n",
              "        background: #F44336;\n",
              "    }\n",
              "</style>\n"
            ]
          },
          "metadata": {}
        },
        {
          "output_type": "display_data",
          "data": {
            "text/plain": [
              "<IPython.core.display.HTML object>"
            ],
            "text/html": []
          },
          "metadata": {}
        },
        {
          "output_type": "execute_result",
          "data": {
            "text/plain": [
              "'▁Talk ▁about ▁market ing . ▁The ▁poster / ho me ▁video ▁cover ▁of ▁\\' The ▁New ▁Twenty \\' ▁broadcast s ▁a ▁half - na k ed ▁male ▁in ▁a ▁\" Wolf e ▁Video .\" ▁For ▁those ▁familiar ▁with ▁the ▁gay'"
            ],
            "application/vnd.google.colaboratory.intrinsic+json": {
              "type": "string"
            }
          },
          "metadata": {},
          "execution_count": 15
        }
      ]
    },
    {
      "cell_type": "markdown",
      "source": [
        "# Numericaliztion with fastai"
      ],
      "metadata": {
        "id": "Zyh7ynKZBUHl"
      }
    },
    {
      "cell_type": "code",
      "source": [
        "toks = tkn(txt)"
      ],
      "metadata": {
        "id": "yR5SwF4DAocS"
      },
      "execution_count": 16,
      "outputs": []
    },
    {
      "cell_type": "code",
      "source": [
        "print(coll_repr(tkn(txt),31))"
      ],
      "metadata": {
        "colab": {
          "base_uri": "https://localhost:8080/"
        },
        "id": "1rGF55q4CAhc",
        "outputId": "3f97c884-1396-4faa-9d88-b332a4b085b5"
      },
      "execution_count": 17,
      "outputs": [
        {
          "output_type": "stream",
          "name": "stdout",
          "text": [
            "(#444) ['xxbos','xxmaj','talk','about','marketing','.','xxmaj','the','poster','/','home','video','cover','of',\"'\",'the','xxmaj','new','xxmaj','twenty',\"'\",'broadcasts','a','half','-','naked','male','in','a','\"','wolfe'...]\n"
          ]
        }
      ]
    },
    {
      "cell_type": "code",
      "source": [
        "toks200 = txts[:200].map(tkn)\n",
        "toks200[0]"
      ],
      "metadata": {
        "colab": {
          "base_uri": "https://localhost:8080/"
        },
        "id": "lc_21I5DCBru",
        "outputId": "e0b21820-dc50-4d2d-d2d5-dd4d4a5582fe"
      },
      "execution_count": 18,
      "outputs": [
        {
          "output_type": "execute_result",
          "data": {
            "text/plain": [
              "(#444) ['xxbos','xxmaj','talk','about','marketing','.','xxmaj','the','poster','/'...]"
            ]
          },
          "metadata": {},
          "execution_count": 18
        }
      ]
    },
    {
      "cell_type": "code",
      "source": [
        "num = Numericalize()\n",
        "num.setup(toks200)\n",
        "coll_repr(num.vocab,20)"
      ],
      "metadata": {
        "colab": {
          "base_uri": "https://localhost:8080/",
          "height": 53
        },
        "id": "gpBCXQvaCZ24",
        "outputId": "672db818-a7b7-4595-e7da-200bf2370355"
      },
      "execution_count": 19,
      "outputs": [
        {
          "output_type": "execute_result",
          "data": {
            "text/plain": [
              "\"(#2016) ['xxunk','xxpad','xxbos','xxeos','xxfld','xxrep','xxwrep','xxup','xxmaj','the','.',',','a','of','and','to','is','it','i','in'...]\""
            ],
            "application/vnd.google.colaboratory.intrinsic+json": {
              "type": "string"
            }
          },
          "metadata": {},
          "execution_count": 19
        }
      ]
    },
    {
      "cell_type": "code",
      "source": [
        "nums = num(toks)[:20];\n",
        "nums"
      ],
      "metadata": {
        "colab": {
          "base_uri": "https://localhost:8080/"
        },
        "id": "kXWEAGamCupW",
        "outputId": "9c8616e4-7781-4a93-84b5-7f6ebcd0c6e3"
      },
      "execution_count": 20,
      "outputs": [
        {
          "output_type": "execute_result",
          "data": {
            "text/plain": [
              "TensorText([   2,    8,  442,   65,    0,   10,    8,    9,    0,  172,  479,  422,  480,   13,   60,    9,    8,  204,    8, 1182])"
            ]
          },
          "metadata": {},
          "execution_count": 20
        }
      ]
    },
    {
      "cell_type": "code",
      "source": [
        "' '.join(num.vocab[o] for o in nums)"
      ],
      "metadata": {
        "colab": {
          "base_uri": "https://localhost:8080/",
          "height": 35
        },
        "id": "SOT4NnAnDcCe",
        "outputId": "3ecd3377-da5f-4239-e463-e419fd98ca89"
      },
      "execution_count": 21,
      "outputs": [
        {
          "output_type": "execute_result",
          "data": {
            "text/plain": [
              "\"xxbos xxmaj talk about xxunk . xxmaj the xxunk / home video cover of ' the xxmaj new xxmaj twenty\""
            ],
            "application/vnd.google.colaboratory.intrinsic+json": {
              "type": "string"
            }
          },
          "metadata": {},
          "execution_count": 21
        }
      ]
    },
    {
      "cell_type": "code",
      "source": [
        "num200 = toks200.map(num)\n",
        "\n",
        "dl = LMDataLoader(num200)\n",
        "x,y = first(dl)\n",
        "x.shape, y.shape"
      ],
      "metadata": {
        "colab": {
          "base_uri": "https://localhost:8080/"
        },
        "id": "e4v_PJSuDs_n",
        "outputId": "ce10890c-fc4e-4010-c28e-948aada8a86a"
      },
      "execution_count": 22,
      "outputs": [
        {
          "output_type": "execute_result",
          "data": {
            "text/plain": [
              "(torch.Size([64, 72]), torch.Size([64, 72]))"
            ]
          },
          "metadata": {},
          "execution_count": 22
        }
      ]
    },
    {
      "cell_type": "code",
      "source": [
        "' '.join(num.vocab[o] for o in x[0][:20])"
      ],
      "metadata": {
        "colab": {
          "base_uri": "https://localhost:8080/",
          "height": 35
        },
        "id": "BblvDXsXO3i9",
        "outputId": "cdd9b758-74f8-42ca-ad6d-bf712bdeb658"
      },
      "execution_count": 23,
      "outputs": [
        {
          "output_type": "execute_result",
          "data": {
            "text/plain": [
              "\"xxbos xxmaj talk about xxunk . xxmaj the xxunk / home video cover of ' the xxmaj new xxmaj twenty\""
            ],
            "application/vnd.google.colaboratory.intrinsic+json": {
              "type": "string"
            }
          },
          "metadata": {},
          "execution_count": 23
        }
      ]
    },
    {
      "cell_type": "code",
      "source": [
        "' '.join(num.vocab[o] for o in y[0][:20])"
      ],
      "metadata": {
        "colab": {
          "base_uri": "https://localhost:8080/",
          "height": 35
        },
        "id": "Z3rlVJurPELZ",
        "outputId": "c3fa0635-1734-4e1a-baa1-376d7ced20b1"
      },
      "execution_count": 24,
      "outputs": [
        {
          "output_type": "execute_result",
          "data": {
            "text/plain": [
              "\"xxmaj talk about xxunk . xxmaj the xxunk / home video cover of ' the xxmaj new xxmaj twenty '\""
            ],
            "application/vnd.google.colaboratory.intrinsic+json": {
              "type": "string"
            }
          },
          "metadata": {},
          "execution_count": 24
        }
      ]
    },
    {
      "cell_type": "markdown",
      "source": [
        "#Training a Text Classifier"
      ],
      "metadata": {
        "id": "Q9meXs9Bqthz"
      }
    },
    {
      "cell_type": "code",
      "source": [
        "get_imdb = partial(get_text_files, folders=['train','test','unsup'])\n",
        "dls_lm = DataBlock(\n",
        "    blocks=TextBlock.from_folder(path,is_lm=True),\n",
        "    get_items = get_imdb, splitter = RandomSplitter(0.1)\n",
        "\n",
        ").dataloaders(path,path=path,bs=128,seq_len=80)"
      ],
      "metadata": {
        "id": "wgEYn9KTPPYx"
      },
      "execution_count": 29,
      "outputs": []
    },
    {
      "cell_type": "code",
      "source": [],
      "metadata": {
        "id": "v3rPDUyCrNsO"
      },
      "execution_count": null,
      "outputs": []
    },
    {
      "cell_type": "code",
      "source": [
        "dls_lm.show_batch(max_n=2)"
      ],
      "metadata": {
        "colab": {
          "base_uri": "https://localhost:8080/",
          "height": 268
        },
        "id": "CjoqMTIarf25",
        "outputId": "75258b57-51a9-4257-90d9-cf7b341285f6"
      },
      "execution_count": 30,
      "outputs": [
        {
          "output_type": "display_data",
          "data": {
            "text/plain": [
              "<IPython.core.display.HTML object>"
            ],
            "text/html": [
              "<table border=\"1\" class=\"dataframe\">\n",
              "  <thead>\n",
              "    <tr style=\"text-align: right;\">\n",
              "      <th></th>\n",
              "      <th>text</th>\n",
              "      <th>text_</th>\n",
              "    </tr>\n",
              "  </thead>\n",
              "  <tbody>\n",
              "    <tr>\n",
              "      <th>0</th>\n",
              "      <td>xxbos xxmaj the only reason i rented this movie was because of the cute looking girl on the cover . xxmaj if i had known , what i know now , not too judge a book / film by its cover , i would just have rented one of the lotr movies again . xxmaj i 'm not the kind who dislikes movies just because they are unrealistic .. but this is just too much ! \\n\\n i think the</td>\n",
              "      <td>xxmaj the only reason i rented this movie was because of the cute looking girl on the cover . xxmaj if i had known , what i know now , not too judge a book / film by its cover , i would just have rented one of the lotr movies again . xxmaj i 'm not the kind who dislikes movies just because they are unrealistic .. but this is just too much ! \\n\\n i think the main</td>\n",
              "    </tr>\n",
              "    <tr>\n",
              "      <th>1</th>\n",
              "      <td>xxmaj the thing even ends up having fun with the boys -- that 's xxup if you consider beheadings , dismemberment and masturbation with severed limbs \" fun \" . \\n\\n xxmaj once again , it all sounds better on paper than it looks and sounds on film . \\n\\n xxmaj just as xxmaj komizu mangled xxup living xxup dead xxup at xxup tokyo xxup bay with his ineptitude , he also mangles this effort and is only saved by</td>\n",
              "      <td>the thing even ends up having fun with the boys -- that 's xxup if you consider beheadings , dismemberment and masturbation with severed limbs \" fun \" . \\n\\n xxmaj once again , it all sounds better on paper than it looks and sounds on film . \\n\\n xxmaj just as xxmaj komizu mangled xxup living xxup dead xxup at xxup tokyo xxup bay with his ineptitude , he also mangles this effort and is only saved by some</td>\n",
              "    </tr>\n",
              "  </tbody>\n",
              "</table>"
            ]
          },
          "metadata": {}
        }
      ]
    },
    {
      "cell_type": "code",
      "source": [
        "learn = language_model_learner(dls_lm,AWD_LSTM, drop_mult=0.3,\n",
        "                               metrics=[accuracy,Perplexity()]).to_fp16()"
      ],
      "metadata": {
        "colab": {
          "base_uri": "https://localhost:8080/",
          "height": 37
        },
        "id": "QEaXFVO9src-",
        "outputId": "b92fc489-0f91-4b5c-9da1-9167bd02fe6d"
      },
      "execution_count": 32,
      "outputs": [
        {
          "output_type": "display_data",
          "data": {
            "text/plain": [
              "<IPython.core.display.HTML object>"
            ],
            "text/html": [
              "\n",
              "<style>\n",
              "    /* Turns off some styling */\n",
              "    progress {\n",
              "        /* gets rid of default border in Firefox and Opera. */\n",
              "        border: none;\n",
              "        /* Needs to be in here for Safari polyfill so background images work as expected. */\n",
              "        background-size: auto;\n",
              "    }\n",
              "    progress:not([value]), progress:not([value])::-webkit-progress-bar {\n",
              "        background: repeating-linear-gradient(45deg, #7e7e7e, #7e7e7e 10px, #5c5c5c 10px, #5c5c5c 20px);\n",
              "    }\n",
              "    .progress-bar-interrupted, .progress-bar-interrupted::-webkit-progress-bar {\n",
              "        background: #F44336;\n",
              "    }\n",
              "</style>\n"
            ]
          },
          "metadata": {}
        },
        {
          "output_type": "display_data",
          "data": {
            "text/plain": [
              "<IPython.core.display.HTML object>"
            ],
            "text/html": [
              "\n",
              "    <div>\n",
              "      <progress value='105070592' class='' max='105067061' style='width:300px; height:20px; vertical-align: middle;'></progress>\n",
              "      100.00% [105070592/105067061 00:01&lt;00:00]\n",
              "    </div>\n",
              "    "
            ]
          },
          "metadata": {}
        }
      ]
    },
    {
      "cell_type": "code",
      "source": [
        "learn.fit_one_cycle(1,2e-2)"
      ],
      "metadata": {
        "colab": {
          "base_uri": "https://localhost:8080/",
          "height": 81
        },
        "id": "RS7YQA0Bs7w_",
        "outputId": "a55385b4-87b0-473d-d654-5254f2619aaf"
      },
      "execution_count": 33,
      "outputs": [
        {
          "output_type": "display_data",
          "data": {
            "text/plain": [
              "<IPython.core.display.HTML object>"
            ],
            "text/html": [
              "\n",
              "<style>\n",
              "    /* Turns off some styling */\n",
              "    progress {\n",
              "        /* gets rid of default border in Firefox and Opera. */\n",
              "        border: none;\n",
              "        /* Needs to be in here for Safari polyfill so background images work as expected. */\n",
              "        background-size: auto;\n",
              "    }\n",
              "    progress:not([value]), progress:not([value])::-webkit-progress-bar {\n",
              "        background: repeating-linear-gradient(45deg, #7e7e7e, #7e7e7e 10px, #5c5c5c 10px, #5c5c5c 20px);\n",
              "    }\n",
              "    .progress-bar-interrupted, .progress-bar-interrupted::-webkit-progress-bar {\n",
              "        background: #F44336;\n",
              "    }\n",
              "</style>\n"
            ]
          },
          "metadata": {}
        },
        {
          "output_type": "display_data",
          "data": {
            "text/plain": [
              "<IPython.core.display.HTML object>"
            ],
            "text/html": [
              "<table border=\"1\" class=\"dataframe\">\n",
              "  <thead>\n",
              "    <tr style=\"text-align: left;\">\n",
              "      <th>epoch</th>\n",
              "      <th>train_loss</th>\n",
              "      <th>valid_loss</th>\n",
              "      <th>accuracy</th>\n",
              "      <th>perplexity</th>\n",
              "      <th>time</th>\n",
              "    </tr>\n",
              "  </thead>\n",
              "  <tbody>\n",
              "    <tr>\n",
              "      <td>0</td>\n",
              "      <td>4.008992</td>\n",
              "      <td>3.900707</td>\n",
              "      <td>0.300658</td>\n",
              "      <td>49.437378</td>\n",
              "      <td>31:43</td>\n",
              "    </tr>\n",
              "  </tbody>\n",
              "</table>"
            ]
          },
          "metadata": {}
        }
      ]
    },
    {
      "cell_type": "code",
      "source": [
        "learn.save('1epoch')"
      ],
      "metadata": {
        "colab": {
          "base_uri": "https://localhost:8080/"
        },
        "id": "bxX2r2I9uGRK",
        "outputId": "c119a1fb-a640-43a7-cf26-3c3310ccdf1b"
      },
      "execution_count": 34,
      "outputs": [
        {
          "output_type": "execute_result",
          "data": {
            "text/plain": [
              "Path('/root/.fastai/data/imdb/models/1epoch.pth')"
            ]
          },
          "metadata": {},
          "execution_count": 34
        }
      ]
    },
    {
      "cell_type": "code",
      "source": [
        "learn = learn.load('1epoch')"
      ],
      "metadata": {
        "id": "AqQLdTnEuU1c"
      },
      "execution_count": 35,
      "outputs": []
    },
    {
      "cell_type": "code",
      "source": [
        "learn.unfreeze()\n",
        "learn.fit_one_cycle(10,2e-3)"
      ],
      "metadata": {
        "colab": {
          "base_uri": "https://localhost:8080/",
          "height": 613
        },
        "id": "pbuN3gqWueiU",
        "outputId": "92ffabe2-31e3-4168-eb1d-b13428d5cdd5"
      },
      "execution_count": null,
      "outputs": [
        {
          "data": {
            "text/html": [
              "\n",
              "<style>\n",
              "    /* Turns off some styling */\n",
              "    progress {\n",
              "        /* gets rid of default border in Firefox and Opera. */\n",
              "        border: none;\n",
              "        /* Needs to be in here for Safari polyfill so background images work as expected. */\n",
              "        background-size: auto;\n",
              "    }\n",
              "    progress:not([value]), progress:not([value])::-webkit-progress-bar {\n",
              "        background: repeating-linear-gradient(45deg, #7e7e7e, #7e7e7e 10px, #5c5c5c 10px, #5c5c5c 20px);\n",
              "    }\n",
              "    .progress-bar-interrupted, .progress-bar-interrupted::-webkit-progress-bar {\n",
              "        background: #F44336;\n",
              "    }\n",
              "</style>\n"
            ],
            "text/plain": [
              "<IPython.core.display.HTML object>"
            ]
          },
          "metadata": {},
          "output_type": "display_data"
        },
        {
          "data": {
            "text/html": [
              "\n",
              "    <div>\n",
              "      <progress value='7' class='' max='10' style='width:300px; height:20px; vertical-align: middle;'></progress>\n",
              "      70.00% [7/10 3:55:38&lt;1:40:59]\n",
              "    </div>\n",
              "    \n",
              "<table border=\"1\" class=\"dataframe\">\n",
              "  <thead>\n",
              "    <tr style=\"text-align: left;\">\n",
              "      <th>epoch</th>\n",
              "      <th>train_loss</th>\n",
              "      <th>valid_loss</th>\n",
              "      <th>accuracy</th>\n",
              "      <th>perplexity</th>\n",
              "      <th>time</th>\n",
              "    </tr>\n",
              "  </thead>\n",
              "  <tbody>\n",
              "    <tr>\n",
              "      <td>0</td>\n",
              "      <td>3.765435</td>\n",
              "      <td>3.758941</td>\n",
              "      <td>0.317011</td>\n",
              "      <td>42.902973</td>\n",
              "      <td>32:58</td>\n",
              "    </tr>\n",
              "    <tr>\n",
              "      <td>1</td>\n",
              "      <td>3.700974</td>\n",
              "      <td>3.698098</td>\n",
              "      <td>0.323499</td>\n",
              "      <td>40.370464</td>\n",
              "      <td>33:21</td>\n",
              "    </tr>\n",
              "    <tr>\n",
              "      <td>2</td>\n",
              "      <td>3.636397</td>\n",
              "      <td>3.649762</td>\n",
              "      <td>0.329243</td>\n",
              "      <td>38.465508</td>\n",
              "      <td>32:58</td>\n",
              "    </tr>\n",
              "    <tr>\n",
              "      <td>3</td>\n",
              "      <td>3.561210</td>\n",
              "      <td>3.622722</td>\n",
              "      <td>0.332570</td>\n",
              "      <td>37.439346</td>\n",
              "      <td>33:26</td>\n",
              "    </tr>\n",
              "    <tr>\n",
              "      <td>4</td>\n",
              "      <td>3.497691</td>\n",
              "      <td>3.595734</td>\n",
              "      <td>0.335588</td>\n",
              "      <td>36.442444</td>\n",
              "      <td>34:06</td>\n",
              "    </tr>\n",
              "    <tr>\n",
              "      <td>5</td>\n",
              "      <td>3.434902</td>\n",
              "      <td>3.581138</td>\n",
              "      <td>0.338027</td>\n",
              "      <td>35.914402</td>\n",
              "      <td>34:23</td>\n",
              "    </tr>\n",
              "    <tr>\n",
              "      <td>6</td>\n",
              "      <td>3.368040</td>\n",
              "      <td>3.571487</td>\n",
              "      <td>0.339413</td>\n",
              "      <td>35.569435</td>\n",
              "      <td>34:23</td>\n",
              "    </tr>\n",
              "  </tbody>\n",
              "</table><p>\n",
              "\n",
              "    <div>\n",
              "      <progress value='525' class='' max='2631' style='width:300px; height:20px; vertical-align: middle;'></progress>\n",
              "      19.95% [525/2631 06:20&lt;25:26 3.2739]\n",
              "    </div>\n",
              "    "
            ],
            "text/plain": [
              "<IPython.core.display.HTML object>"
            ]
          },
          "metadata": {},
          "output_type": "display_data"
        },
        {
          "output_type": "display_data",
          "data": {
            "text/plain": [
              "<IPython.core.display.HTML object>"
            ],
            "text/html": [
              "\n",
              "    <div>\n",
              "      <progress value='7' class='' max='10' style='width:300px; height:20px; vertical-align: middle;'></progress>\n",
              "      70.00% [7/10 3:55:38&lt;1:40:59]\n",
              "    </div>\n",
              "    \n",
              "<table border=\"1\" class=\"dataframe\">\n",
              "  <thead>\n",
              "    <tr style=\"text-align: left;\">\n",
              "      <th>epoch</th>\n",
              "      <th>train_loss</th>\n",
              "      <th>valid_loss</th>\n",
              "      <th>accuracy</th>\n",
              "      <th>perplexity</th>\n",
              "      <th>time</th>\n",
              "    </tr>\n",
              "  </thead>\n",
              "  <tbody>\n",
              "    <tr>\n",
              "      <td>0</td>\n",
              "      <td>3.765435</td>\n",
              "      <td>3.758941</td>\n",
              "      <td>0.317011</td>\n",
              "      <td>42.902973</td>\n",
              "      <td>32:58</td>\n",
              "    </tr>\n",
              "    <tr>\n",
              "      <td>1</td>\n",
              "      <td>3.700974</td>\n",
              "      <td>3.698098</td>\n",
              "      <td>0.323499</td>\n",
              "      <td>40.370464</td>\n",
              "      <td>33:21</td>\n",
              "    </tr>\n",
              "    <tr>\n",
              "      <td>2</td>\n",
              "      <td>3.636397</td>\n",
              "      <td>3.649762</td>\n",
              "      <td>0.329243</td>\n",
              "      <td>38.465508</td>\n",
              "      <td>32:58</td>\n",
              "    </tr>\n",
              "    <tr>\n",
              "      <td>3</td>\n",
              "      <td>3.561210</td>\n",
              "      <td>3.622722</td>\n",
              "      <td>0.332570</td>\n",
              "      <td>37.439346</td>\n",
              "      <td>33:26</td>\n",
              "    </tr>\n",
              "    <tr>\n",
              "      <td>4</td>\n",
              "      <td>3.497691</td>\n",
              "      <td>3.595734</td>\n",
              "      <td>0.335588</td>\n",
              "      <td>36.442444</td>\n",
              "      <td>34:06</td>\n",
              "    </tr>\n",
              "    <tr>\n",
              "      <td>5</td>\n",
              "      <td>3.434902</td>\n",
              "      <td>3.581138</td>\n",
              "      <td>0.338027</td>\n",
              "      <td>35.914402</td>\n",
              "      <td>34:23</td>\n",
              "    </tr>\n",
              "    <tr>\n",
              "      <td>6</td>\n",
              "      <td>3.368040</td>\n",
              "      <td>3.571487</td>\n",
              "      <td>0.339413</td>\n",
              "      <td>35.569435</td>\n",
              "      <td>34:23</td>\n",
              "    </tr>\n",
              "  </tbody>\n",
              "</table><p>\n",
              "\n",
              "    <div>\n",
              "      <progress value='1719' class='' max='2631' style='width:300px; height:20px; vertical-align: middle;'></progress>\n",
              "      65.34% [1719/2631 20:40&lt;10:58 3.3002]\n",
              "    </div>\n",
              "    "
            ]
          },
          "metadata": {}
        }
      ]
    },
    {
      "cell_type": "code",
      "source": [
        "learn.save_encoder('finetuned')"
      ],
      "metadata": {
        "id": "TSxJURIeupJF"
      },
      "execution_count": null,
      "outputs": []
    },
    {
      "cell_type": "markdown",
      "source": [
        "# Text Generation"
      ],
      "metadata": {
        "id": "MIAxlpIpPzB6"
      }
    },
    {
      "cell_type": "code",
      "source": [
        "Text = ' I liked this movie because'\n",
        "n_words=40\n",
        "n_sentences = 2\n",
        "\n",
        "preds= [learn.predict(Text,n_words,temperature=0.75) for _ in range(n_sentences)]\n",
        "\n",
        "print('\\n'.join(preds))"
      ],
      "metadata": {
        "id": "8xebfu1cu9Ul"
      },
      "execution_count": null,
      "outputs": []
    },
    {
      "cell_type": "markdown",
      "source": [
        "# Classifier DataLoader"
      ],
      "metadata": {
        "id": "CP5L5D0kUuhX"
      }
    },
    {
      "cell_type": "code",
      "source": [
        "dls_class = DataBlock(\n",
        "    blocks=(TextBlock.from_folder(path,vocab=dls_lm.vocab), CategoryBlock),\n",
        "    get_y = parent_label,\n",
        "    get_items=partial(get_text_files,folders=['train','test']),\n",
        "    splitter = GrandparentSplitter(valid_name='test')\n",
        ").dataloaders(path,path=path,bs=128,seq_len=72)"
      ],
      "metadata": {
        "id": "bQmYZlVAQiQ-"
      },
      "execution_count": null,
      "outputs": []
    },
    {
      "cell_type": "code",
      "source": [
        "dls_class.show_batch(max_n=3)"
      ],
      "metadata": {
        "id": "nKwNIMaPRrtG"
      },
      "execution_count": null,
      "outputs": []
    },
    {
      "cell_type": "code",
      "source": [
        "nums_samp = toks200[:10].map(num)\n",
        "nums_samp.map(len)"
      ],
      "metadata": {
        "id": "pJ9mxqSfR9_X"
      },
      "execution_count": null,
      "outputs": []
    },
    {
      "cell_type": "code",
      "source": [
        "learn = text_classifier_learner(dls_class,AWD_LSTM, drop_mult=0.5,\n",
        "                                metrics=accuracy).to_fp16()"
      ],
      "metadata": {
        "id": "gSadO01cSpKu"
      },
      "execution_count": null,
      "outputs": []
    },
    {
      "cell_type": "code",
      "source": [
        "learn = learn.load_encoder('finetuned')"
      ],
      "metadata": {
        "id": "UK0nqrLOT1hS"
      },
      "execution_count": null,
      "outputs": []
    },
    {
      "cell_type": "markdown",
      "source": [
        "# Fine-Tuning the Classifier"
      ],
      "metadata": {
        "id": "8V-VF0t-Un3L"
      }
    },
    {
      "cell_type": "code",
      "source": [
        "learn.fit_one_cycle(1,2e-2)"
      ],
      "metadata": {
        "id": "FYtR58q1UHiM"
      },
      "execution_count": null,
      "outputs": []
    },
    {
      "cell_type": "code",
      "source": [
        "learn.freeze_to(-2)\n",
        "learn.fit_one_cycle(1, slice(1e-2/(2.6**4),1e-2))"
      ],
      "metadata": {
        "id": "lcFtQ5w6UmDL"
      },
      "execution_count": null,
      "outputs": []
    },
    {
      "cell_type": "code",
      "source": [
        "learn.freeze_to(-3)\n",
        "learn.fit_one_cycle(1, slice(5e-3/(2.6**4),5e-3))"
      ],
      "metadata": {
        "id": "nnnGTU1VVNtf"
      },
      "execution_count": null,
      "outputs": []
    },
    {
      "cell_type": "code",
      "source": [
        "learn.unfreeze()\n",
        "learn.fit_one_cycle(2,slice(1e-3/(2.6**4),1e-3))"
      ],
      "metadata": {
        "id": "rYFlEGVuVzAm"
      },
      "execution_count": null,
      "outputs": []
    },
    {
      "cell_type": "code",
      "source": [],
      "metadata": {
        "id": "y1R0zZovWBEC"
      },
      "execution_count": null,
      "outputs": []
    }
  ]
}